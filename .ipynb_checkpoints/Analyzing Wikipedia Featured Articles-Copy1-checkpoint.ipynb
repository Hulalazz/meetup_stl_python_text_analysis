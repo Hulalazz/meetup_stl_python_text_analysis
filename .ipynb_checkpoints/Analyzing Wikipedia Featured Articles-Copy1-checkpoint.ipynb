{
 "cells": [
  {
   "cell_type": "code",
   "execution_count": 1,
   "metadata": {
    "collapsed": false
   },
   "outputs": [],
   "source": [
    "import os\n",
    "import codecs\n",
    "import numpy as np\n",
    "import random\n",
    "from sklearn.feature_extraction.text import CountVectorizer, TfidfTransformer\n",
    "from sklearn.metrics import pairwise_distances"
   ]
  },
  {
   "cell_type": "markdown",
   "metadata": {},
   "source": [
    "###### Create list of files containing articles"
   ]
  },
  {
   "cell_type": "code",
   "execution_count": 2,
   "metadata": {
    "collapsed": true
   },
   "outputs": [],
   "source": [
    "path = 'D:\\\\Datasets\\\\Wikipedia Featured Articles'\n",
    "filenames2 = [os.path.join(path, f) for f in os.listdir(path)]"
   ]
  },
  {
   "cell_type": "code",
   "execution_count": 3,
   "metadata": {
    "collapsed": false
   },
   "outputs": [
    {
     "data": {
      "text/plain": [
       "4508"
      ]
     },
     "execution_count": 3,
     "metadata": {},
     "output_type": "execute_result"
    }
   ],
   "source": [
    "len(filenames2)"
   ]
  },
  {
   "cell_type": "code",
   "execution_count": 4,
   "metadata": {
    "collapsed": true
   },
   "outputs": [],
   "source": [
    "filenames = random.sample(filenames2, k=100)"
   ]
  },
  {
   "cell_type": "code",
   "execution_count": 5,
   "metadata": {
    "collapsed": false
   },
   "outputs": [
    {
     "data": {
      "text/plain": [
       "100"
      ]
     },
     "execution_count": 5,
     "metadata": {},
     "output_type": "execute_result"
    }
   ],
   "source": [
    "len(filenames)"
   ]
  },
  {
   "cell_type": "code",
   "execution_count": 6,
   "metadata": {
    "collapsed": false
   },
   "outputs": [],
   "source": [
    "file_contents = [[line[:-1] for line in codecs.open(fn, 'r', encoding='utf8').readlines()] for fn in filenames]"
   ]
  },
  {
   "cell_type": "code",
   "execution_count": 7,
   "metadata": {
    "collapsed": false,
    "scrolled": false
   },
   "outputs": [],
   "source": [
    "articles = [tup[4] for tup in file_contents]"
   ]
  },
  {
   "cell_type": "markdown",
   "metadata": {},
   "source": [
    "###### Create CountVectorizer and pass it the list of filenames for reading and analyzing"
   ]
  },
  {
   "cell_type": "code",
   "execution_count": 8,
   "metadata": {
    "collapsed": true
   },
   "outputs": [],
   "source": [
    "cv = CountVectorizer(stop_words='english')\n",
    "count_mat = cv.fit_transform(articles)"
   ]
  },
  {
   "cell_type": "code",
   "execution_count": 9,
   "metadata": {
    "collapsed": false
   },
   "outputs": [
    {
     "data": {
      "text/plain": [
       "<100x47641 sparse matrix of type '<type 'numpy.int64'>'\n",
       "\twith 171062 stored elements in Compressed Sparse Row format>"
      ]
     },
     "execution_count": 9,
     "metadata": {},
     "output_type": "execute_result"
    }
   ],
   "source": [
    "count_mat"
   ]
  },
  {
   "cell_type": "code",
   "execution_count": 10,
   "metadata": {
    "collapsed": true
   },
   "outputs": [],
   "source": [
    "tfidf = TfidfTransformer()\n",
    "tfidf_mat = tfidf.fit_transform(count_mat)"
   ]
  },
  {
   "cell_type": "code",
   "execution_count": 11,
   "metadata": {
    "collapsed": true
   },
   "outputs": [],
   "source": [
    "dist_mat = pairwise_distances(tfidf_mat)"
   ]
  },
  {
   "cell_type": "code",
   "execution_count": 12,
   "metadata": {
    "collapsed": true
   },
   "outputs": [],
   "source": [
    "def get_closest_pairs(dist_mat, names, num=10, ignore_zeros=False):\n",
    "    \"\"\"Finds pairs with closest non-zero distances.\"\"\"\n",
    "    dist_mat = np.copy(dist_mat)\n",
    "    # Set zero values to infinity so they are ignore in the partitioning.\n",
    "    dist_mat[np.triu_indices_from(dist_mat)] = np.inf\n",
    "    if ignore_zeros:\n",
    "        dist_mat[dist_mat == 0] = np.inf\n",
    "    # Unravel the matrix indices and partition num lowest numbers.\n",
    "    unr_index = np.unravel_index(dist_mat.argpartition(num, axis=None), dist_mat.shape)\n",
    "    # Get document names for pairs.\n",
    "    dist_pairs = [(names[unr_index[0][i]],        # First doc\n",
    "                   names[unr_index[1][i]],        # Second doc\n",
    "                   dist_mat[unr_index[0][i], unr_index[1][i]])   # Distance between docs\n",
    "                   for i in xrange(num)]                # First num indices\n",
    "    return sorted(dist_pairs, key=lambda tup: tup[2])"
   ]
  },
  {
   "cell_type": "code",
   "execution_count": 13,
   "metadata": {
    "collapsed": false
   },
   "outputs": [],
   "source": [
    "closest = get_closest_pairs(dist_mat, filenames)"
   ]
  },
  {
   "cell_type": "code",
   "execution_count": 14,
   "metadata": {
    "collapsed": false
   },
   "outputs": [
    {
     "data": {
      "text/plain": [
       "[('D:\\\\Datasets\\\\Wikipedia Featured Articles\\\\wiki_Kennedy_half_dollar.txt',\n",
       "  'D:\\\\Datasets\\\\Wikipedia Featured Articles\\\\wiki_Flowing_Hair_dollar.txt',\n",
       "  0.78562623806734377),\n",
       " ('D:\\\\Datasets\\\\Wikipedia Featured Articles\\\\wiki_Flowing_Hair_dollar.txt',\n",
       "  'D:\\\\Datasets\\\\Wikipedia Featured Articles\\\\wiki_California_Diamond_Jubilee_half_dollar.txt',\n",
       "  0.79505895936509552),\n",
       " ('D:\\\\Datasets\\\\Wikipedia Featured Articles\\\\wiki_Hydrus.txt',\n",
       "  'D:\\\\Datasets\\\\Wikipedia Featured Articles\\\\wiki_Pavo_(constellation).txt',\n",
       "  0.90189924269117361),\n",
       " ('D:\\\\Datasets\\\\Wikipedia Featured Articles\\\\wiki_SMS_K%C3%B6nig.txt',\n",
       "  'D:\\\\Datasets\\\\Wikipedia Featured Articles\\\\wiki_SMS_Markgraf.txt',\n",
       "  0.91029048702550042),\n",
       " ('D:\\\\Datasets\\\\Wikipedia Featured Articles\\\\wiki_Kennedy_half_dollar.txt',\n",
       "  'D:\\\\Datasets\\\\Wikipedia Featured Articles\\\\wiki_California_Diamond_Jubilee_half_dollar.txt',\n",
       "  0.91933310243041322),\n",
       " ('D:\\\\Datasets\\\\Wikipedia Featured Articles\\\\wiki_Liberty_Head_double_eagle.txt',\n",
       "  'D:\\\\Datasets\\\\Wikipedia Featured Articles\\\\wiki_Flowing_Hair_dollar.txt',\n",
       "  0.92308058565293416),\n",
       " ('D:\\\\Datasets\\\\Wikipedia Featured Articles\\\\wiki_Battle_of_San_Patricio.txt',\n",
       "  'D:\\\\Datasets\\\\Wikipedia Featured Articles\\\\wiki_Grass_Fight.txt',\n",
       "  0.93705612809807093),\n",
       " ('D:\\\\Datasets\\\\Wikipedia Featured Articles\\\\wiki_Liberty_Head_double_eagle.txt',\n",
       "  'D:\\\\Datasets\\\\Wikipedia Featured Articles\\\\wiki_California_Diamond_Jubilee_half_dollar.txt',\n",
       "  0.94514623416966759),\n",
       " ('D:\\\\Datasets\\\\Wikipedia Featured Articles\\\\wiki_1995_Pacific_hurricane_season.txt',\n",
       "  'D:\\\\Datasets\\\\Wikipedia Featured Articles\\\\wiki_1941_Florida_hurricane.txt',\n",
       "  0.96965624083814428),\n",
       " ('D:\\\\Datasets\\\\Wikipedia Featured Articles\\\\wiki_Kennedy_half_dollar.txt',\n",
       "  'D:\\\\Datasets\\\\Wikipedia Featured Articles\\\\wiki_Liberty_Head_double_eagle.txt',\n",
       "  1.0212766792925003)]"
      ]
     },
     "execution_count": 14,
     "metadata": {},
     "output_type": "execute_result"
    }
   ],
   "source": [
    "closest"
   ]
  },
  {
   "cell_type": "code",
   "execution_count": 15,
   "metadata": {
    "collapsed": false
   },
   "outputs": [],
   "source": [
    "def get_weighted_vocab(name, names, matrix, cv):\n",
    "    # Get the index of a song in the titles list.\n",
    "    name_index = names.index(name)\n",
    "    # This index corresponds the the row for this song in the matrix.\n",
    "    # Get indices for all non-zero elements in the document vector.\n",
    "    ind = np.nonzero(matrix[name_index])[1]\n",
    "    # Create a term to index dict.\n",
    "    t = zip(*cv.vocabulary_.items())\n",
    "    term_ind = dict(zip(t[1], t[0]))\n",
    "    return sorted([(matrix[name_index, i], term_ind[i]) for i in ind])"
   ]
  },
  {
   "cell_type": "code",
   "execution_count": 16,
   "metadata": {
    "collapsed": false,
    "scrolled": false
   },
   "outputs": [
    {
     "ename": "ValueError",
     "evalue": "'D:\\\\Datasets\\\\Wikipedia Featured Articles\\\\wiki_Discovery_Expedition.txt' is not in list",
     "output_type": "error",
     "traceback": [
      "\u001b[1;31m---------------------------------------------------------------------------\u001b[0m",
      "\u001b[1;31mValueError\u001b[0m                                Traceback (most recent call last)",
      "\u001b[1;32m<ipython-input-16-02341920c4b8>\u001b[0m in \u001b[0;36m<module>\u001b[1;34m()\u001b[0m\n\u001b[0;32m      1\u001b[0m \u001b[0mname\u001b[0m \u001b[1;33m=\u001b[0m \u001b[1;34m'D:\\\\Datasets\\\\Wikipedia Featured Articles\\\\wiki_Discovery_Expedition.txt'\u001b[0m\u001b[1;33m\u001b[0m\u001b[0m\n\u001b[1;32m----> 2\u001b[1;33m \u001b[0mget_weighted_vocab\u001b[0m\u001b[1;33m(\u001b[0m\u001b[0mname\u001b[0m\u001b[1;33m,\u001b[0m \u001b[0mfilenames\u001b[0m\u001b[1;33m,\u001b[0m \u001b[0mtfidf_mat\u001b[0m\u001b[1;33m,\u001b[0m \u001b[0mcv\u001b[0m\u001b[1;33m)\u001b[0m\u001b[1;33m[\u001b[0m\u001b[1;33m-\u001b[0m\u001b[1;36m100\u001b[0m\u001b[1;33m:\u001b[0m\u001b[1;33m]\u001b[0m\u001b[1;33m\u001b[0m\u001b[0m\n\u001b[0m",
      "\u001b[1;32m<ipython-input-15-e01fc80d19df>\u001b[0m in \u001b[0;36mget_weighted_vocab\u001b[1;34m(name, names, matrix, cv)\u001b[0m\n\u001b[0;32m      1\u001b[0m \u001b[1;32mdef\u001b[0m \u001b[0mget_weighted_vocab\u001b[0m\u001b[1;33m(\u001b[0m\u001b[0mname\u001b[0m\u001b[1;33m,\u001b[0m \u001b[0mnames\u001b[0m\u001b[1;33m,\u001b[0m \u001b[0mmatrix\u001b[0m\u001b[1;33m,\u001b[0m \u001b[0mcv\u001b[0m\u001b[1;33m)\u001b[0m\u001b[1;33m:\u001b[0m\u001b[1;33m\u001b[0m\u001b[0m\n\u001b[0;32m      2\u001b[0m     \u001b[1;31m# Get the index of a song in the titles list.\u001b[0m\u001b[1;33m\u001b[0m\u001b[1;33m\u001b[0m\u001b[0m\n\u001b[1;32m----> 3\u001b[1;33m     \u001b[0mname_index\u001b[0m \u001b[1;33m=\u001b[0m \u001b[0mnames\u001b[0m\u001b[1;33m.\u001b[0m\u001b[0mindex\u001b[0m\u001b[1;33m(\u001b[0m\u001b[0mname\u001b[0m\u001b[1;33m)\u001b[0m\u001b[1;33m\u001b[0m\u001b[0m\n\u001b[0m\u001b[0;32m      4\u001b[0m     \u001b[1;31m# This index corresponds the the row for this song in the matrix.\u001b[0m\u001b[1;33m\u001b[0m\u001b[1;33m\u001b[0m\u001b[0m\n\u001b[0;32m      5\u001b[0m     \u001b[1;31m# Get indices for all non-zero elements in the document vector.\u001b[0m\u001b[1;33m\u001b[0m\u001b[1;33m\u001b[0m\u001b[0m\n",
      "\u001b[1;31mValueError\u001b[0m: 'D:\\\\Datasets\\\\Wikipedia Featured Articles\\\\wiki_Discovery_Expedition.txt' is not in list"
     ]
    }
   ],
   "source": [
    "name = 'D:\\\\Datasets\\\\Wikipedia Featured Articles\\\\wiki_Discovery_Expedition.txt'\n",
    "get_weighted_vocab(name, filenames, tfidf_mat, cv)[-100:]"
   ]
  },
  {
   "cell_type": "code",
   "execution_count": null,
   "metadata": {
    "collapsed": true
   },
   "outputs": [],
   "source": []
  },
  {
   "cell_type": "code",
   "execution_count": 19,
   "metadata": {
    "collapsed": false
   },
   "outputs": [
    {
     "data": {
      "text/plain": [
       "0.0"
      ]
     },
     "execution_count": 19,
     "metadata": {},
     "output_type": "execute_result"
    }
   ],
   "source": [
    "np.min(dist_mat)"
   ]
  },
  {
   "cell_type": "code",
   "execution_count": 20,
   "metadata": {
    "collapsed": false
   },
   "outputs": [
    {
     "data": {
      "text/plain": [
       "1.4133670556804145"
      ]
     },
     "execution_count": 20,
     "metadata": {},
     "output_type": "execute_result"
    }
   ],
   "source": [
    "np.max(dist_mat)"
   ]
  },
  {
   "cell_type": "code",
   "execution_count": 21,
   "metadata": {
    "collapsed": false
   },
   "outputs": [],
   "source": [
    "import matplotlib.pyplot as plt"
   ]
  },
  {
   "cell_type": "code",
   "execution_count": 22,
   "metadata": {
    "collapsed": true
   },
   "outputs": [],
   "source": [
    "%matplotlib inline"
   ]
  },
  {
   "cell_type": "code",
   "execution_count": 23,
   "metadata": {
    "collapsed": false
   },
   "outputs": [],
   "source": [
    "dists = dist_mat[np.triu_indices_from(dist_mat, k=1)]"
   ]
  },
  {
   "cell_type": "code",
   "execution_count": 24,
   "metadata": {
    "collapsed": false
   },
   "outputs": [
    {
     "data": {
      "image/png": "[encoded data removed]",
      "text/plain": [
       "<matplotlib.figure.Figure at 0x1c9629e8>"
      ]
     },
     "metadata": {},
     "output_type": "display_data"
    }
   ],
   "source": [
    "sorted_dists = np.sort(dists)\n",
    "plt.plot(xrange(len(sorted_dists)), sorted_dists)\n",
    "\n",
    "plt.show()"
   ]
  },
  {
   "cell_type": "code",
   "execution_count": 25,
   "metadata": {
    "collapsed": false
   },
   "outputs": [
    {
     "data": {
      "image/png": "[encoded data removed]",
      "text/plain": [
       "<matplotlib.figure.Figure at 0x1cc75128>"
      ]
     },
     "metadata": {},
     "output_type": "display_data"
    }
   ],
   "source": [
    "sorted_dists = np.sort(dists)\n",
    "plt.plot(sorted_dists, xrange(len(sorted_dists)))\n",
    "\n",
    "plt.show()"
   ]
  },
  {
   "cell_type": "code",
   "execution_count": 26,
   "metadata": {
    "collapsed": false
   },
   "outputs": [
    {
     "data": {
      "text/plain": [
       "100"
      ]
     },
     "execution_count": 26,
     "metadata": {},
     "output_type": "execute_result"
    }
   ],
   "source": [
    "len(articles)"
   ]
  },
  {
   "cell_type": "code",
   "execution_count": 27,
   "metadata": {
    "collapsed": false
   },
   "outputs": [
    {
     "data": {
      "image/png": "[encoded data removed]",
      "text/plain": [
       "<matplotlib.figure.Figure at 0x1cde56a0>"
      ]
     },
     "metadata": {},
     "output_type": "display_data"
    }
   ],
   "source": [
    "plt.hist(sorted_dists, bins=50)\n",
    "plt.show()"
   ]
  },
  {
   "cell_type": "code",
   "execution_count": 28,
   "metadata": {
    "collapsed": false
   },
   "outputs": [
    {
     "data": {
      "image/png": "[encoded data removed]",
      "text/plain": [
       "<matplotlib.figure.Figure at 0x1cde5c18>"
      ]
     },
     "metadata": {},
     "output_type": "display_data"
    }
   ],
   "source": [
    "sorted_dists = np.sort(dists)\n",
    "sorted_dists = sorted_dists[sorted_dists < 1]\n",
    "plt.plot(xrange(len(sorted_dists)), sorted_dists)\n",
    "\n",
    "plt.show()"
   ]
  },
  {
   "cell_type": "code",
   "execution_count": 29,
   "metadata": {
    "collapsed": false
   },
   "outputs": [
    {
     "data": {
      "text/plain": [
       "9"
      ]
     },
     "execution_count": 29,
     "metadata": {},
     "output_type": "execute_result"
    }
   ],
   "source": [
    "len(sorted_dists)"
   ]
  },
  {
   "cell_type": "code",
   "execution_count": null,
   "metadata": {
    "collapsed": true
   },
   "outputs": [],
   "source": []
  },
  {
   "cell_type": "code",
   "execution_count": null,
   "metadata": {
    "collapsed": true
   },
   "outputs": [],
   "source": []
  },
  {
   "cell_type": "code",
   "execution_count": null,
   "metadata": {
    "collapsed": true
   },
   "outputs": [],
   "source": []
  },
  {
   "cell_type": "code",
   "execution_count": null,
   "metadata": {
    "collapsed": true
   },
   "outputs": [],
   "source": []
  }
 ],
 "metadata": {
  "kernelspec": {
   "display_name": "Python 2",
   "language": "python",
   "name": "python2"
  },
  "language_info": {
   "codemirror_mode": {
    "name": "ipython",
    "version": 2
   },
   "file_extension": ".py",
   "mimetype": "text/x-python",
   "name": "python",
   "nbconvert_exporter": "python",
   "pygments_lexer": "ipython2",
   "version": "2.7.11"
  }
 },
 "nbformat": 4,
 "nbformat_minor": 0
}
