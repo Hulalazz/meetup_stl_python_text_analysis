{
 "cells": [
  {
   "cell_type": "code",
   "execution_count": 4,
   "metadata": {
    "collapsed": false
   },
   "outputs": [],
   "source": [
    "import os\n",
    "import codecs\n",
    "import numpy as np\n",
    "import random\n",
    "from sklearn.feature_extraction.text import CountVectorizer, TfidfTransformer\n",
    "from sklearn.metrics import pairwise_distances"
   ]
  },
  {
   "cell_type": "markdown",
   "metadata": {},
   "source": [
    "###### Create list of files containing articles"
   ]
  },
  {
   "cell_type": "code",
   "execution_count": 2,
   "metadata": {
    "collapsed": true
   },
   "outputs": [],
   "source": [
    "path = 'D:\\\\Datasets\\\\Wikipedia Featured Articles'\n",
    "filenames = [os.path.join(path, f) for f in os.listdir(path)]"
   ]
  },
  {
   "cell_type": "code",
   "execution_count": 3,
   "metadata": {
    "collapsed": false
   },
   "outputs": [
    {
     "data": {
      "text/plain": [
       "4508"
      ]
     },
     "execution_count": 3,
     "metadata": {},
     "output_type": "execute_result"
    }
   ],
   "source": [
    "len(filenames)"
   ]
  },
  {
   "cell_type": "code",
   "execution_count": 53,
   "metadata": {
    "collapsed": false
   },
   "outputs": [],
   "source": [
    "file_contents = [[line[:-1] for line in codecs.open(fn, 'r', encoding='utf8').readlines()] for fn in random.sample(filenames, k=100)]"
   ]
  },
  {
   "cell_type": "code",
   "execution_count": 54,
   "metadata": {
    "collapsed": false,
    "scrolled": false
   },
   "outputs": [],
   "source": [
    "articles = [tup[4] for tup in file_contents]"
   ]
  },
  {
   "cell_type": "markdown",
   "metadata": {},
   "source": [
    "###### Create CountVectorizer and pass it the list of filenames for reading and analyzing"
   ]
  },
  {
   "cell_type": "code",
   "execution_count": 55,
   "metadata": {
    "collapsed": true
   },
   "outputs": [],
   "source": [
    "cv = CountVectorizer()\n",
    "count_mat = cv.fit_transform(articles)"
   ]
  },
  {
   "cell_type": "code",
   "execution_count": 56,
   "metadata": {
    "collapsed": false
   },
   "outputs": [
    {
     "data": {
      "text/plain": [
       "<100x52984 sparse matrix of type '<type 'numpy.int64'>'\n",
       "\twith 210035 stored elements in Compressed Sparse Row format>"
      ]
     },
     "execution_count": 56,
     "metadata": {},
     "output_type": "execute_result"
    }
   ],
   "source": [
    "count_mat"
   ]
  },
  {
   "cell_type": "code",
   "execution_count": 57,
   "metadata": {
    "collapsed": true
   },
   "outputs": [],
   "source": [
    "tfidf = TfidfTransformer()\n",
    "tfidf_mat = tfidf.fit_transform(count_mat)"
   ]
  },
  {
   "cell_type": "code",
   "execution_count": 58,
   "metadata": {
    "collapsed": true
   },
   "outputs": [],
   "source": [
    "dist_mat = pairwise_distances(tfidf_mat)"
   ]
  },
  {
   "cell_type": "code",
   "execution_count": 59,
   "metadata": {
    "collapsed": true
   },
   "outputs": [],
   "source": [
    "def get_closest_pairs(dist_mat, names, num=10, ignore_zeros=False):\n",
    "    \"\"\"Finds pairs with closest non-zero distances.\"\"\"\n",
    "    dist_mat = np.copy(dist_mat)\n",
    "    # Set zero values to infinity so they are ignore in the partitioning.\n",
    "    dist_mat[np.triu_indices_from(dist_mat)] = np.inf\n",
    "    if ignore_zeros:\n",
    "        dist_mat[dist_mat == 0] = np.inf\n",
    "    # Unravel the matrix indices and partition num lowest numbers.\n",
    "    unr_index = np.unravel_index(dist_mat.argpartition(num, axis=None), dist_mat.shape)\n",
    "    # Get document names for pairs.\n",
    "    dist_pairs = [(names[unr_index[0][i]],        # First doc\n",
    "                   names[unr_index[1][i]],        # Second doc\n",
    "                   dist_mat[unr_index[0][i], unr_index[1][i]])   # Distance between docs\n",
    "                   for i in xrange(num)]                # First num indices\n",
    "    return sorted(dist_pairs, key=lambda tup: tup[2])"
   ]
  },
  {
   "cell_type": "code",
   "execution_count": 60,
   "metadata": {
    "collapsed": false
   },
   "outputs": [],
   "source": [
    "closest = get_closest_pairs(dist_mat, filenames)"
   ]
  },
  {
   "cell_type": "code",
   "execution_count": 61,
   "metadata": {
    "collapsed": false
   },
   "outputs": [
    {
     "data": {
      "text/plain": [
       "[('D:\\\\Datasets\\\\Wikipedia Featured Articles\\\\wiki_1991_Atlantic_hurricane_season.txt',\n",
       "  'D:\\\\Datasets\\\\Wikipedia Featured Articles\\\\wiki_%C3%86thelstan.txt',\n",
       "  0.75379105286669701),\n",
       " ('D:\\\\Datasets\\\\Wikipedia Featured Articles\\\\wiki_2002_Atlantic_hurricane_season.txt',\n",
       "  'D:\\\\Datasets\\\\Wikipedia Featured Articles\\\\wiki_1950_Atlantic_hurricane_season.txt',\n",
       "  0.78181428523268048),\n",
       " ('D:\\\\Datasets\\\\Wikipedia Featured Articles\\\\wiki_2003_Atlantic_hurricane_season.txt',\n",
       "  'D:\\\\Datasets\\\\Wikipedia Featured Articles\\\\wiki_1968_Thule_Air_Base_B-52_crash.txt',\n",
       "  0.82192119986361567),\n",
       " ('D:\\\\Datasets\\\\Wikipedia Featured Articles\\\\wiki_2003_Atlantic_hurricane_season.txt',\n",
       "  'D:\\\\Datasets\\\\Wikipedia Featured Articles\\\\wiki_%C3%86thelstan.txt',\n",
       "  0.82831290989852946),\n",
       " ('D:\\\\Datasets\\\\Wikipedia Featured Articles\\\\wiki_2003_Atlantic_hurricane_season.txt',\n",
       "  'D:\\\\Datasets\\\\Wikipedia Featured Articles\\\\wiki_%C3%86thelbald_of_Mercia.txt',\n",
       "  0.82910415493282186),\n",
       " ('D:\\\\Datasets\\\\Wikipedia Featured Articles\\\\wiki_1968_Thule_Air_Base_B-52_crash.txt',\n",
       "  'D:\\\\Datasets\\\\Wikipedia Featured Articles\\\\wiki_%C3%86thelstan.txt',\n",
       "  0.84586183633706735),\n",
       " ('D:\\\\Datasets\\\\Wikipedia Featured Articles\\\\wiki_2003_Atlantic_hurricane_season.txt',\n",
       "  'D:\\\\Datasets\\\\Wikipedia Featured Articles\\\\wiki_1896_Summer_Olympics.txt',\n",
       "  0.85238330203401014),\n",
       " ('D:\\\\Datasets\\\\Wikipedia Featured Articles\\\\wiki_1999_Sydney_hailstorm.txt',\n",
       "  'D:\\\\Datasets\\\\Wikipedia Featured Articles\\\\wiki_%C3%89mile_Lemoine.txt',\n",
       "  0.87274707032586119),\n",
       " ('D:\\\\Datasets\\\\Wikipedia Featured Articles\\\\wiki_2003_Atlantic_hurricane_season.txt',\n",
       "  'D:\\\\Datasets\\\\Wikipedia Featured Articles\\\\wiki_1994_Black_Hawk_shootdown_incident.txt',\n",
       "  0.8727675666278083),\n",
       " ('D:\\\\Datasets\\\\Wikipedia Featured Articles\\\\wiki_2005_Atlantic_hurricane_season.txt',\n",
       "  'D:\\\\Datasets\\\\Wikipedia Featured Articles\\\\wiki_2003_Atlantic_hurricane_season.txt',\n",
       "  0.87374933235283891)]"
      ]
     },
     "execution_count": 61,
     "metadata": {},
     "output_type": "execute_result"
    }
   ],
   "source": [
    "closest"
   ]
  },
  {
   "cell_type": "code",
   "execution_count": 62,
   "metadata": {
    "collapsed": false
   },
   "outputs": [
    {
     "data": {
      "text/plain": [
       "0.0"
      ]
     },
     "execution_count": 62,
     "metadata": {},
     "output_type": "execute_result"
    }
   ],
   "source": [
    "np.min(dist_mat)"
   ]
  },
  {
   "cell_type": "code",
   "execution_count": 63,
   "metadata": {
    "collapsed": false
   },
   "outputs": [
    {
     "data": {
      "text/plain": [
       "1.3262684799699305"
      ]
     },
     "execution_count": 63,
     "metadata": {},
     "output_type": "execute_result"
    }
   ],
   "source": [
    "np.max(dist_mat)"
   ]
  },
  {
   "cell_type": "code",
   "execution_count": 64,
   "metadata": {
    "collapsed": false
   },
   "outputs": [],
   "source": [
    "import matplotlib.pyplot as plt"
   ]
  },
  {
   "cell_type": "code",
   "execution_count": 65,
   "metadata": {
    "collapsed": true
   },
   "outputs": [],
   "source": [
    "%matplotlib inline"
   ]
  },
  {
   "cell_type": "code",
   "execution_count": 66,
   "metadata": {
    "collapsed": false
   },
   "outputs": [],
   "source": [
    "dists = dist_mat[np.triu_indices_from(dist_mat, k=1)]"
   ]
  },
  {
   "cell_type": "code",
   "execution_count": 67,
   "metadata": {
    "collapsed": false
   },
   "outputs": [
    {
     "data": {
      "image/png": "[encoded data removed]",
      "text/plain": [
       "<matplotlib.figure.Figure at 0x2aed1668>"
      ]
     },
     "metadata": {},
     "output_type": "display_data"
    }
   ],
   "source": [
    "sorted_dists = np.sort(dists)\n",
    "plt.plot(xrange(len(sorted_dists)), sorted_dists)\n",
    "\n",
    "plt.show()"
   ]
  },
  {
   "cell_type": "code",
   "execution_count": 68,
   "metadata": {
    "collapsed": false
   },
   "outputs": [
    {
     "data": {
      "image/png": "[encoded data removed]",
      "text/plain": [
       "<matplotlib.figure.Figure at 0x21aca0b8>"
      ]
     },
     "metadata": {},
     "output_type": "display_data"
    }
   ],
   "source": [
    "sorted_dists = np.sort(dists)\n",
    "plt.plot(sorted_dists, xrange(len(sorted_dists)))\n",
    "\n",
    "plt.show()"
   ]
  },
  {
   "cell_type": "code",
   "execution_count": 69,
   "metadata": {
    "collapsed": false
   },
   "outputs": [
    {
     "data": {
      "text/plain": [
       "100"
      ]
     },
     "execution_count": 69,
     "metadata": {},
     "output_type": "execute_result"
    }
   ],
   "source": [
    "len(articles)"
   ]
  },
  {
   "cell_type": "code",
   "execution_count": 70,
   "metadata": {
    "collapsed": false
   },
   "outputs": [
    {
     "data": {
      "image/png": "[encoded data removed]",
      "text/plain": [
       "<matplotlib.figure.Figure at 0x297459b0>"
      ]
     },
     "metadata": {},
     "output_type": "display_data"
    }
   ],
   "source": [
    "plt.hist(sorted_dists, bins=50)\n",
    "plt.show()"
   ]
  },
  {
   "cell_type": "code",
   "execution_count": 71,
   "metadata": {
    "collapsed": false
   },
   "outputs": [
    {
     "data": {
      "image/png": "[encoded data removed]",
      "text/plain": [
       "<matplotlib.figure.Figure at 0x29dc8898>"
      ]
     },
     "metadata": {},
     "output_type": "display_data"
    }
   ],
   "source": [
    "sorted_dists = np.sort(dists)\n",
    "sorted_dists = sorted_dists[sorted_dists < 1]\n",
    "plt.plot(xrange(len(sorted_dists)), sorted_dists)\n",
    "\n",
    "plt.show()"
   ]
  },
  {
   "cell_type": "code",
   "execution_count": 72,
   "metadata": {
    "collapsed": false
   },
   "outputs": [
    {
     "data": {
      "text/plain": [
       "226"
      ]
     },
     "execution_count": 72,
     "metadata": {},
     "output_type": "execute_result"
    }
   ],
   "source": [
    "len(sorted_dists)"
   ]
  },
  {
   "cell_type": "code",
   "execution_count": null,
   "metadata": {
    "collapsed": true
   },
   "outputs": [],
   "source": []
  },
  {
   "cell_type": "code",
   "execution_count": null,
   "metadata": {
    "collapsed": true
   },
   "outputs": [],
   "source": []
  }
 ],
 "metadata": {
  "kernelspec": {
   "display_name": "Python 2",
   "language": "python",
   "name": "python2"
  },
  "language_info": {
   "codemirror_mode": {
    "name": "ipython",
    "version": 2
   },
   "file_extension": ".py",
   "mimetype": "text/x-python",
   "name": "python",
   "nbconvert_exporter": "python",
   "pygments_lexer": "ipython2",
   "version": "2.7.11"
  }
 },
 "nbformat": 4,
 "nbformat_minor": 0
}
