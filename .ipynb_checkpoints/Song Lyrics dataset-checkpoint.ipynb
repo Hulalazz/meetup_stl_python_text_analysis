{
 "cells": [
  {
   "cell_type": "code",
   "execution_count": 5,
   "metadata": {
    "collapsed": true
   },
   "outputs": [],
   "source": [
    "import requests\n",
    "from bs4 import BeautifulSoup\n",
    "import json\n",
    "import time"
   ]
  },
  {
   "cell_type": "code",
   "execution_count": 2,
   "metadata": {
    "collapsed": false
   },
   "outputs": [],
   "source": [
    "def get_song_links(url):\n",
    "    \"\"\"Gets song titles and URLs for the lyrics page for a www.songlyrics.com top-songs page.\"\"\"\n",
    "    soup = BeautifulSoup(requests.get(url).content)\n",
    "    trs = soup.find_all('table', class_='tracklist')[0].find_all('tr')\n",
    "    song_links = {}\n",
    "    year = url[-4:]\n",
    "    for row in trs[1:]:\n",
    "        tds = row.find_all('td')\n",
    "        artist = tds[1].get_text(strip=True)\n",
    "        a_tag = tds[2].a\n",
    "        song_links[(year, artist, a_tag['title'])] = a_tag['href']\n",
    "    return song_links"
   ]
  },
  {
   "cell_type": "code",
   "execution_count": 3,
   "metadata": {
    "collapsed": false
   },
   "outputs": [],
   "source": [
    "def get_lyrics(url):\n",
    "    \"\"\"Scrapes the lyrics from a www.songlyrics.com song page.\"\"\"\n",
    "    soup = BeautifulSoup(requests.get(url).content, )\n",
    "    return soup.find_all('p', attrs={'id':'songLyricsDiv'})[0].get_text('\\n', strip=True)"
   ]
  },
  {
   "cell_type": "code",
   "execution_count": 4,
   "metadata": {
    "collapsed": true
   },
   "outputs": [],
   "source": [
    "# Define variables\n",
    "base_url = 'http://www.songlyrics.com/news/top-songs/'\n",
    "start_year = 2011\n",
    "end_year = 1950"
   ]
  },
  {
   "cell_type": "code",
   "execution_count": 9,
   "metadata": {
    "collapsed": false
   },
   "outputs": [
    {
     "name": "stdout",
     "output_type": "stream",
     "text": [
      "2011\n",
      "2010\n",
      "2009\n",
      "2008\n",
      "2007\n",
      "2006\n",
      "2005\n",
      "2004\n",
      "2003\n",
      "2002\n",
      "2001\n",
      "2000\n",
      "1999\n",
      "1998\n",
      "1997\n",
      "1996\n",
      "1995\n",
      "1994\n",
      "1993\n",
      "1992\n",
      "1991\n",
      "1990\n",
      "1989\n",
      "1988\n",
      "1987\n",
      "1986\n",
      "1985\n",
      "1984\n",
      "1983\n",
      "1982\n",
      "1981\n",
      "1980\n",
      "1979\n",
      "1978\n",
      "1977\n",
      "1976\n",
      "1975\n",
      "1974\n",
      "1973\n",
      "1972\n",
      "1971\n",
      "1970\n",
      "1969\n",
      "1968\n",
      "1967\n",
      "1966\n",
      "1965\n",
      "1964\n",
      "1963\n",
      "1962\n",
      "1961\n",
      "1960\n",
      "1959\n",
      "1958\n",
      "1957\n",
      "1956\n",
      "1955\n",
      "1954\n",
      "1953\n",
      "1952\n",
      "1951\n",
      "1950\n"
     ]
    },
    {
     "ename": "NameError",
     "evalue": "name 'ConnectionError' is not defined",
     "output_type": "error",
     "traceback": [
      "\u001b[1;31m---------------------------------------------------------------------------\u001b[0m",
      "\u001b[1;31mNameError\u001b[0m                                 Traceback (most recent call last)",
      "\u001b[1;32m<ipython-input-9-0e54d49af0a8>\u001b[0m in \u001b[0;36m<module>\u001b[1;34m()\u001b[0m\n\u001b[0;32m     14\u001b[0m         \u001b[0msong_links\u001b[0m\u001b[1;33m.\u001b[0m\u001b[0mupdate\u001b[0m\u001b[1;33m(\u001b[0m\u001b[0mget_song_links\u001b[0m\u001b[1;33m(\u001b[0m\u001b[0murl\u001b[0m\u001b[1;33m)\u001b[0m\u001b[1;33m)\u001b[0m\u001b[1;33m\u001b[0m\u001b[0m\n\u001b[0;32m     15\u001b[0m         \u001b[0mretries\u001b[0m \u001b[1;33m=\u001b[0m \u001b[1;36m0\u001b[0m\u001b[1;33m\u001b[0m\u001b[0m\n\u001b[1;32m---> 16\u001b[1;33m     \u001b[1;32mexcept\u001b[0m \u001b[0mConnectionError\u001b[0m \u001b[1;32mas\u001b[0m \u001b[0me\u001b[0m\u001b[1;33m:\u001b[0m\u001b[1;33m\u001b[0m\u001b[0m\n\u001b[0m\u001b[0;32m     17\u001b[0m         \u001b[1;32mif\u001b[0m \u001b[0mretries\u001b[0m \u001b[1;33m<\u001b[0m \u001b[0mmax_retries\u001b[0m\u001b[1;33m:\u001b[0m\u001b[1;33m\u001b[0m\u001b[0m\n\u001b[0;32m     18\u001b[0m             \u001b[0mretries\u001b[0m \u001b[1;33m+=\u001b[0m \u001b[1;36m1\u001b[0m\u001b[1;33m\u001b[0m\u001b[0m\n",
      "\u001b[1;31mNameError\u001b[0m: name 'ConnectionError' is not defined"
     ]
    }
   ],
   "source": [
    "# Dict to hold song titles -> link to lyrics page.\n",
    "song_links = {}\n",
    "cur_year = start_year\n",
    "\n",
    "retries = 0\n",
    "max_retries = 3\n",
    "pause_length = 1   # in seconds\n",
    "\n",
    "# Loop through years and scrape links to lyric pages for each year's top 100 songs.\n",
    "while cur_year >= end_year:\n",
    "    print(cur_year)\n",
    "    url = base_url + str(cur_year)\n",
    "    try:\n",
    "        song_links.update(get_song_links(url))\n",
    "        retries = 0\n",
    "    except Exception as e:  # This should be ConnectionError\n",
    "        if retries < max_retries:\n",
    "            retries += 1\n",
    "            time.sleep(pause_length)\n",
    "            cur_year += 1\n",
    "        else:\n",
    "            print('Max retries reached.')\n",
    "            print(str(e))\n",
    "    cur_year -= 1"
   ]
  },
  {
   "cell_type": "code",
   "execution_count": 7,
   "metadata": {
    "collapsed": true
   },
   "outputs": [
    {
     "ename": "NameError",
     "evalue": "name 'song_links' is not defined",
     "output_type": "error",
     "traceback": [
      "\u001b[1;31m---------------------------------------------------------------------------\u001b[0m",
      "\u001b[1;31mNameError\u001b[0m                                 Traceback (most recent call last)",
      "\u001b[1;32m<ipython-input-7-67e1b0f2ef13>\u001b[0m in \u001b[0;36m<module>\u001b[1;34m()\u001b[0m\n\u001b[1;32m----> 1\u001b[1;33m \u001b[0mget_ipython\u001b[0m\u001b[1;33m(\u001b[0m\u001b[1;33m)\u001b[0m\u001b[1;33m.\u001b[0m\u001b[0mrun_cell_magic\u001b[0m\u001b[1;33m(\u001b[0m\u001b[1;34mu'time'\u001b[0m\u001b[1;33m,\u001b[0m \u001b[1;34mu''\u001b[0m\u001b[1;33m,\u001b[0m \u001b[1;34mu'# Dict to hold song titles -> lyrics\\nsong_lyrics = {}\\nerrors = {}\\n# Visit the lyric pages for each song in song_links and scrape the lyrics.\\nfor artist_title, url in song_links.iteritems():\\n    try:\\n        song_lyrics[artist_title] = get_lyrics(url)\\n    except Exception as e:\\n        errors[artist_title] = e'\u001b[0m\u001b[1;33m)\u001b[0m\u001b[1;33m\u001b[0m\u001b[0m\n\u001b[0m",
      "\u001b[1;32mC:\\Users\\Matt\\Anaconda\\lib\\site-packages\\IPython\\core\\interactiveshell.pyc\u001b[0m in \u001b[0;36mrun_cell_magic\u001b[1;34m(self, magic_name, line, cell)\u001b[0m\n\u001b[0;32m   2291\u001b[0m             \u001b[0mmagic_arg_s\u001b[0m \u001b[1;33m=\u001b[0m \u001b[0mself\u001b[0m\u001b[1;33m.\u001b[0m\u001b[0mvar_expand\u001b[0m\u001b[1;33m(\u001b[0m\u001b[0mline\u001b[0m\u001b[1;33m,\u001b[0m \u001b[0mstack_depth\u001b[0m\u001b[1;33m)\u001b[0m\u001b[1;33m\u001b[0m\u001b[0m\n\u001b[0;32m   2292\u001b[0m             \u001b[1;32mwith\u001b[0m \u001b[0mself\u001b[0m\u001b[1;33m.\u001b[0m\u001b[0mbuiltin_trap\u001b[0m\u001b[1;33m:\u001b[0m\u001b[1;33m\u001b[0m\u001b[0m\n\u001b[1;32m-> 2293\u001b[1;33m                 \u001b[0mresult\u001b[0m \u001b[1;33m=\u001b[0m \u001b[0mfn\u001b[0m\u001b[1;33m(\u001b[0m\u001b[0mmagic_arg_s\u001b[0m\u001b[1;33m,\u001b[0m \u001b[0mcell\u001b[0m\u001b[1;33m)\u001b[0m\u001b[1;33m\u001b[0m\u001b[0m\n\u001b[0m\u001b[0;32m   2294\u001b[0m             \u001b[1;32mreturn\u001b[0m \u001b[0mresult\u001b[0m\u001b[1;33m\u001b[0m\u001b[0m\n\u001b[0;32m   2295\u001b[0m \u001b[1;33m\u001b[0m\u001b[0m\n",
      "\u001b[1;32mC:\\Users\\Matt\\Anaconda\\lib\\site-packages\\IPython\\core\\magics\\execution.pyc\u001b[0m in \u001b[0;36mtime\u001b[1;34m(self, line, cell, local_ns)\u001b[0m\n",
      "\u001b[1;32mC:\\Users\\Matt\\Anaconda\\lib\\site-packages\\IPython\\core\\magic.pyc\u001b[0m in \u001b[0;36m<lambda>\u001b[1;34m(f, *a, **k)\u001b[0m\n\u001b[0;32m    191\u001b[0m     \u001b[1;31m# but it's overkill for just that one bit of state.\u001b[0m\u001b[1;33m\u001b[0m\u001b[1;33m\u001b[0m\u001b[0m\n\u001b[0;32m    192\u001b[0m     \u001b[1;32mdef\u001b[0m \u001b[0mmagic_deco\u001b[0m\u001b[1;33m(\u001b[0m\u001b[0marg\u001b[0m\u001b[1;33m)\u001b[0m\u001b[1;33m:\u001b[0m\u001b[1;33m\u001b[0m\u001b[0m\n\u001b[1;32m--> 193\u001b[1;33m         \u001b[0mcall\u001b[0m \u001b[1;33m=\u001b[0m \u001b[1;32mlambda\u001b[0m \u001b[0mf\u001b[0m\u001b[1;33m,\u001b[0m \u001b[1;33m*\u001b[0m\u001b[0ma\u001b[0m\u001b[1;33m,\u001b[0m \u001b[1;33m**\u001b[0m\u001b[0mk\u001b[0m\u001b[1;33m:\u001b[0m \u001b[0mf\u001b[0m\u001b[1;33m(\u001b[0m\u001b[1;33m*\u001b[0m\u001b[0ma\u001b[0m\u001b[1;33m,\u001b[0m \u001b[1;33m**\u001b[0m\u001b[0mk\u001b[0m\u001b[1;33m)\u001b[0m\u001b[1;33m\u001b[0m\u001b[0m\n\u001b[0m\u001b[0;32m    194\u001b[0m \u001b[1;33m\u001b[0m\u001b[0m\n\u001b[0;32m    195\u001b[0m         \u001b[1;32mif\u001b[0m \u001b[0mcallable\u001b[0m\u001b[1;33m(\u001b[0m\u001b[0marg\u001b[0m\u001b[1;33m)\u001b[0m\u001b[1;33m:\u001b[0m\u001b[1;33m\u001b[0m\u001b[0m\n",
      "\u001b[1;32mC:\\Users\\Matt\\Anaconda\\lib\\site-packages\\IPython\\core\\magics\\execution.pyc\u001b[0m in \u001b[0;36mtime\u001b[1;34m(self, line, cell, local_ns)\u001b[0m\n\u001b[0;32m   1165\u001b[0m         \u001b[1;32melse\u001b[0m\u001b[1;33m:\u001b[0m\u001b[1;33m\u001b[0m\u001b[0m\n\u001b[0;32m   1166\u001b[0m             \u001b[0mst\u001b[0m \u001b[1;33m=\u001b[0m \u001b[0mclock2\u001b[0m\u001b[1;33m(\u001b[0m\u001b[1;33m)\u001b[0m\u001b[1;33m\u001b[0m\u001b[0m\n\u001b[1;32m-> 1167\u001b[1;33m             \u001b[1;32mexec\u001b[0m\u001b[1;33m(\u001b[0m\u001b[0mcode\u001b[0m\u001b[1;33m,\u001b[0m \u001b[0mglob\u001b[0m\u001b[1;33m,\u001b[0m \u001b[0mlocal_ns\u001b[0m\u001b[1;33m)\u001b[0m\u001b[1;33m\u001b[0m\u001b[0m\n\u001b[0m\u001b[0;32m   1168\u001b[0m             \u001b[0mend\u001b[0m \u001b[1;33m=\u001b[0m \u001b[0mclock2\u001b[0m\u001b[1;33m(\u001b[0m\u001b[1;33m)\u001b[0m\u001b[1;33m\u001b[0m\u001b[0m\n\u001b[0;32m   1169\u001b[0m             \u001b[0mout\u001b[0m \u001b[1;33m=\u001b[0m \u001b[0mNone\u001b[0m\u001b[1;33m\u001b[0m\u001b[0m\n",
      "\u001b[1;32m<timed exec>\u001b[0m in \u001b[0;36m<module>\u001b[1;34m()\u001b[0m\n",
      "\u001b[1;31mNameError\u001b[0m: name 'song_links' is not defined"
     ]
    }
   ],
   "source": [
    "%%time\n",
    "# Dict to hold song titles -> lyrics\n",
    "song_lyrics = {}\n",
    "errors = {}\n",
    "# Visit the lyric pages for each song in song_links and scrape the lyrics.\n",
    "for artist_title, url in song_links.iteritems():\n",
    "    try:\n",
    "        song_lyrics[artist_title] = get_lyrics(url)\n",
    "    except Exception as e:\n",
    "        errors[artist_title] = e"
   ]
  },
  {
   "cell_type": "code",
   "execution_count": null,
   "metadata": {
    "collapsed": true
   },
   "outputs": [],
   "source": [
    "tup = song_lyrics.items()[2]\n",
    "print(tup[0] +'\\n'+ tup[1])"
   ]
  },
  {
   "cell_type": "code",
   "execution_count": 10,
   "metadata": {
    "collapsed": false
   },
   "outputs": [
    {
     "data": {
      "text/plain": [
       "5093"
      ]
     },
     "execution_count": 10,
     "metadata": {},
     "output_type": "execute_result"
    }
   ],
   "source": [
    "len(song_lyrics)"
   ]
  },
  {
   "cell_type": "code",
   "execution_count": null,
   "metadata": {
    "collapsed": false
   },
   "outputs": [],
   "source": [
    "[k for k in song_lyrics.keys() if 'matthews' in k.lower()]"
   ]
  },
  {
   "cell_type": "code",
   "execution_count": null,
   "metadata": {
    "collapsed": false
   },
   "outputs": [],
   "source": [
    "errors"
   ]
  },
  {
   "cell_type": "code",
   "execution_count": null,
   "metadata": {
    "collapsed": false
   },
   "outputs": [],
   "source": [
    "len(errors)"
   ]
  },
  {
   "cell_type": "code",
   "execution_count": 18,
   "metadata": {
    "collapsed": false
   },
   "outputs": [
    {
     "data": {
      "text/plain": [
       "[(('http://www.songlyrics.com/news/top-songs/',\n",
       "   u'Maria Muldaur',\n",
       "   'Midnight At The Oasis Lyrics  Maria Muldaur'),\n",
       "  u\"Midnight at the oasis\\nSend your camel to bed\\nShadows paintin' our faces\\nTraces of romance in our heads\\nHeaven's holdin' a half-moon\\nShinin' just for us\\nLet's slip off to a sand dune\\nReal soon and kick up a little dust\\nCome on, Cactus is our friend\\nHe'll point out the way\\nCome on, till the evenin' ends\\nTill the evenin' ends\\nYou don't have to answer\\nThere's no need to speak\\nI'll be your belly dancer\\nPrancer and you can be my sheik\\nI know your daddy's a sultan\\nA nomad known to all\\nWith fifty girls to attend him, they all send him\\nJump at his beck and call\\nBut you won't need no harem, honey\\nWhen I'm by your side\\nAnd you won't need no camel, no no\\nWhen I take you for a ride\\nCome on, Cactus is our friend\\nHe'll point out the way\\nCome on, till the evenin' ends\\nTill the evenin' ends\\nMidnight at the oasis\\nSend your camel to bed\\nShadows paintin' our faces\\nTraces of romance in our heads\\nOh, come on\\nOh come on\\nOh, yeah\\nOh, yeah\"),\n",
       " (('http://www.songlyrics.com/news/top-songs/',\n",
       "   u'New Kids On The Block',\n",
       "   'Cover Girl Lyrics  New Kids On The Block'),\n",
       "  u\"I get up in the morning and I see your face, girl\\nYou're looking so good, everything's in place\\nDon't you know I could never leave your side girl\\nWon't you stay here with me and be my bride?\\nDon't you know you're my kind, you're just what I like\\nGirl you're everything, don't you know you're alright\\nThe only girl I've always needed for so long\\nOh, oh oh, she's my cover girl\\nOh, oh oh, oh oh\\nOh, oh oh, she's my cover girl\\nOh, oh oh, oh oh\\nWhen I look through the pages of a magazine\\nStill, your pretty face is the prettiest I've seen\\nDon't you know I only wanna be with you\\nNo other girl could make me feel the way you do, you're my everything\\nOh, oh oh, she's my cover girl\\nOh, oh oh, oh oh\\nOh, oh oh, she's my cover girl\\nOh, oh oh, oh oh\\nOh, oh oh, she's my cover girl\\nOh, oh oh, oh oh\\nOh, oh oh, she's my cover girl\\nOh, oh oh, oh oh\\nBass, it's alright\\nOh, yeah, it's out of sight\\nLet me say it's alright\\nAh, yeah\\nDon't you know you're my kind\\nThe only girl, you're my everything\\nOh, oh oh, oh oh\\nOh, oh oh, oh oh\\nOh, oh oh, she's my cover girl\\nOh, oh oh, oh oh\\nOh, oh oh, she's my cover girl\\nOh, oh oh, oh oh\\nOh, oh oh, she's my\\nShe's my cover girl, oh yeah yeah\\nCover girl\"),\n",
       " (('http://www.songlyrics.com/news/top-songs/',\n",
       "   u'Helen Reddy',\n",
       "   'Leave Me Alone (Ruby Red Dress) Lyrics  Helen Reddy'),\n",
       "  u\"Big ole Ruby red dress wanders round the town\\nTalkin' to herself now, sometimes sitten down\\nDon't you get too close now, Ruby runs away\\nPoor ole Ruby red dress born on a sorry day\\nI can hear her say\\nLeave me alone, won't you leave me alone\\nPlease leave me alone, now leave me alone\\nOh leave me alone, please leave me alone, yes leave me\\nLeave me alone, won't you leave me alone\\nPlease leave me alone, now leave me alone\\nGod leave me along, just leave me alone, oh leave me\\nBig ole Ruby red dress, everybody laughs\\nSay she's got no future and never made no past\\nSomething hurt that Ruby, something she can't bear\\nYou look at her real close now, you see a little tear\\nOh when she says now\\nLeave me alone, won't you leave me alone\\nPlease leave me alone now, God leave me alone\\nOh leave me alone, just leave me alone, please leave me\\nLeave me alone, won't you leave me alone\\nPlease leave me alone, now leave me alone\\nOh leave me along, just leave me alone, oh leave me\\nSome folks say some farm boy up from Tennessee\\nTaught it all to Ruby, then just let her be\\nHer Daddy tried to hide it, tried to keep things cool\\nBut something happened to Ruby, she broke down to a fool\\nWho just said now\\nLeave me alone, won't you leave me alone\\nPlease leave me alone, now leave me alone\\nOh leave me alone, please leave me alone, yes leave me\\nLeave me alone, won't you leave me alone\\nPlease leave me alone, now leave me alone\\nGod leave me along, just leave me alone, please leave me\\nLeave me alone, won't you leave me alone\"),\n",
       " (('http://www.songlyrics.com/news/top-songs/',\n",
       "   u'Thalia feat. Fat Joe',\n",
       "   'I Want You Lyrics  Thalia feat. Fat Joe'),\n",
       "  u'No one else can ever\\nNo one else can ever\\nNo one else can ever\\nYeah, uh\\nYeah, uh\\nWhat did I do to deserve such a man so special in my life\\nSo many days and nights\\nI get on the go while I sit and wait for mister right\\nBaby, then came you\\nLaid back with your sexy smile\\nWhen you move your body you just drive me wild\\nIf you\\'re feeling me, baby, tell me now\\nBecause I want you, I want you\\nBaby, no one else can ever want you like I do\\nI\\'m feelin\\' love in the deepest fall\\nGive you the keys and all\\nYou even when helped me when the beef was on\\nTell me what you feel\\n\\xe2\\u20ac~Cause I\\'m feeling something real\\nI feel the same way, you make the Don say\\n\"Girl, I want you, girl, I need you\"\\nCan\\'t you see how this love affair\\nWould be good for you and me?\\n\\xe2\\u20ac~Cause baby, I swear no other man can do\\nThe things that you do when you love me\\nOh baby, you\\'re my lifetime fantasy\\nSo smooth, love the way you walk\\nI just love to hear when you talk your talk\\nSo if you\\'re feeling me, baby, let me know\\nBecause I want you, I want you\\nBaby, no one else can ever want you like I do\\nI\\'m feelin\\' love in the deepest fall\\nGive you the keys and all\\nYou even when helped me when the beef was on\\nTell me what you feel\\n\\xe2\\u20ac~Cause I\\'m feeling something real\\nI feel the same way, you make the Don say\\n\"Girl, I want you, girl, I need you, babe\"\\nSlow down, love, don\\'t you see me with my girl\\nWhat you thinkin\\' it was?\\nI know you\\'re used to seein\\' me in the clubs\\nDifferent chicks, sippin\\' Cris\\', just a million in dubs\\nBut I\\'ve changed, only got eyes for her\\nBelieve me, ain\\'t no girl dividin\\' us\\nWe could maybe elope, have a baby and all\\n\\xe2\\u20ac~Cause I don\\'t wanna be a player no more\\nBaby, no one else can ever want you like I do\\nI feel the same way, you make the Don say\\n\"Girl, I want you, girl, I need you\"\\nTell me what you feel\\n\\xe2\\u20ac~Cause I\\'m feeling something real\\nI feel the same way, you make the Don say\\n\"Girl, I want you, girl, I need you\"\\nBaby, no one else can ever want you like I do\\nI feel the same way, you make the Don say\\n\"Girl, I want you, girl, I need you\"\\nTell me what you feel\\n\\xe2\\u20ac~Cause I\\'m feeling something real\\nI feel the same way, you make the Don say\\n\"Girl, I want you, girl, I need you\"\\nBaby, baby, baby, baby\\nBaby, baby, baby, baby'),\n",
       " (('http://www.songlyrics.com/news/top-songs/',\n",
       "   u'Kenny Nolan',\n",
       "   \"Love's Grown Deep Lyrics Kenny Nolan\"),\n",
       "  u\"I love you so much\\nSomewhere back in time you became a friend of mine\\nAnd day by day we've grown a little closer\\nYou're my spirit to be strong, a friend when things go wrong\\nSo I've written down these words to let you know\\nLove's grown deep, deep into the heart of me\\nYou've become a part of me\\nLet us plant the seed and watch it grow\\nLove's grown deep, deep into the heart of me\\nYou've become a part of me\\nAs we travel down the road, side by side we'll share the load\\nHand in hand we'll see each other through\\nThough we've only just begun, let's count our blessings one by one\\nI thank God for life, I thank God for you\\nLove's grown deep, deep into the heart of me\\nYou've become a part of me\\nLet us plant the seed and watch it grow\\nLoves grown deep, deep into the heart of me\\nYou've become a part of me\\nAnd as the seasons slip away\\nForever lovers we will stay\\nTogether, do or die, with all our hearts\\nLove's grown deep, deep into the heart of me\\nYou've become a part of me\\nLet us plant the seed and watch it grow\\nLove's grown deep, deep into the heart of me\\nYou've become a part of me\"),\n",
       " (('http://www.songlyrics.com/news/top-songs/',\n",
       "   u'Bay City Rollers',\n",
       "   'Saturday Night Lyrics Bay City Rollers'),\n",
       "  u\"S.A.T.U.R.D.A.Y night\\nS.A.T.U.R.D.A.Y night\\nS.A.T.U.R.D.A.Y night\\nS.A.T.U.R.D.A.Y night\\nGonna keep on dancin' to the rock and roll\\nOn Saturday night, Saturday night\\nDancin' to the rhythm in our heart and soul\\nOn Saturday night, Saturday night\\nI, I, I, I, I just can't wait\\nI, I, I, I got a date\\nAt the good ole rock and roll road\\nShow, I gotta go\\nSaturday night\\nSaturday night\\nGonna rock it up, roll it up\\nDo it all, have a ball\\nSaturday night\\nSaturday night\\nIt's just a Saturday night\\nIt's just a Saturday night\\nIt's just a Saturday night\\nS.A.T.U.R.D.A.Y night\\nS.A.T.U.R.D.A.Y night\\nS.A.T.U.R.D.A.Y night\\nS.A.T.U.R.D.A.Y night\\nGonna dance with my baby till the night is through\\nOn Saturday night, Saturday night\\nTell her all the little things I'm gonna do\\nOn Saturday night, Saturday night\\nI, I, I, I, I love her so\\nI, I, I, I I'm gonna let her know\\nAt the good ole rock and roll road\\nShow, I gotta go\\nSaturday night\\nSaturday night\\nGonna rock it up, roll it up\\nDo it all, have a ball\\nSaturday night\\nSaturday night\\nIt's just a Saturday night\\nIt's just a Saturday night\\nIt's just a Saturday night\\nS.A.T.U.R.D.A.Y night\\nS.A.T.U.R.D.A.Y night\\nS.A.T.U.R.D.A.Y night\\nS.A.T.U.R.D.A.Y night\\nS.A.T.U.R.D.A.Y night\\nS.A.T.U.R.D.A.Y night\\nIt's just a Saturday night\\nIt's just a Saturday night\\nIt's just a Saturday night\\n...\"),\n",
       " (('http://www.songlyrics.com/news/top-songs/',\n",
       "   u'Britney Spears',\n",
       "   'Everytime Lyrics  Britney Spears'),\n",
       "  u\"Notice me, take my hand\\nWhy are we strangers\\nWhen our love is strong?\\nWhy carry on without me?\\nEverytime I try to fly\\nI fall without my wings\\nI feel so small\\nI guess I need you, baby\\nAnd everytime\\nI see you in my dreams\\nI see your face, it's haunting me\\nI guess I need you, baby\\nI make believe that you are here\\nIt's the only way I see clear\\nWhat have I done?\\nYou seem to move on easy\\nAnd everytime I try to fly\\nI fall without my wings\\nI feel so small\\nI guess I need you baby\\nAnd everytime\\nI see you in my dreams\\nI see your face, you're haunting me\\nI guess I need you baby\\nI may have made it rain\\nPlease forgive me\\nMy weakness caused you pain\\nAnd this song is my sorry\\nAt night I pray\\nThat soon your face\\nWill fade away\\nAnd everytime I try to fly\\nI fall without my wings\\nI feel so small\\nI guess I need you baby\\nAnd everytime I see you in my dreams\\nI see your face, you're haunting me\\nI guess I need you baby\"),\n",
       " (('http://www.songlyrics.com/news/top-songs/',\n",
       "   u'Santa Esmeralda',\n",
       "   'Dont Let Me Be Misunderstood Lyrics Santa Esmeralda'),\n",
       "  u\"Baby, do you understand me now?\\nSometimes I feel a little mad\\nBut, don't you know that no one alive can always be an angel\\nWhen things go wrong, I seem to be bad\\nI'm just a soul whose intentions are good\\nOh Lord, please don't let me be misunderstood\\nIf I seem edgy, I want you to know\\nThat I never meant to take it out on you\\nLife has its problems and I got my share\\nAnd that's one thing I never meant to do\\n'Cause I love you\\nBaby, don't you know, I'm just human?\\nAnd I've got thoughts like any other one\\nAnd sometimes I find myself, oh Lord, regretting\\nSome foolish thing, some foolish thing I've done\\nBut I'm just a soul whose intentions are good\\nOh Lord, please don't let me be misunderstood\\nOh Lord, don't let me be misunderstood\\nPlease don't let me be misunderstood\\nBaby, do you understand me now?\\nSometimes I feel a little mad\\nBut, don't you know that no one alive can always be an angel\\nWhen things go wrong I seem to be bad\\n'Cause I'm just a soul whose intentions are good\\nOh Lord, please don't let me be misunderstood\\nBaby, sometimes I'm so carefree\\nWith a joy that's hard to hide\\nAnd sometimes it seems that, all I have to do is worry\\nAnd then you're bound to see my other side\\n'Cause I'm just a soul whose intentions are good\\nOh Lord, please don't let me be misunderstood\\nIf I seem edgy, I want you to know\\nThat I never meant to take it out on you\\nLife has its problems and I got my share\\nAnd that's one thing I never meant to do\\n'Cause I love you\\nOh, baby, don't you know I'm human\\nI have thoughts like any other one\\nAnd sometimes I find myself, oh Lord, regretting\\nSome foolish thing, some foolish thing I've done\\n'Cause I'm just a soul whose intentions are good\\nOh Lord, please don't let me be misunderstood\"),\n",
       " (('http://www.songlyrics.com/news/top-songs/',\n",
       "   u'Leo Sayer',\n",
       "   'You Make Me Feel Like Dancing Lyrics Leo Sayer'),\n",
       "  u\"You've got a cute way of talkin'\\nYou got the better of me\\nJust snap your fingers and I'm walkin'\\nLike a dog hangin' on your lead\\nI'm in a spin, you know\\nShakin' on string, you know\\nYou make me feel like dancin'\\nI'm gonna dance the night away\\nYou make me feel like dancin'\\nI'm gonna dance the night away\\nYou make feel like dancin'\\nI feel like dancin', dancin'\\nDance the night away\\nI feel like dancin', dancin', ah\\nQuarter to four in the mornin'\\nI ain't feeling tired no, no, no, no, no\\nJust hold me tight and leave on the light\\n'Cause I don't want to go home\\nYou put a spell on me\\nI'm right where you want me to be\\nYou make me feel like dancin'\\nI want to dance the night away\\nYou make me feel like dancin'\\nI'm gonna dance the night away\\nYou make feel like dancin'\\nI feel like dancin', dancin'\\nDance the night away\\nI feel like dancin', dancin'\\nDance the night away\\nI feel like dancin', dancin'\\nDance the night away\\nI feel like dancin', dancin'\\nDance the night away, ah\\nAnd if you'll let me stay\\nWe'll dance our lives away\\nYou make me feel like dancin'\\nI wanna dance my life away\\nYou make me feel like dancin'\\nI wanna dance my life away\\nYou make me feel like dancin'\\nI wanna dance my life away\\n(I feel like dancin')\\nYou make me feel like dancin'\\nI wanna dance my life away\\n(I feel just like dancin')\\nYou make me feel like dancin'\"),\n",
       " (('http://www.songlyrics.com/news/top-songs/',\n",
       "   u'Neil Diamond',\n",
       "   'Love On The Rocks Lyrics  Neil Diamond'),\n",
       "  u\"Love on the rocks, ain't no big surprise\\nJust pour me a drink and I'll tell you some lies\\nI got nothing to lose\\nSo you just sing the blues for a while\\nI gave you my heart and I gave you my soul\\nYou left me alone here with nothing to hold\\nYesterday's gone\\nAnd now all I want is a smile\\nFirst, they say they want you\\nHow they really need you\\nSuddenly you find you're out there\\nWalking in the storm\\nWhen they know they have you\\nThen they really have you\\nNothing you can do or say\\nYou've got to leave, just get away\\nWe all know the song\\nYou need what you need\\nAnd you can say what you want\\nBut there's not much you can do\\nWhen the feeling is gone\\nAnd may be blue skies above\\nBut it's cold when you're love's on the rocks\\nFirst, they say they want you\\nHow they really need you\\nSuddenly you find you're out there\\nWalking in the storm\\nWhen they know they have you\\nThen they really have you\\nNothing you can do or say\\nYou've got to leave, just get away\\nWe all know the song\\nLove on the rocks, ain't no surprise\\nJust pour me a drink and I'll tell you some lies\\nYesterday's gone\\nAnd now all I want is a smile\")]"
      ]
     },
     "execution_count": 18,
     "metadata": {},
     "output_type": "execute_result"
    }
   ],
   "source": [
    "song_lyrics.items()[:10]"
   ]
  },
  {
   "cell_type": "code",
   "execution_count": 19,
   "metadata": {
    "collapsed": false
   },
   "outputs": [],
   "source": [
    "# Convert tuples to lists.\n",
    "song_lyrics2 = [[list(k), v] for k,v in song_lyrics.items()]"
   ]
  },
  {
   "cell_type": "code",
   "execution_count": 20,
   "metadata": {
    "collapsed": false
   },
   "outputs": [
    {
     "data": {
      "text/plain": [
       "[[['http://www.songlyrics.com/news/top-songs/',\n",
       "   u'Maria Muldaur',\n",
       "   'Midnight At The Oasis Lyrics  Maria Muldaur'],\n",
       "  u\"Midnight at the oasis\\nSend your camel to bed\\nShadows paintin' our faces\\nTraces of romance in our heads\\nHeaven's holdin' a half-moon\\nShinin' just for us\\nLet's slip off to a sand dune\\nReal soon and kick up a little dust\\nCome on, Cactus is our friend\\nHe'll point out the way\\nCome on, till the evenin' ends\\nTill the evenin' ends\\nYou don't have to answer\\nThere's no need to speak\\nI'll be your belly dancer\\nPrancer and you can be my sheik\\nI know your daddy's a sultan\\nA nomad known to all\\nWith fifty girls to attend him, they all send him\\nJump at his beck and call\\nBut you won't need no harem, honey\\nWhen I'm by your side\\nAnd you won't need no camel, no no\\nWhen I take you for a ride\\nCome on, Cactus is our friend\\nHe'll point out the way\\nCome on, till the evenin' ends\\nTill the evenin' ends\\nMidnight at the oasis\\nSend your camel to bed\\nShadows paintin' our faces\\nTraces of romance in our heads\\nOh, come on\\nOh come on\\nOh, yeah\\nOh, yeah\"],\n",
       " [['http://www.songlyrics.com/news/top-songs/',\n",
       "   u'New Kids On The Block',\n",
       "   'Cover Girl Lyrics  New Kids On The Block'],\n",
       "  u\"I get up in the morning and I see your face, girl\\nYou're looking so good, everything's in place\\nDon't you know I could never leave your side girl\\nWon't you stay here with me and be my bride?\\nDon't you know you're my kind, you're just what I like\\nGirl you're everything, don't you know you're alright\\nThe only girl I've always needed for so long\\nOh, oh oh, she's my cover girl\\nOh, oh oh, oh oh\\nOh, oh oh, she's my cover girl\\nOh, oh oh, oh oh\\nWhen I look through the pages of a magazine\\nStill, your pretty face is the prettiest I've seen\\nDon't you know I only wanna be with you\\nNo other girl could make me feel the way you do, you're my everything\\nOh, oh oh, she's my cover girl\\nOh, oh oh, oh oh\\nOh, oh oh, she's my cover girl\\nOh, oh oh, oh oh\\nOh, oh oh, she's my cover girl\\nOh, oh oh, oh oh\\nOh, oh oh, she's my cover girl\\nOh, oh oh, oh oh\\nBass, it's alright\\nOh, yeah, it's out of sight\\nLet me say it's alright\\nAh, yeah\\nDon't you know you're my kind\\nThe only girl, you're my everything\\nOh, oh oh, oh oh\\nOh, oh oh, oh oh\\nOh, oh oh, she's my cover girl\\nOh, oh oh, oh oh\\nOh, oh oh, she's my cover girl\\nOh, oh oh, oh oh\\nOh, oh oh, she's my\\nShe's my cover girl, oh yeah yeah\\nCover girl\"],\n",
       " [['http://www.songlyrics.com/news/top-songs/',\n",
       "   u'Helen Reddy',\n",
       "   'Leave Me Alone (Ruby Red Dress) Lyrics  Helen Reddy'],\n",
       "  u\"Big ole Ruby red dress wanders round the town\\nTalkin' to herself now, sometimes sitten down\\nDon't you get too close now, Ruby runs away\\nPoor ole Ruby red dress born on a sorry day\\nI can hear her say\\nLeave me alone, won't you leave me alone\\nPlease leave me alone, now leave me alone\\nOh leave me alone, please leave me alone, yes leave me\\nLeave me alone, won't you leave me alone\\nPlease leave me alone, now leave me alone\\nGod leave me along, just leave me alone, oh leave me\\nBig ole Ruby red dress, everybody laughs\\nSay she's got no future and never made no past\\nSomething hurt that Ruby, something she can't bear\\nYou look at her real close now, you see a little tear\\nOh when she says now\\nLeave me alone, won't you leave me alone\\nPlease leave me alone now, God leave me alone\\nOh leave me alone, just leave me alone, please leave me\\nLeave me alone, won't you leave me alone\\nPlease leave me alone, now leave me alone\\nOh leave me along, just leave me alone, oh leave me\\nSome folks say some farm boy up from Tennessee\\nTaught it all to Ruby, then just let her be\\nHer Daddy tried to hide it, tried to keep things cool\\nBut something happened to Ruby, she broke down to a fool\\nWho just said now\\nLeave me alone, won't you leave me alone\\nPlease leave me alone, now leave me alone\\nOh leave me alone, please leave me alone, yes leave me\\nLeave me alone, won't you leave me alone\\nPlease leave me alone, now leave me alone\\nGod leave me along, just leave me alone, please leave me\\nLeave me alone, won't you leave me alone\"],\n",
       " [['http://www.songlyrics.com/news/top-songs/',\n",
       "   u'Thalia feat. Fat Joe',\n",
       "   'I Want You Lyrics  Thalia feat. Fat Joe'],\n",
       "  u'No one else can ever\\nNo one else can ever\\nNo one else can ever\\nYeah, uh\\nYeah, uh\\nWhat did I do to deserve such a man so special in my life\\nSo many days and nights\\nI get on the go while I sit and wait for mister right\\nBaby, then came you\\nLaid back with your sexy smile\\nWhen you move your body you just drive me wild\\nIf you\\'re feeling me, baby, tell me now\\nBecause I want you, I want you\\nBaby, no one else can ever want you like I do\\nI\\'m feelin\\' love in the deepest fall\\nGive you the keys and all\\nYou even when helped me when the beef was on\\nTell me what you feel\\n\\xe2\\u20ac~Cause I\\'m feeling something real\\nI feel the same way, you make the Don say\\n\"Girl, I want you, girl, I need you\"\\nCan\\'t you see how this love affair\\nWould be good for you and me?\\n\\xe2\\u20ac~Cause baby, I swear no other man can do\\nThe things that you do when you love me\\nOh baby, you\\'re my lifetime fantasy\\nSo smooth, love the way you walk\\nI just love to hear when you talk your talk\\nSo if you\\'re feeling me, baby, let me know\\nBecause I want you, I want you\\nBaby, no one else can ever want you like I do\\nI\\'m feelin\\' love in the deepest fall\\nGive you the keys and all\\nYou even when helped me when the beef was on\\nTell me what you feel\\n\\xe2\\u20ac~Cause I\\'m feeling something real\\nI feel the same way, you make the Don say\\n\"Girl, I want you, girl, I need you, babe\"\\nSlow down, love, don\\'t you see me with my girl\\nWhat you thinkin\\' it was?\\nI know you\\'re used to seein\\' me in the clubs\\nDifferent chicks, sippin\\' Cris\\', just a million in dubs\\nBut I\\'ve changed, only got eyes for her\\nBelieve me, ain\\'t no girl dividin\\' us\\nWe could maybe elope, have a baby and all\\n\\xe2\\u20ac~Cause I don\\'t wanna be a player no more\\nBaby, no one else can ever want you like I do\\nI feel the same way, you make the Don say\\n\"Girl, I want you, girl, I need you\"\\nTell me what you feel\\n\\xe2\\u20ac~Cause I\\'m feeling something real\\nI feel the same way, you make the Don say\\n\"Girl, I want you, girl, I need you\"\\nBaby, no one else can ever want you like I do\\nI feel the same way, you make the Don say\\n\"Girl, I want you, girl, I need you\"\\nTell me what you feel\\n\\xe2\\u20ac~Cause I\\'m feeling something real\\nI feel the same way, you make the Don say\\n\"Girl, I want you, girl, I need you\"\\nBaby, baby, baby, baby\\nBaby, baby, baby, baby'],\n",
       " [['http://www.songlyrics.com/news/top-songs/',\n",
       "   u'Kenny Nolan',\n",
       "   \"Love's Grown Deep Lyrics Kenny Nolan\"],\n",
       "  u\"I love you so much\\nSomewhere back in time you became a friend of mine\\nAnd day by day we've grown a little closer\\nYou're my spirit to be strong, a friend when things go wrong\\nSo I've written down these words to let you know\\nLove's grown deep, deep into the heart of me\\nYou've become a part of me\\nLet us plant the seed and watch it grow\\nLove's grown deep, deep into the heart of me\\nYou've become a part of me\\nAs we travel down the road, side by side we'll share the load\\nHand in hand we'll see each other through\\nThough we've only just begun, let's count our blessings one by one\\nI thank God for life, I thank God for you\\nLove's grown deep, deep into the heart of me\\nYou've become a part of me\\nLet us plant the seed and watch it grow\\nLoves grown deep, deep into the heart of me\\nYou've become a part of me\\nAnd as the seasons slip away\\nForever lovers we will stay\\nTogether, do or die, with all our hearts\\nLove's grown deep, deep into the heart of me\\nYou've become a part of me\\nLet us plant the seed and watch it grow\\nLove's grown deep, deep into the heart of me\\nYou've become a part of me\"],\n",
       " [['http://www.songlyrics.com/news/top-songs/',\n",
       "   u'Bay City Rollers',\n",
       "   'Saturday Night Lyrics Bay City Rollers'],\n",
       "  u\"S.A.T.U.R.D.A.Y night\\nS.A.T.U.R.D.A.Y night\\nS.A.T.U.R.D.A.Y night\\nS.A.T.U.R.D.A.Y night\\nGonna keep on dancin' to the rock and roll\\nOn Saturday night, Saturday night\\nDancin' to the rhythm in our heart and soul\\nOn Saturday night, Saturday night\\nI, I, I, I, I just can't wait\\nI, I, I, I got a date\\nAt the good ole rock and roll road\\nShow, I gotta go\\nSaturday night\\nSaturday night\\nGonna rock it up, roll it up\\nDo it all, have a ball\\nSaturday night\\nSaturday night\\nIt's just a Saturday night\\nIt's just a Saturday night\\nIt's just a Saturday night\\nS.A.T.U.R.D.A.Y night\\nS.A.T.U.R.D.A.Y night\\nS.A.T.U.R.D.A.Y night\\nS.A.T.U.R.D.A.Y night\\nGonna dance with my baby till the night is through\\nOn Saturday night, Saturday night\\nTell her all the little things I'm gonna do\\nOn Saturday night, Saturday night\\nI, I, I, I, I love her so\\nI, I, I, I I'm gonna let her know\\nAt the good ole rock and roll road\\nShow, I gotta go\\nSaturday night\\nSaturday night\\nGonna rock it up, roll it up\\nDo it all, have a ball\\nSaturday night\\nSaturday night\\nIt's just a Saturday night\\nIt's just a Saturday night\\nIt's just a Saturday night\\nS.A.T.U.R.D.A.Y night\\nS.A.T.U.R.D.A.Y night\\nS.A.T.U.R.D.A.Y night\\nS.A.T.U.R.D.A.Y night\\nS.A.T.U.R.D.A.Y night\\nS.A.T.U.R.D.A.Y night\\nIt's just a Saturday night\\nIt's just a Saturday night\\nIt's just a Saturday night\\n...\"],\n",
       " [['http://www.songlyrics.com/news/top-songs/',\n",
       "   u'Britney Spears',\n",
       "   'Everytime Lyrics  Britney Spears'],\n",
       "  u\"Notice me, take my hand\\nWhy are we strangers\\nWhen our love is strong?\\nWhy carry on without me?\\nEverytime I try to fly\\nI fall without my wings\\nI feel so small\\nI guess I need you, baby\\nAnd everytime\\nI see you in my dreams\\nI see your face, it's haunting me\\nI guess I need you, baby\\nI make believe that you are here\\nIt's the only way I see clear\\nWhat have I done?\\nYou seem to move on easy\\nAnd everytime I try to fly\\nI fall without my wings\\nI feel so small\\nI guess I need you baby\\nAnd everytime\\nI see you in my dreams\\nI see your face, you're haunting me\\nI guess I need you baby\\nI may have made it rain\\nPlease forgive me\\nMy weakness caused you pain\\nAnd this song is my sorry\\nAt night I pray\\nThat soon your face\\nWill fade away\\nAnd everytime I try to fly\\nI fall without my wings\\nI feel so small\\nI guess I need you baby\\nAnd everytime I see you in my dreams\\nI see your face, you're haunting me\\nI guess I need you baby\"],\n",
       " [['http://www.songlyrics.com/news/top-songs/',\n",
       "   u'Santa Esmeralda',\n",
       "   'Dont Let Me Be Misunderstood Lyrics Santa Esmeralda'],\n",
       "  u\"Baby, do you understand me now?\\nSometimes I feel a little mad\\nBut, don't you know that no one alive can always be an angel\\nWhen things go wrong, I seem to be bad\\nI'm just a soul whose intentions are good\\nOh Lord, please don't let me be misunderstood\\nIf I seem edgy, I want you to know\\nThat I never meant to take it out on you\\nLife has its problems and I got my share\\nAnd that's one thing I never meant to do\\n'Cause I love you\\nBaby, don't you know, I'm just human?\\nAnd I've got thoughts like any other one\\nAnd sometimes I find myself, oh Lord, regretting\\nSome foolish thing, some foolish thing I've done\\nBut I'm just a soul whose intentions are good\\nOh Lord, please don't let me be misunderstood\\nOh Lord, don't let me be misunderstood\\nPlease don't let me be misunderstood\\nBaby, do you understand me now?\\nSometimes I feel a little mad\\nBut, don't you know that no one alive can always be an angel\\nWhen things go wrong I seem to be bad\\n'Cause I'm just a soul whose intentions are good\\nOh Lord, please don't let me be misunderstood\\nBaby, sometimes I'm so carefree\\nWith a joy that's hard to hide\\nAnd sometimes it seems that, all I have to do is worry\\nAnd then you're bound to see my other side\\n'Cause I'm just a soul whose intentions are good\\nOh Lord, please don't let me be misunderstood\\nIf I seem edgy, I want you to know\\nThat I never meant to take it out on you\\nLife has its problems and I got my share\\nAnd that's one thing I never meant to do\\n'Cause I love you\\nOh, baby, don't you know I'm human\\nI have thoughts like any other one\\nAnd sometimes I find myself, oh Lord, regretting\\nSome foolish thing, some foolish thing I've done\\n'Cause I'm just a soul whose intentions are good\\nOh Lord, please don't let me be misunderstood\"],\n",
       " [['http://www.songlyrics.com/news/top-songs/',\n",
       "   u'Leo Sayer',\n",
       "   'You Make Me Feel Like Dancing Lyrics Leo Sayer'],\n",
       "  u\"You've got a cute way of talkin'\\nYou got the better of me\\nJust snap your fingers and I'm walkin'\\nLike a dog hangin' on your lead\\nI'm in a spin, you know\\nShakin' on string, you know\\nYou make me feel like dancin'\\nI'm gonna dance the night away\\nYou make me feel like dancin'\\nI'm gonna dance the night away\\nYou make feel like dancin'\\nI feel like dancin', dancin'\\nDance the night away\\nI feel like dancin', dancin', ah\\nQuarter to four in the mornin'\\nI ain't feeling tired no, no, no, no, no\\nJust hold me tight and leave on the light\\n'Cause I don't want to go home\\nYou put a spell on me\\nI'm right where you want me to be\\nYou make me feel like dancin'\\nI want to dance the night away\\nYou make me feel like dancin'\\nI'm gonna dance the night away\\nYou make feel like dancin'\\nI feel like dancin', dancin'\\nDance the night away\\nI feel like dancin', dancin'\\nDance the night away\\nI feel like dancin', dancin'\\nDance the night away\\nI feel like dancin', dancin'\\nDance the night away, ah\\nAnd if you'll let me stay\\nWe'll dance our lives away\\nYou make me feel like dancin'\\nI wanna dance my life away\\nYou make me feel like dancin'\\nI wanna dance my life away\\nYou make me feel like dancin'\\nI wanna dance my life away\\n(I feel like dancin')\\nYou make me feel like dancin'\\nI wanna dance my life away\\n(I feel just like dancin')\\nYou make me feel like dancin'\"],\n",
       " [['http://www.songlyrics.com/news/top-songs/',\n",
       "   u'Neil Diamond',\n",
       "   'Love On The Rocks Lyrics  Neil Diamond'],\n",
       "  u\"Love on the rocks, ain't no big surprise\\nJust pour me a drink and I'll tell you some lies\\nI got nothing to lose\\nSo you just sing the blues for a while\\nI gave you my heart and I gave you my soul\\nYou left me alone here with nothing to hold\\nYesterday's gone\\nAnd now all I want is a smile\\nFirst, they say they want you\\nHow they really need you\\nSuddenly you find you're out there\\nWalking in the storm\\nWhen they know they have you\\nThen they really have you\\nNothing you can do or say\\nYou've got to leave, just get away\\nWe all know the song\\nYou need what you need\\nAnd you can say what you want\\nBut there's not much you can do\\nWhen the feeling is gone\\nAnd may be blue skies above\\nBut it's cold when you're love's on the rocks\\nFirst, they say they want you\\nHow they really need you\\nSuddenly you find you're out there\\nWalking in the storm\\nWhen they know they have you\\nThen they really have you\\nNothing you can do or say\\nYou've got to leave, just get away\\nWe all know the song\\nLove on the rocks, ain't no surprise\\nJust pour me a drink and I'll tell you some lies\\nYesterday's gone\\nAnd now all I want is a smile\"]]"
      ]
     },
     "execution_count": 20,
     "metadata": {},
     "output_type": "execute_result"
    }
   ],
   "source": [
    "song_lyrics2[:10]"
   ]
  },
  {
   "cell_type": "code",
   "execution_count": null,
   "metadata": {
    "collapsed": true
   },
   "outputs": [],
   "source": []
  },
  {
   "cell_type": "code",
   "execution_count": null,
   "metadata": {
    "collapsed": true
   },
   "outputs": [],
   "source": []
  },
  {
   "cell_type": "code",
   "execution_count": 21,
   "metadata": {
    "collapsed": false
   },
   "outputs": [],
   "source": [
    "# Save song lyrics.\n",
    "json.dump(song_lyrics2, open('data/song_lyrics_2.json', 'wt'), encoding='utf8')"
   ]
  },
  {
   "cell_type": "code",
   "execution_count": null,
   "metadata": {
    "collapsed": true
   },
   "outputs": [],
   "source": []
  },
  {
   "cell_type": "code",
   "execution_count": null,
   "metadata": {
    "collapsed": true
   },
   "outputs": [],
   "source": []
  },
  {
   "cell_type": "code",
   "execution_count": null,
   "metadata": {
    "collapsed": true
   },
   "outputs": [],
   "source": []
  },
  {
   "cell_type": "code",
   "execution_count": null,
   "metadata": {
    "collapsed": true
   },
   "outputs": [],
   "source": []
  },
  {
   "cell_type": "markdown",
   "metadata": {},
   "source": [
    "http://nlp.stanford.edu/IR-book/html/htmledition/document-and-query-weighting-schemes-1.html\n",
    "TextBlob"
   ]
  }
 ],
 "metadata": {
  "kernelspec": {
   "display_name": "Python 2",
   "language": "python",
   "name": "python2"
  },
  "language_info": {
   "codemirror_mode": {
    "name": "ipython",
    "version": 2
   },
   "file_extension": ".py",
   "mimetype": "text/x-python",
   "name": "python",
   "nbconvert_exporter": "python",
   "pygments_lexer": "ipython2",
   "version": "2.7.11"
  }
 },
 "nbformat": 4,
 "nbformat_minor": 0
}
