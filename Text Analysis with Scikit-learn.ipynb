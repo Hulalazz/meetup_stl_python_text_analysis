{
 "cells": [
  {
   "cell_type": "markdown",
   "metadata": {},
   "source": [
    "<h2>Text Analysis with Scikit-learn</h2>\n",
    "\n",
    "Thanks to everyone for coming today. Excited to be here and talk about a neat topic I really enjoy, which is text analysis with Python, specifically with scikit-learn. While I have been able to use this at work occassionally, I am definitely not an Natural Language Processing expert. However, one of the cool things about the python scientific computing ecosystem is that you can *not* be an expert and still do some neat stuff.\n",
    "\n",
    "Title slide. Contact info. github info.\n",
    "\n",
    "::get slides from work::\n",
    "\n",
    "Text analysis is the extraction of information from unstructured (in most cases) text. This is difficult because computer only understand numbers. So in order to analyze text with computers, we have to do some kind of processing to it. There are two basic ways to approach text analysis: look for patterns in the text (these words often appear together/near each other (multi-word term), these words are often used in the same context but never appear together (synonyms), etc.); or you can convert the text to numbers and do math on them. \n",
    "\n",
    "The technique we're going to discuss today is called Term Frequency-Inverse Document Frequency (TF-IDF), and it is a fairly common method in the area of Information Retrieval (IR) for comparing and searching documents. What we're going to end up doing is taking our big set of documents, called the corpus, and these can be any type of document: news articles, emails, online comments (although the longer the documents the better the results), and we're going to turn them into matrices (number), and then we're going to do some pretty basic math on them. That math is going to help us define what's called a distance metric between any two documents, which we can then use for comparisions and searches. Ok, but first, let's think about this problem intuitively. \n",
    "\n",
    "Let's say we have three documents. Our documents are just going to be sentences. \n",
    "<li>The dog is jumping over the fence.</li>\n",
    "<li>The dog is climbing up the fence.</li>\n",
    "<li>The cat is sitting on the window.</li>\n",
    "So how similar/disimilar are these sentences? Well, that's a little hard to answer right now because that is trying to quantify something about the text. What about a difference question: which two sentences are the most similar? The first two?  Why? They share a lot of the same words, so we can think of them as being similar in their contents based on the inclusion of identical words. \n",
    "\n",
    "::Add another sentence and point out which words end up being the important ones.::\n",
    "<li>A dog was sitting in this window.</li>\n",
    "\n",
    "So this is good. We could define a similarity metric as the number of words two sentences have in common. But is that good enough? What about these sentences?\n",
    "<li>A dog was jumping over this fence and then ran over to the next yard so very quickly.</li>\n",
    "<li>A cat was leaning over this edge and then jumped over to the next table so very quickly.</li>\n",
    "They have many more words in common than our first two sentences, so are they more similar? Probably not. But this is function of the length of the sentences, so let's try to normalize by dividing by the number of words in the sentence. This will give us a percent of similarity. Well it turns out these longer sentences still get a higher similarity score. So what's the problem? Intiutively we know the first two sentences are similar, but it seems that using numbers suggests the latest two sentences are more similar. So what's the problem? The problem is that we're considering all the words equal, when, for purposes of distiguishing sentences from one another, they are not equal. Why not? \n",
    "<li>A dog was jumping over this fence and then ran over to the next yard so very quickly.</li>\n",
    "<li>A cat was leaning over this fence and then jumped over to the next yard so very quickly.</li>\n",
    "<li>A squirrel was leaping over this branch and then scampered over to the next tree so very quickly.</li>\n",
    "<li>A bird was peering over this branch and then flew over to the next tree.</li>\n",
    "If we were going to distiguish between these sentences, any word that appears in all the sentences is worthless. It doesn't help us to determine if any pair of sentences is similar or disimilar because it's common to all of them. It's almost a characteristic of a sentence in general, as opposed to a charateristics of a particular sentence. So we don't want to use words that appear in all sentences. We either throw them out or weight them very low (more on that later). What about words that appear in a lot but not all sentences? \"so very quickly\" appears in all but one sentence....\n",
    "Somewhat useful, but not super useful.\n",
    "Tree, branch, fence, yard: appear in some, but not all or most, so they are usefula nd will get weighted the highest.\n",
    "This is the Inverse Document Frequency part of the TF-IDF. The more documents a word appears in the, the less useful it is in distinguishing between the documents, so it get weighted less. The Inverse essentially means we divide by the number of documents the word (or term) appears in. \n",
    "For the first part, the Term Frequency, we're simply going to calculate the frequency of each term in each document by counting the number of times it appears in the document and dividing by the total number of words in the documnets. The assumption here is that the more often a word appears in a document, the more closely it represents the topic of the document.\n",
    "\n",
    "\n",
    "Ok, so let's actually calculate some TF-IDFs by hand, and then we'll do it in Python.\n",
    "::example with a few sentences::\n",
    "::create list of all the words. Count number of docs each word appear in. create vector for each doc. Calculate Euclidean distance::\n",
    "Show distances between pairs of sentences. Show the dog and cat are similar and the squirrel and bird are similar.\n",
    "\n",
    "\n"
   ]
  },
  {
   "cell_type": "markdown",
   "metadata": {},
   "source": [
    "\n"
   ]
  },
  {
   "cell_type": "markdown",
   "metadata": {},
   "source": [
    "<div style=\"margin-top:200px\"/>"
   ]
  },
  {
   "cell_type": "code",
   "execution_count": 7,
   "metadata": {
    "collapsed": true
   },
   "outputs": [],
   "source": [
    "from sklearn.feature_extraction.text import CountVectorizer\n",
    "from sklearn.feature_extraction.text import TfidfTransformer\n",
    "import pandas as pd"
   ]
  },
  {
   "cell_type": "markdown",
   "metadata": {},
   "source": [
    "###### Example 1: Short Sentences"
   ]
  },
  {
   "cell_type": "code",
   "execution_count": 2,
   "metadata": {
    "collapsed": true
   },
   "outputs": [],
   "source": [
    "short_sentences = ['The dog is jumping over the fence.', \n",
    "                   'The dog is climbing up the fence.',\n",
    "                   'The cat is sitting on the window.']"
   ]
  },
  {
   "cell_type": "code",
   "execution_count": 3,
   "metadata": {
    "collapsed": true
   },
   "outputs": [],
   "source": [
    "# Create an instance of the CountVectorizer.\n",
    "cv = CountVectorizer()\n",
    "\n",
    "# Create a count matrix from the list of documents.\n",
    "count_matrix = cv.fit_transform(short_sentences)"
   ]
  },
  {
   "cell_type": "code",
   "execution_count": 28,
   "metadata": {
    "collapsed": false
   },
   "outputs": [
    {
     "data": {
      "text/html": [
       "<div>\n",
       "<table border=\"1\" class=\"dataframe\">\n",
       "  <thead>\n",
       "    <tr style=\"text-align: right;\">\n",
       "      <th></th>\n",
       "      <th>cat</th>\n",
       "      <th>climbing</th>\n",
       "      <th>dog</th>\n",
       "      <th>fence</th>\n",
       "      <th>is</th>\n",
       "      <th>jumping</th>\n",
       "      <th>on</th>\n",
       "      <th>over</th>\n",
       "      <th>sitting</th>\n",
       "      <th>the</th>\n",
       "      <th>up</th>\n",
       "      <th>window</th>\n",
       "    </tr>\n",
       "  </thead>\n",
       "  <tbody>\n",
       "    <tr>\n",
       "      <th>The dog is jumping over the fence.</th>\n",
       "      <td>0</td>\n",
       "      <td>0</td>\n",
       "      <td>1</td>\n",
       "      <td>1</td>\n",
       "      <td>1</td>\n",
       "      <td>1</td>\n",
       "      <td>0</td>\n",
       "      <td>1</td>\n",
       "      <td>0</td>\n",
       "      <td>2</td>\n",
       "      <td>0</td>\n",
       "      <td>0</td>\n",
       "    </tr>\n",
       "    <tr>\n",
       "      <th>The dog is climbing up the fence.</th>\n",
       "      <td>0</td>\n",
       "      <td>1</td>\n",
       "      <td>1</td>\n",
       "      <td>1</td>\n",
       "      <td>1</td>\n",
       "      <td>0</td>\n",
       "      <td>0</td>\n",
       "      <td>0</td>\n",
       "      <td>0</td>\n",
       "      <td>2</td>\n",
       "      <td>1</td>\n",
       "      <td>0</td>\n",
       "    </tr>\n",
       "    <tr>\n",
       "      <th>The cat is sitting on the window.</th>\n",
       "      <td>1</td>\n",
       "      <td>0</td>\n",
       "      <td>0</td>\n",
       "      <td>0</td>\n",
       "      <td>1</td>\n",
       "      <td>0</td>\n",
       "      <td>1</td>\n",
       "      <td>0</td>\n",
       "      <td>1</td>\n",
       "      <td>2</td>\n",
       "      <td>0</td>\n",
       "      <td>1</td>\n",
       "    </tr>\n",
       "  </tbody>\n",
       "</table>\n",
       "</div>"
      ],
      "text/plain": [
       "                                    cat  climbing  dog  fence  is  jumping  \\\n",
       "The dog is jumping over the fence.    0         0    1      1   1        1   \n",
       "The dog is climbing up the fence.     0         1    1      1   1        0   \n",
       "The cat is sitting on the window.     1         0    0      0   1        0   \n",
       "\n",
       "                                    on  over  sitting  the  up  window  \n",
       "The dog is jumping over the fence.   0     1        0    2   0       0  \n",
       "The dog is climbing up the fence.    0     0        0    2   1       0  \n",
       "The cat is sitting on the window.    1     0        1    2   0       1  "
      ]
     },
     "execution_count": 28,
     "metadata": {},
     "output_type": "execute_result"
    }
   ],
   "source": [
    "# Create a dataframe out of the count matrix with labels and columns names for easier reading.\n",
    "short_sent_df = pd.DataFrame(count_matrix.todense(), index=short_sentences, columns=sorted(cv.vocabulary_))\n",
    "short_sent_df"
   ]
  },
  {
   "cell_type": "markdown",
   "metadata": {},
   "source": [
    "<div style=\"margin-top:200px\"/>"
   ]
  },
  {
   "cell_type": "markdown",
   "metadata": {},
   "source": [
    "###### Example 2: Long sentences"
   ]
  },
  {
   "cell_type": "code",
   "execution_count": 150,
   "metadata": {
    "collapsed": true
   },
   "outputs": [],
   "source": [
    "long_sentences = ['A dog was jumping over this fence and then ran over to the next yard so very quickly.',\n",
    "                  'A cat was leaning over this fence and then jumped over to the next yard so very quickly.',\n",
    "                  'A squirrel was leaping over this branch and then scampered over to the next tree so very quickly.',\n",
    "                  'A bird was peering over this branch and then flew over to the next tree.']"
   ]
  },
  {
   "cell_type": "code",
   "execution_count": 140,
   "metadata": {
    "collapsed": true
   },
   "outputs": [],
   "source": [
    "long_sentences = ['dog dog dog dog dog dog dog dog something else.',\n",
    "                  'A cat was leaning over this fence and then jumped over to the next yard so very quickly.',\n",
    "                  'A squirrel was leaping over this branch and then scampered over to the next tree so very quickly.',\n",
    "                  'A bird was peering over this branch and then flew over to the next tree.']"
   ]
  },
  {
   "cell_type": "code",
   "execution_count": 151,
   "metadata": {
    "collapsed": true
   },
   "outputs": [],
   "source": [
    "# Create an instance of the CountVectorizer.\n",
    "cv = CountVectorizer()\n",
    "\n",
    "# Create a count matrix from the list of documents.\n",
    "long_count_matrix = cv.fit_transform(long_sentences)"
   ]
  },
  {
   "cell_type": "code",
   "execution_count": 152,
   "metadata": {
    "collapsed": false
   },
   "outputs": [
    {
     "data": {
      "text/html": [
       "<div>\n",
       "<table border=\"1\" class=\"dataframe\">\n",
       "  <thead>\n",
       "    <tr style=\"text-align: right;\">\n",
       "      <th></th>\n",
       "      <th>and</th>\n",
       "      <th>bird</th>\n",
       "      <th>branch</th>\n",
       "      <th>cat</th>\n",
       "      <th>dog</th>\n",
       "      <th>fence</th>\n",
       "      <th>flew</th>\n",
       "      <th>jumped</th>\n",
       "      <th>jumping</th>\n",
       "      <th>leaning</th>\n",
       "      <th>...</th>\n",
       "      <th>so</th>\n",
       "      <th>squirrel</th>\n",
       "      <th>the</th>\n",
       "      <th>then</th>\n",
       "      <th>this</th>\n",
       "      <th>to</th>\n",
       "      <th>tree</th>\n",
       "      <th>very</th>\n",
       "      <th>was</th>\n",
       "      <th>yard</th>\n",
       "    </tr>\n",
       "  </thead>\n",
       "  <tbody>\n",
       "    <tr>\n",
       "      <th>A dog was jumping over this fence and then ran over to the next yard so very quickly.</th>\n",
       "      <td>1</td>\n",
       "      <td>0</td>\n",
       "      <td>0</td>\n",
       "      <td>0</td>\n",
       "      <td>1</td>\n",
       "      <td>1</td>\n",
       "      <td>0</td>\n",
       "      <td>0</td>\n",
       "      <td>1</td>\n",
       "      <td>0</td>\n",
       "      <td>...</td>\n",
       "      <td>1</td>\n",
       "      <td>0</td>\n",
       "      <td>1</td>\n",
       "      <td>1</td>\n",
       "      <td>1</td>\n",
       "      <td>1</td>\n",
       "      <td>0</td>\n",
       "      <td>1</td>\n",
       "      <td>1</td>\n",
       "      <td>1</td>\n",
       "    </tr>\n",
       "    <tr>\n",
       "      <th>A cat was leaning over this fence and then jumped over to the next yard so very quickly.</th>\n",
       "      <td>1</td>\n",
       "      <td>0</td>\n",
       "      <td>0</td>\n",
       "      <td>1</td>\n",
       "      <td>0</td>\n",
       "      <td>1</td>\n",
       "      <td>0</td>\n",
       "      <td>1</td>\n",
       "      <td>0</td>\n",
       "      <td>1</td>\n",
       "      <td>...</td>\n",
       "      <td>1</td>\n",
       "      <td>0</td>\n",
       "      <td>1</td>\n",
       "      <td>1</td>\n",
       "      <td>1</td>\n",
       "      <td>1</td>\n",
       "      <td>0</td>\n",
       "      <td>1</td>\n",
       "      <td>1</td>\n",
       "      <td>1</td>\n",
       "    </tr>\n",
       "    <tr>\n",
       "      <th>A squirrel was leaping over this branch and then scampered over to the next tree so very quickly.</th>\n",
       "      <td>1</td>\n",
       "      <td>0</td>\n",
       "      <td>1</td>\n",
       "      <td>0</td>\n",
       "      <td>0</td>\n",
       "      <td>0</td>\n",
       "      <td>0</td>\n",
       "      <td>0</td>\n",
       "      <td>0</td>\n",
       "      <td>0</td>\n",
       "      <td>...</td>\n",
       "      <td>1</td>\n",
       "      <td>1</td>\n",
       "      <td>1</td>\n",
       "      <td>1</td>\n",
       "      <td>1</td>\n",
       "      <td>1</td>\n",
       "      <td>1</td>\n",
       "      <td>1</td>\n",
       "      <td>1</td>\n",
       "      <td>0</td>\n",
       "    </tr>\n",
       "    <tr>\n",
       "      <th>A bird was peering over this branch and then flew over to the next tree.</th>\n",
       "      <td>1</td>\n",
       "      <td>1</td>\n",
       "      <td>1</td>\n",
       "      <td>0</td>\n",
       "      <td>0</td>\n",
       "      <td>0</td>\n",
       "      <td>1</td>\n",
       "      <td>0</td>\n",
       "      <td>0</td>\n",
       "      <td>0</td>\n",
       "      <td>...</td>\n",
       "      <td>0</td>\n",
       "      <td>0</td>\n",
       "      <td>1</td>\n",
       "      <td>1</td>\n",
       "      <td>1</td>\n",
       "      <td>1</td>\n",
       "      <td>1</td>\n",
       "      <td>0</td>\n",
       "      <td>1</td>\n",
       "      <td>0</td>\n",
       "    </tr>\n",
       "  </tbody>\n",
       "</table>\n",
       "<p>4 rows × 27 columns</p>\n",
       "</div>"
      ],
      "text/plain": [
       "                                                    and  bird  branch  cat  \\\n",
       "A dog was jumping over this fence and then ran ...    1     0       0    0   \n",
       "A cat was leaning over this fence and then jump...    1     0       0    1   \n",
       "A squirrel was leaping over this branch and the...    1     0       1    0   \n",
       "A bird was peering over this branch and then fl...    1     1       1    0   \n",
       "\n",
       "                                                    dog  fence  flew  jumped  \\\n",
       "A dog was jumping over this fence and then ran ...    1      1     0       0   \n",
       "A cat was leaning over this fence and then jump...    0      1     0       1   \n",
       "A squirrel was leaping over this branch and the...    0      0     0       0   \n",
       "A bird was peering over this branch and then fl...    0      0     1       0   \n",
       "\n",
       "                                                    jumping  leaning  ...   \\\n",
       "A dog was jumping over this fence and then ran ...        1        0  ...    \n",
       "A cat was leaning over this fence and then jump...        0        1  ...    \n",
       "A squirrel was leaping over this branch and the...        0        0  ...    \n",
       "A bird was peering over this branch and then fl...        0        0  ...    \n",
       "\n",
       "                                                    so  squirrel  the  then  \\\n",
       "A dog was jumping over this fence and then ran ...   1         0    1     1   \n",
       "A cat was leaning over this fence and then jump...   1         0    1     1   \n",
       "A squirrel was leaping over this branch and the...   1         1    1     1   \n",
       "A bird was peering over this branch and then fl...   0         0    1     1   \n",
       "\n",
       "                                                    this  to  tree  very  was  \\\n",
       "A dog was jumping over this fence and then ran ...     1   1     0     1    1   \n",
       "A cat was leaning over this fence and then jump...     1   1     0     1    1   \n",
       "A squirrel was leaping over this branch and the...     1   1     1     1    1   \n",
       "A bird was peering over this branch and then fl...     1   1     1     0    1   \n",
       "\n",
       "                                                    yard  \n",
       "A dog was jumping over this fence and then ran ...     1  \n",
       "A cat was leaning over this fence and then jump...     1  \n",
       "A squirrel was leaping over this branch and the...     0  \n",
       "A bird was peering over this branch and then fl...     0  \n",
       "\n",
       "[4 rows x 27 columns]"
      ]
     },
     "execution_count": 152,
     "metadata": {},
     "output_type": "execute_result"
    }
   ],
   "source": [
    "# Create a dataframe out of the count matrix with labels and columns names for easier reading.\n",
    "long_sent_df = pd.DataFrame(long_count_matrix.todense(), index=long_sentences, columns=sorted(cv.vocabulary_))\n",
    "long_sent_df"
   ]
  },
  {
   "cell_type": "code",
   "execution_count": 153,
   "metadata": {
    "collapsed": true
   },
   "outputs": [],
   "source": [
    "# Create an instance of a TfidfTransformer.\n",
    "tfidf = TfidfTransformer(norm='l1', use_idf=False, smooth_idf=False)\n",
    "\n",
    "# Created a weighted matrix.\n",
    "weighted_matrix = tfidf.fit_transform(long_count_matrix)"
   ]
  },
  {
   "cell_type": "code",
   "execution_count": 154,
   "metadata": {
    "collapsed": false
   },
   "outputs": [
    {
     "data": {
      "text/plain": [
       "<4x27 sparse matrix of type '<type 'numpy.float64'>'\n",
       "\twith 61 stored elements in Compressed Sparse Row format>"
      ]
     },
     "execution_count": 154,
     "metadata": {},
     "output_type": "execute_result"
    }
   ],
   "source": [
    "weighted_matrix"
   ]
  },
  {
   "cell_type": "code",
   "execution_count": 155,
   "metadata": {
    "collapsed": false
   },
   "outputs": [
    {
     "data": {
      "text/html": [
       "<div>\n",
       "<table border=\"1\" class=\"dataframe\">\n",
       "  <thead>\n",
       "    <tr style=\"text-align: right;\">\n",
       "      <th></th>\n",
       "      <th>and</th>\n",
       "      <th>bird</th>\n",
       "      <th>branch</th>\n",
       "      <th>cat</th>\n",
       "      <th>dog</th>\n",
       "      <th>fence</th>\n",
       "      <th>flew</th>\n",
       "      <th>jumped</th>\n",
       "      <th>jumping</th>\n",
       "      <th>leaning</th>\n",
       "      <th>...</th>\n",
       "      <th>so</th>\n",
       "      <th>squirrel</th>\n",
       "      <th>the</th>\n",
       "      <th>then</th>\n",
       "      <th>this</th>\n",
       "      <th>to</th>\n",
       "      <th>tree</th>\n",
       "      <th>very</th>\n",
       "      <th>was</th>\n",
       "      <th>yard</th>\n",
       "    </tr>\n",
       "  </thead>\n",
       "  <tbody>\n",
       "    <tr>\n",
       "      <th>dog</th>\n",
       "      <td>0.058824</td>\n",
       "      <td>0.000000</td>\n",
       "      <td>0.000000</td>\n",
       "      <td>0.000000</td>\n",
       "      <td>0.058824</td>\n",
       "      <td>0.058824</td>\n",
       "      <td>0.000000</td>\n",
       "      <td>0.000000</td>\n",
       "      <td>0.058824</td>\n",
       "      <td>0.000000</td>\n",
       "      <td>...</td>\n",
       "      <td>0.058824</td>\n",
       "      <td>0.000000</td>\n",
       "      <td>0.058824</td>\n",
       "      <td>0.058824</td>\n",
       "      <td>0.058824</td>\n",
       "      <td>0.058824</td>\n",
       "      <td>0.000000</td>\n",
       "      <td>0.058824</td>\n",
       "      <td>0.058824</td>\n",
       "      <td>0.058824</td>\n",
       "    </tr>\n",
       "    <tr>\n",
       "      <th>cat</th>\n",
       "      <td>0.058824</td>\n",
       "      <td>0.000000</td>\n",
       "      <td>0.000000</td>\n",
       "      <td>0.058824</td>\n",
       "      <td>0.000000</td>\n",
       "      <td>0.058824</td>\n",
       "      <td>0.000000</td>\n",
       "      <td>0.058824</td>\n",
       "      <td>0.000000</td>\n",
       "      <td>0.058824</td>\n",
       "      <td>...</td>\n",
       "      <td>0.058824</td>\n",
       "      <td>0.000000</td>\n",
       "      <td>0.058824</td>\n",
       "      <td>0.058824</td>\n",
       "      <td>0.058824</td>\n",
       "      <td>0.058824</td>\n",
       "      <td>0.000000</td>\n",
       "      <td>0.058824</td>\n",
       "      <td>0.058824</td>\n",
       "      <td>0.058824</td>\n",
       "    </tr>\n",
       "    <tr>\n",
       "      <th>squirrel</th>\n",
       "      <td>0.058824</td>\n",
       "      <td>0.000000</td>\n",
       "      <td>0.058824</td>\n",
       "      <td>0.000000</td>\n",
       "      <td>0.000000</td>\n",
       "      <td>0.000000</td>\n",
       "      <td>0.000000</td>\n",
       "      <td>0.000000</td>\n",
       "      <td>0.000000</td>\n",
       "      <td>0.000000</td>\n",
       "      <td>...</td>\n",
       "      <td>0.058824</td>\n",
       "      <td>0.058824</td>\n",
       "      <td>0.058824</td>\n",
       "      <td>0.058824</td>\n",
       "      <td>0.058824</td>\n",
       "      <td>0.058824</td>\n",
       "      <td>0.058824</td>\n",
       "      <td>0.058824</td>\n",
       "      <td>0.058824</td>\n",
       "      <td>0.000000</td>\n",
       "    </tr>\n",
       "    <tr>\n",
       "      <th>bird</th>\n",
       "      <td>0.071429</td>\n",
       "      <td>0.071429</td>\n",
       "      <td>0.071429</td>\n",
       "      <td>0.000000</td>\n",
       "      <td>0.000000</td>\n",
       "      <td>0.000000</td>\n",
       "      <td>0.071429</td>\n",
       "      <td>0.000000</td>\n",
       "      <td>0.000000</td>\n",
       "      <td>0.000000</td>\n",
       "      <td>...</td>\n",
       "      <td>0.000000</td>\n",
       "      <td>0.000000</td>\n",
       "      <td>0.071429</td>\n",
       "      <td>0.071429</td>\n",
       "      <td>0.071429</td>\n",
       "      <td>0.071429</td>\n",
       "      <td>0.071429</td>\n",
       "      <td>0.000000</td>\n",
       "      <td>0.071429</td>\n",
       "      <td>0.000000</td>\n",
       "    </tr>\n",
       "  </tbody>\n",
       "</table>\n",
       "<p>4 rows × 27 columns</p>\n",
       "</div>"
      ],
      "text/plain": [
       "               and      bird    branch       cat       dog     fence  \\\n",
       "dog       0.058824  0.000000  0.000000  0.000000  0.058824  0.058824   \n",
       "cat       0.058824  0.000000  0.000000  0.058824  0.000000  0.058824   \n",
       "squirrel  0.058824  0.000000  0.058824  0.000000  0.000000  0.000000   \n",
       "bird      0.071429  0.071429  0.071429  0.000000  0.000000  0.000000   \n",
       "\n",
       "              flew    jumped   jumping   leaning    ...           so  \\\n",
       "dog       0.000000  0.000000  0.058824  0.000000    ...     0.058824   \n",
       "cat       0.000000  0.058824  0.000000  0.058824    ...     0.058824   \n",
       "squirrel  0.000000  0.000000  0.000000  0.000000    ...     0.058824   \n",
       "bird      0.071429  0.000000  0.000000  0.000000    ...     0.000000   \n",
       "\n",
       "          squirrel       the      then      this        to      tree  \\\n",
       "dog       0.000000  0.058824  0.058824  0.058824  0.058824  0.000000   \n",
       "cat       0.000000  0.058824  0.058824  0.058824  0.058824  0.000000   \n",
       "squirrel  0.058824  0.058824  0.058824  0.058824  0.058824  0.058824   \n",
       "bird      0.000000  0.071429  0.071429  0.071429  0.071429  0.071429   \n",
       "\n",
       "              very       was      yard  \n",
       "dog       0.058824  0.058824  0.058824  \n",
       "cat       0.058824  0.058824  0.058824  \n",
       "squirrel  0.058824  0.058824  0.000000  \n",
       "bird      0.000000  0.071429  0.000000  \n",
       "\n",
       "[4 rows x 27 columns]"
      ]
     },
     "execution_count": 155,
     "metadata": {},
     "output_type": "execute_result"
    }
   ],
   "source": [
    "# Create a dataframe out of the count matrix with labels and columns names for easier reading.\n",
    "long_sent_weighted_df = pd.DataFrame(weighted_matrix.todense(), index=[s.split()[1] for s in long_sentences], columns=sorted(cv.vocabulary_))\n",
    "long_sent_weighted_df"
   ]
  },
  {
   "cell_type": "code",
   "execution_count": 156,
   "metadata": {
    "collapsed": false
   },
   "outputs": [
    {
     "data": {
      "text/plain": [
       "dog         0.058824\n",
       "cat         0.058824\n",
       "squirrel    0.058824\n",
       "bird        0.000000\n",
       "Name: quickly, dtype: float64"
      ]
     },
     "execution_count": 156,
     "metadata": {},
     "output_type": "execute_result"
    }
   ],
   "source": [
    "long_sent_weighted_df['quickly']"
   ]
  },
  {
   "cell_type": "code",
   "execution_count": 165,
   "metadata": {
    "collapsed": false
   },
   "outputs": [
    {
     "data": {
      "text/plain": [
       "0.07142857142857142"
      ]
     },
     "execution_count": 165,
     "metadata": {},
     "output_type": "execute_result"
    }
   ],
   "source": [
    "1/14.0"
   ]
  },
  {
   "cell_type": "code",
   "execution_count": 164,
   "metadata": {
    "collapsed": false
   },
   "outputs": [
    {
     "data": {
      "text/plain": [
       "matrix([[17],\n",
       "        [17],\n",
       "        [17],\n",
       "        [14]], dtype=int64)"
      ]
     },
     "execution_count": 164,
     "metadata": {},
     "output_type": "execute_result"
    }
   ],
   "source": [
    "pd.np.sum(long_count_matrix.todense(), axis=1)"
   ]
  },
  {
   "cell_type": "code",
   "execution_count": 158,
   "metadata": {
    "collapsed": false
   },
   "outputs": [
    {
     "name": "stdout",
     "output_type": "stream",
     "text": [
      "dog 18\n",
      "cat 18\n",
      "squirrel 18\n",
      "bird 15\n"
     ]
    }
   ],
   "source": [
    "# Print the number of words in each sentence.\n",
    "for s in long_sentences:\n",
    "    print(s.split()[1] + ' ' + str(len(s.split())))"
   ]
  },
  {
   "cell_type": "code",
   "execution_count": 159,
   "metadata": {
    "collapsed": false
   },
   "outputs": [
    {
     "ename": "TypeError",
     "evalue": "zip argument #2 must support iteration",
     "output_type": "error",
     "traceback": [
      "\u001b[1;31m---------------------------------------------------------------------------\u001b[0m",
      "\u001b[1;31mTypeError\u001b[0m                                 Traceback (most recent call last)",
      "\u001b[1;32m<ipython-input-159-b37f21ee1c1a>\u001b[0m in \u001b[0;36m<module>\u001b[1;34m()\u001b[0m\n\u001b[1;32m----> 1\u001b[1;33m \u001b[0mzip\u001b[0m\u001b[1;33m(\u001b[0m\u001b[0msorted\u001b[0m\u001b[1;33m(\u001b[0m\u001b[0mcv\u001b[0m\u001b[1;33m.\u001b[0m\u001b[0mvocabulary_\u001b[0m\u001b[1;33m)\u001b[0m\u001b[1;33m,\u001b[0m \u001b[0mtfidf\u001b[0m\u001b[1;33m.\u001b[0m\u001b[0midf_\u001b[0m\u001b[1;33m)\u001b[0m\u001b[1;33m\u001b[0m\u001b[0m\n\u001b[0m",
      "\u001b[1;31mTypeError\u001b[0m: zip argument #2 must support iteration"
     ]
    }
   ],
   "source": [
    "zip(sorted(cv.vocabulary_), tfidf.idf_)"
   ]
  },
  {
   "cell_type": "code",
   "execution_count": null,
   "metadata": {
    "collapsed": true
   },
   "outputs": [],
   "source": []
  },
  {
   "cell_type": "code",
   "execution_count": null,
   "metadata": {
    "collapsed": true
   },
   "outputs": [],
   "source": []
  },
  {
   "cell_type": "markdown",
   "metadata": {},
   "source": [
    "<div style=\"margin-top:200px\"/>"
   ]
  },
  {
   "cell_type": "markdown",
   "metadata": {},
   "source": [
    "###### Example 3: An interesting one"
   ]
  },
  {
   "cell_type": "code",
   "execution_count": 151,
   "metadata": {
    "collapsed": true
   },
   "outputs": [],
   "source": [
    "# Create an instance of the CountVectorizer.\n",
    "cv = CountVectorizer()\n",
    "\n",
    "# Create a count matrix from the list of documents.\n",
    "long_count_matrix = cv.fit_transform(long_sentences)"
   ]
  },
  {
   "cell_type": "code",
   "execution_count": 152,
   "metadata": {
    "collapsed": true
   },
   "outputs": [
    {
     "data": {
      "text/html": [
       "<div>\n",
       "<table border=\"1\" class=\"dataframe\">\n",
       "  <thead>\n",
       "    <tr style=\"text-align: right;\">\n",
       "      <th></th>\n",
       "      <th>and</th>\n",
       "      <th>bird</th>\n",
       "      <th>branch</th>\n",
       "      <th>cat</th>\n",
       "      <th>dog</th>\n",
       "      <th>fence</th>\n",
       "      <th>flew</th>\n",
       "      <th>jumped</th>\n",
       "      <th>jumping</th>\n",
       "      <th>leaning</th>\n",
       "      <th>...</th>\n",
       "      <th>so</th>\n",
       "      <th>squirrel</th>\n",
       "      <th>the</th>\n",
       "      <th>then</th>\n",
       "      <th>this</th>\n",
       "      <th>to</th>\n",
       "      <th>tree</th>\n",
       "      <th>very</th>\n",
       "      <th>was</th>\n",
       "      <th>yard</th>\n",
       "    </tr>\n",
       "  </thead>\n",
       "  <tbody>\n",
       "    <tr>\n",
       "      <th>A dog was jumping over this fence and then ran over to the next yard so very quickly.</th>\n",
       "      <td>1</td>\n",
       "      <td>0</td>\n",
       "      <td>0</td>\n",
       "      <td>0</td>\n",
       "      <td>1</td>\n",
       "      <td>1</td>\n",
       "      <td>0</td>\n",
       "      <td>0</td>\n",
       "      <td>1</td>\n",
       "      <td>0</td>\n",
       "      <td>...</td>\n",
       "      <td>1</td>\n",
       "      <td>0</td>\n",
       "      <td>1</td>\n",
       "      <td>1</td>\n",
       "      <td>1</td>\n",
       "      <td>1</td>\n",
       "      <td>0</td>\n",
       "      <td>1</td>\n",
       "      <td>1</td>\n",
       "      <td>1</td>\n",
       "    </tr>\n",
       "    <tr>\n",
       "      <th>A cat was leaning over this fence and then jumped over to the next yard so very quickly.</th>\n",
       "      <td>1</td>\n",
       "      <td>0</td>\n",
       "      <td>0</td>\n",
       "      <td>1</td>\n",
       "      <td>0</td>\n",
       "      <td>1</td>\n",
       "      <td>0</td>\n",
       "      <td>1</td>\n",
       "      <td>0</td>\n",
       "      <td>1</td>\n",
       "      <td>...</td>\n",
       "      <td>1</td>\n",
       "      <td>0</td>\n",
       "      <td>1</td>\n",
       "      <td>1</td>\n",
       "      <td>1</td>\n",
       "      <td>1</td>\n",
       "      <td>0</td>\n",
       "      <td>1</td>\n",
       "      <td>1</td>\n",
       "      <td>1</td>\n",
       "    </tr>\n",
       "    <tr>\n",
       "      <th>A squirrel was leaping over this branch and then scampered over to the next tree so very quickly.</th>\n",
       "      <td>1</td>\n",
       "      <td>0</td>\n",
       "      <td>1</td>\n",
       "      <td>0</td>\n",
       "      <td>0</td>\n",
       "      <td>0</td>\n",
       "      <td>0</td>\n",
       "      <td>0</td>\n",
       "      <td>0</td>\n",
       "      <td>0</td>\n",
       "      <td>...</td>\n",
       "      <td>1</td>\n",
       "      <td>1</td>\n",
       "      <td>1</td>\n",
       "      <td>1</td>\n",
       "      <td>1</td>\n",
       "      <td>1</td>\n",
       "      <td>1</td>\n",
       "      <td>1</td>\n",
       "      <td>1</td>\n",
       "      <td>0</td>\n",
       "    </tr>\n",
       "    <tr>\n",
       "      <th>A bird was peering over this branch and then flew over to the next tree.</th>\n",
       "      <td>1</td>\n",
       "      <td>1</td>\n",
       "      <td>1</td>\n",
       "      <td>0</td>\n",
       "      <td>0</td>\n",
       "      <td>0</td>\n",
       "      <td>1</td>\n",
       "      <td>0</td>\n",
       "      <td>0</td>\n",
       "      <td>0</td>\n",
       "      <td>...</td>\n",
       "      <td>0</td>\n",
       "      <td>0</td>\n",
       "      <td>1</td>\n",
       "      <td>1</td>\n",
       "      <td>1</td>\n",
       "      <td>1</td>\n",
       "      <td>1</td>\n",
       "      <td>0</td>\n",
       "      <td>1</td>\n",
       "      <td>0</td>\n",
       "    </tr>\n",
       "  </tbody>\n",
       "</table>\n",
       "<p>4 rows × 27 columns</p>\n",
       "</div>"
      ],
      "text/plain": [
       "                                                    and  bird  branch  cat  \\\n",
       "A dog was jumping over this fence and then ran ...    1     0       0    0   \n",
       "A cat was leaning over this fence and then jump...    1     0       0    1   \n",
       "A squirrel was leaping over this branch and the...    1     0       1    0   \n",
       "A bird was peering over this branch and then fl...    1     1       1    0   \n",
       "\n",
       "                                                    dog  fence  flew  jumped  \\\n",
       "A dog was jumping over this fence and then ran ...    1      1     0       0   \n",
       "A cat was leaning over this fence and then jump...    0      1     0       1   \n",
       "A squirrel was leaping over this branch and the...    0      0     0       0   \n",
       "A bird was peering over this branch and then fl...    0      0     1       0   \n",
       "\n",
       "                                                    jumping  leaning  ...   \\\n",
       "A dog was jumping over this fence and then ran ...        1        0  ...    \n",
       "A cat was leaning over this fence and then jump...        0        1  ...    \n",
       "A squirrel was leaping over this branch and the...        0        0  ...    \n",
       "A bird was peering over this branch and then fl...        0        0  ...    \n",
       "\n",
       "                                                    so  squirrel  the  then  \\\n",
       "A dog was jumping over this fence and then ran ...   1         0    1     1   \n",
       "A cat was leaning over this fence and then jump...   1         0    1     1   \n",
       "A squirrel was leaping over this branch and the...   1         1    1     1   \n",
       "A bird was peering over this branch and then fl...   0         0    1     1   \n",
       "\n",
       "                                                    this  to  tree  very  was  \\\n",
       "A dog was jumping over this fence and then ran ...     1   1     0     1    1   \n",
       "A cat was leaning over this fence and then jump...     1   1     0     1    1   \n",
       "A squirrel was leaping over this branch and the...     1   1     1     1    1   \n",
       "A bird was peering over this branch and then fl...     1   1     1     0    1   \n",
       "\n",
       "                                                    yard  \n",
       "A dog was jumping over this fence and then ran ...     1  \n",
       "A cat was leaning over this fence and then jump...     1  \n",
       "A squirrel was leaping over this branch and the...     0  \n",
       "A bird was peering over this branch and then fl...     0  \n",
       "\n",
       "[4 rows x 27 columns]"
      ]
     },
     "execution_count": 152,
     "metadata": {},
     "output_type": "execute_result"
    }
   ],
   "source": [
    "# Create a dataframe out of the count matrix with labels and columns names for easier reading.\n",
    "long_sent_df = pd.DataFrame(long_count_matrix.todense(), index=long_sentences, columns=sorted(cv.vocabulary_))\n",
    "long_sent_df"
   ]
  },
  {
   "cell_type": "code",
   "execution_count": 153,
   "metadata": {
    "collapsed": true
   },
   "outputs": [],
   "source": [
    "# Create an instance of a TfidfTransformer.\n",
    "tfidf = TfidfTransformer(norm='l1', use_idf=False, smooth_idf=False)\n",
    "\n",
    "# Created a weighted matrix.\n",
    "weighted_matrix = tfidf.fit_transform(long_count_matrix)"
   ]
  },
  {
   "cell_type": "code",
   "execution_count": 154,
   "metadata": {
    "collapsed": false
   },
   "outputs": [
    {
     "data": {
      "text/plain": [
       "<4x27 sparse matrix of type '<type 'numpy.float64'>'\n",
       "\twith 61 stored elements in Compressed Sparse Row format>"
      ]
     },
     "execution_count": 154,
     "metadata": {},
     "output_type": "execute_result"
    }
   ],
   "source": [
    "weighted_matrix"
   ]
  },
  {
   "cell_type": "code",
   "execution_count": 155,
   "metadata": {
    "collapsed": true
   },
   "outputs": [
    {
     "data": {
      "text/html": [
       "<div>\n",
       "<table border=\"1\" class=\"dataframe\">\n",
       "  <thead>\n",
       "    <tr style=\"text-align: right;\">\n",
       "      <th></th>\n",
       "      <th>and</th>\n",
       "      <th>bird</th>\n",
       "      <th>branch</th>\n",
       "      <th>cat</th>\n",
       "      <th>dog</th>\n",
       "      <th>fence</th>\n",
       "      <th>flew</th>\n",
       "      <th>jumped</th>\n",
       "      <th>jumping</th>\n",
       "      <th>leaning</th>\n",
       "      <th>...</th>\n",
       "      <th>so</th>\n",
       "      <th>squirrel</th>\n",
       "      <th>the</th>\n",
       "      <th>then</th>\n",
       "      <th>this</th>\n",
       "      <th>to</th>\n",
       "      <th>tree</th>\n",
       "      <th>very</th>\n",
       "      <th>was</th>\n",
       "      <th>yard</th>\n",
       "    </tr>\n",
       "  </thead>\n",
       "  <tbody>\n",
       "    <tr>\n",
       "      <th>dog</th>\n",
       "      <td>0.058824</td>\n",
       "      <td>0.000000</td>\n",
       "      <td>0.000000</td>\n",
       "      <td>0.000000</td>\n",
       "      <td>0.058824</td>\n",
       "      <td>0.058824</td>\n",
       "      <td>0.000000</td>\n",
       "      <td>0.000000</td>\n",
       "      <td>0.058824</td>\n",
       "      <td>0.000000</td>\n",
       "      <td>...</td>\n",
       "      <td>0.058824</td>\n",
       "      <td>0.000000</td>\n",
       "      <td>0.058824</td>\n",
       "      <td>0.058824</td>\n",
       "      <td>0.058824</td>\n",
       "      <td>0.058824</td>\n",
       "      <td>0.000000</td>\n",
       "      <td>0.058824</td>\n",
       "      <td>0.058824</td>\n",
       "      <td>0.058824</td>\n",
       "    </tr>\n",
       "    <tr>\n",
       "      <th>cat</th>\n",
       "      <td>0.058824</td>\n",
       "      <td>0.000000</td>\n",
       "      <td>0.000000</td>\n",
       "      <td>0.058824</td>\n",
       "      <td>0.000000</td>\n",
       "      <td>0.058824</td>\n",
       "      <td>0.000000</td>\n",
       "      <td>0.058824</td>\n",
       "      <td>0.000000</td>\n",
       "      <td>0.058824</td>\n",
       "      <td>...</td>\n",
       "      <td>0.058824</td>\n",
       "      <td>0.000000</td>\n",
       "      <td>0.058824</td>\n",
       "      <td>0.058824</td>\n",
       "      <td>0.058824</td>\n",
       "      <td>0.058824</td>\n",
       "      <td>0.000000</td>\n",
       "      <td>0.058824</td>\n",
       "      <td>0.058824</td>\n",
       "      <td>0.058824</td>\n",
       "    </tr>\n",
       "    <tr>\n",
       "      <th>squirrel</th>\n",
       "      <td>0.058824</td>\n",
       "      <td>0.000000</td>\n",
       "      <td>0.058824</td>\n",
       "      <td>0.000000</td>\n",
       "      <td>0.000000</td>\n",
       "      <td>0.000000</td>\n",
       "      <td>0.000000</td>\n",
       "      <td>0.000000</td>\n",
       "      <td>0.000000</td>\n",
       "      <td>0.000000</td>\n",
       "      <td>...</td>\n",
       "      <td>0.058824</td>\n",
       "      <td>0.058824</td>\n",
       "      <td>0.058824</td>\n",
       "      <td>0.058824</td>\n",
       "      <td>0.058824</td>\n",
       "      <td>0.058824</td>\n",
       "      <td>0.058824</td>\n",
       "      <td>0.058824</td>\n",
       "      <td>0.058824</td>\n",
       "      <td>0.000000</td>\n",
       "    </tr>\n",
       "    <tr>\n",
       "      <th>bird</th>\n",
       "      <td>0.071429</td>\n",
       "      <td>0.071429</td>\n",
       "      <td>0.071429</td>\n",
       "      <td>0.000000</td>\n",
       "      <td>0.000000</td>\n",
       "      <td>0.000000</td>\n",
       "      <td>0.071429</td>\n",
       "      <td>0.000000</td>\n",
       "      <td>0.000000</td>\n",
       "      <td>0.000000</td>\n",
       "      <td>...</td>\n",
       "      <td>0.000000</td>\n",
       "      <td>0.000000</td>\n",
       "      <td>0.071429</td>\n",
       "      <td>0.071429</td>\n",
       "      <td>0.071429</td>\n",
       "      <td>0.071429</td>\n",
       "      <td>0.071429</td>\n",
       "      <td>0.000000</td>\n",
       "      <td>0.071429</td>\n",
       "      <td>0.000000</td>\n",
       "    </tr>\n",
       "  </tbody>\n",
       "</table>\n",
       "<p>4 rows × 27 columns</p>\n",
       "</div>"
      ],
      "text/plain": [
       "               and      bird    branch       cat       dog     fence  \\\n",
       "dog       0.058824  0.000000  0.000000  0.000000  0.058824  0.058824   \n",
       "cat       0.058824  0.000000  0.000000  0.058824  0.000000  0.058824   \n",
       "squirrel  0.058824  0.000000  0.058824  0.000000  0.000000  0.000000   \n",
       "bird      0.071429  0.071429  0.071429  0.000000  0.000000  0.000000   \n",
       "\n",
       "              flew    jumped   jumping   leaning    ...           so  \\\n",
       "dog       0.000000  0.000000  0.058824  0.000000    ...     0.058824   \n",
       "cat       0.000000  0.058824  0.000000  0.058824    ...     0.058824   \n",
       "squirrel  0.000000  0.000000  0.000000  0.000000    ...     0.058824   \n",
       "bird      0.071429  0.000000  0.000000  0.000000    ...     0.000000   \n",
       "\n",
       "          squirrel       the      then      this        to      tree  \\\n",
       "dog       0.000000  0.058824  0.058824  0.058824  0.058824  0.000000   \n",
       "cat       0.000000  0.058824  0.058824  0.058824  0.058824  0.000000   \n",
       "squirrel  0.058824  0.058824  0.058824  0.058824  0.058824  0.058824   \n",
       "bird      0.000000  0.071429  0.071429  0.071429  0.071429  0.071429   \n",
       "\n",
       "              very       was      yard  \n",
       "dog       0.058824  0.058824  0.058824  \n",
       "cat       0.058824  0.058824  0.058824  \n",
       "squirrel  0.058824  0.058824  0.000000  \n",
       "bird      0.000000  0.071429  0.000000  \n",
       "\n",
       "[4 rows x 27 columns]"
      ]
     },
     "execution_count": 155,
     "metadata": {},
     "output_type": "execute_result"
    }
   ],
   "source": [
    "# Create a dataframe out of the count matrix with labels and columns names for easier reading.\n",
    "long_sent_weighted_df = pd.DataFrame(weighted_matrix.todense(), index=[s.split()[1] for s in long_sentences], columns=sorted(cv.vocabulary_))\n",
    "long_sent_weighted_df"
   ]
  },
  {
   "cell_type": "code",
   "execution_count": null,
   "metadata": {
    "collapsed": true
   },
   "outputs": [],
   "source": []
  },
  {
   "cell_type": "code",
   "execution_count": 2,
   "metadata": {
    "collapsed": true
   },
   "outputs": [],
   "source": [
    "import requests\n",
    "from bs4 import BeautifulSoup"
   ]
  },
  {
   "cell_type": "code",
   "execution_count": 41,
   "metadata": {
    "collapsed": false
   },
   "outputs": [],
   "source": [
    "def get_song_links(url):\n",
    "    \"\"\"Gets song titles and URLs for the lyrics page for a www.songlyrics.com top-songs page.\"\"\"\n",
    "    soup = BeautifulSoup(requests.get(url).content)\n",
    "    trs = soup.find_all('table', class_='tracklist')[0].find_all('tr')\n",
    "    song_links = {}\n",
    "    for row in trs[1:]:\n",
    "        tag = row.find_all('td')[-1]\n",
    "        a_tag = tag.a\n",
    "        song_links[a_tag['title']] = a_tag['href']\n",
    "    return song_links"
   ]
  },
  {
   "cell_type": "code",
   "execution_count": 42,
   "metadata": {
    "collapsed": false
   },
   "outputs": [],
   "source": [
    "def get_lyrics(url):\n",
    "    \"\"\"Scrapes the lyrics from a www.songlyrics.com song page.\"\"\"\n",
    "    soup = BeautifulSoup(requests.get(url).content)\n",
    "    return soup.find_all('p', attrs={'id':'songLyricsDiv'})[0].get_text('\\n', strip=True)"
   ]
  },
  {
   "cell_type": "code",
   "execution_count": 45,
   "metadata": {
    "collapsed": true
   },
   "outputs": [],
   "source": [
    "# Define variables\n",
    "base_url = 'http://www.songlyrics.com/news/top-songs/'\n",
    "start_year = 2011\n",
    "end_year = 1990"
   ]
  },
  {
   "cell_type": "code",
   "execution_count": 46,
   "metadata": {
    "collapsed": false
   },
   "outputs": [],
   "source": [
    "# Dict to hold song titles -> link to lyrics page.\n",
    "song_links = {}\n",
    "cur_year = start_year\n",
    "\n",
    "# Loop through years and scrape links to lyric pages for each year's top 100 songs.\n",
    "while cur_year >= end_year:\n",
    "    url = base_url + str(cur_year)\n",
    "    song_links.update(get_song_links(url))\n",
    "    cur_year -= 1"
   ]
  },
  {
   "cell_type": "code",
   "execution_count": 51,
   "metadata": {
    "collapsed": false
   },
   "outputs": [],
   "source": [
    "# Dict to hold song titles -> lyrics\n",
    "song_lyrics = {}\n",
    "errors = {}\n",
    "# Visit the lyric pages for each song in song_links and scrape the lyrics.\n",
    "for title, url in song_links.iteritems():\n",
    "    try:\n",
    "        song_lyrics[title] = get_lyrics(url)\n",
    "    except Exception as e:\n",
    "        errors[title] = e"
   ]
  },
  {
   "cell_type": "code",
   "execution_count": 52,
   "metadata": {
    "collapsed": true
   },
   "outputs": [
    {
     "name": "stdout",
     "output_type": "stream",
     "text": [
      "Who Says you can't Go Home Lyrics  Bon Jovi\n",
      "I spent twenty years tryin' to get out of this place\n",
      "I was lookin' for somethin' I couldn't replace\n",
      "I was runnin' away from the only thing I've ever known\n",
      "And like a blind dog without a bone\n",
      "I was a gypsy lost in the twilight zone\n",
      "I hijacked a rainbow and crashed into a pot of gold\n",
      "I've been there, done that, now I ain't lookin' back\n",
      "And the seeds I've sown, savin' dimes\n",
      "Spendin' too much time on the telephone\n",
      "Who says you can't go home?\n",
      "Who says you can't go home?\n",
      "There's only one place that call me one of their own\n",
      "Just a hometown boy, born a rollin' stone\n",
      "Who says you can't go home?\n",
      "Who says you can't go back?\n",
      "Been all around the world and as a matter of fact\n",
      "There's only one place left, I want to go\n",
      "Who says you can't go home? It's alright\n",
      "It's alright, it's alright, it's alright, it's alright\n",
      "I went as far as I could, I tried to find a new face\n",
      "There isn't one of these lines that I would erase\n",
      "I left a million mile of memories on that road\n",
      "Every step I take, I know that I'm not alone\n",
      "You take the home from the boy but not the boy from his home\n",
      "These are my streets, the only life I've ever known\n",
      "Who says you can't go home?\n",
      "Who says you can't go home?\n",
      "There's only one place that call me one of their own\n",
      "Just a hometown boy, born a rollin' stone\n",
      "Who says you can't go home?\n",
      "Who says you can't go back?\n",
      "Been all around the world and as a matter of fact\n",
      "There's only one place left, I want to go\n",
      "Who says you can't go home?\n",
      "It's alright, it's alright, it's alright, it's alright\n",
      "It's alright, who says you can't go home?\n",
      "It's alright, it's alright, it's alright, it's alright\n",
      "It's alright, who says you can't go home?\n",
      "I've been there, done that, now I ain't lookin' back\n",
      "It's been a long, long road, feels like I've never left\n",
      "That's how the story goes\n",
      "It doesn't matter where you are, doesn't matter where you go\n",
      "If it's a million miles away or just a mile up the road\n",
      "Take it in, take it with you when you go\n",
      "Who says you can't go home?\n",
      "Who says you can't go home?\n",
      "There's only one place that call me one of their own\n",
      "Just a hometown boy, born a rollin' stone\n",
      "Who says you can't go home?\n",
      "Who says you can't go back?\n",
      "Been all around the world and as a matter of fact\n",
      "There's only one place left, I want to go\n",
      "Who says you can't go home?\n",
      "It's alright, it's alright, it's alright, it's alright\n",
      "It's alright, it's alright, it's alright, it's alright\n",
      "It's alright, it's alright, it's alright\n",
      "Who says you can't go home?\n",
      "It's alright, it's alright, it's alright, it's alright\n",
      "It's alright, who says you can't go home?\n",
      "It's alright, it's alright, it's alright, it's alright\n",
      "It's alright, who says you can't go home?\n"
     ]
    }
   ],
   "source": [
    "tup = song_lyrics.items()[2]\n",
    "print(tup[0] +'\\n'+ tup[1])"
   ]
  },
  {
   "cell_type": "code",
   "execution_count": 53,
   "metadata": {
    "collapsed": false
   },
   "outputs": [
    {
     "data": {
      "text/plain": [
       "2046"
      ]
     },
     "execution_count": 53,
     "metadata": {},
     "output_type": "execute_result"
    }
   ],
   "source": [
    "len(song_lyrics)"
   ]
  },
  {
   "cell_type": "code",
   "execution_count": 56,
   "metadata": {
    "collapsed": false
   },
   "outputs": [
    {
     "data": {
      "text/plain": [
       "['The Space Between Lyrics  Dave Matthews Band']"
      ]
     },
     "execution_count": 56,
     "metadata": {},
     "output_type": "execute_result"
    }
   ],
   "source": [
    "[k for k in song_lyrics.keys() if 'matthews' in k.lower()]"
   ]
  },
  {
   "cell_type": "code",
   "execution_count": 57,
   "metadata": {
    "collapsed": false
   },
   "outputs": [
    {
     "data": {
      "text/plain": [
       "{'1 Thing Lyrics  Amerie': IndexError('list index out of range'),\n",
       " 'Any Time, Any Place / And On And On Lyrics  Janet Jackson': IndexError('list index out of range'),\n",
       " 'Before You Walk Out Of My Life / Like This And Like That Lyrics  Monica': IndexError('list index out of range'),\n",
       " 'Big Poppa / Warning Lyrics  Notorious B.I.G.': IndexError('list index out of range'),\n",
       " 'Boombastic / In The Summertime Lyrics  Shaggy': IndexError('list index out of range'),\n",
       " \"C'mon And Get My Love Lyrics  D-Mob With Cathy Dennis\": requests.exceptions.InvalidSchema(u\"No connection adapters were found for ' http://www.songlyrics.com/d-mob-introducing-cathy-dennis/c-mon-and-get-my-love-lyrics/'\"),\n",
       " 'Dear Mama / Old School Lyrics Tupac': IndexError('list index out of range'),\n",
       " 'Do For Love Lyrics Tupac': requests.exceptions.InvalidSchema(u\"No connection adapters were found for ' http://www.songlyrics.com/tupac/do-for-love-lyrics/'\"),\n",
       " \"Don't Know Much Lyrics  Linda Ronstadt and Aaron Neville\": IndexError('list index out of range'),\n",
       " \"Don't Wanna Fall In Love Lyrics  Jane Child\": requests.exceptions.InvalidSchema(u\"No connection adapters were found for ' http://www.songlyrics.com/jane-child/don-t-wanna-fall-in-love-lyrics/'\"),\n",
       " 'Dream About You-Funky Melody Lyrics  Stevie B': IndexError('list index out of range'),\n",
       " 'Follow You Down / Til I Hear It From You Lyrics  Gin Blossoms': IndexError('list index out of range'),\n",
       " \"Friday I'm In Love Lyrics  Cure\": IndexError('list index out of range'),\n",
       " 'Have You Ever Needed Somone So Bad Lyrics  Def Leppard': IndexError('list index out of range'),\n",
       " 'Hollaback Girl Lyrics  Gwen Stefani': requests.exceptions.ConnectionError(requests.packages.urllib3.exceptions.ProtocolError('Connection aborted.',\n",
       "                                                                                        socket.error(10060,\n",
       "                                                                                                     'A connection attempt failed because the connected party did not properly respond after a period of time, or established connection failed because connected host has failed to respond'))),\n",
       " 'How Do U Want It / California Love Lyrics Tupac': IndexError('list index out of range'),\n",
       " \"I Don't Want To / I Love Me Some Him Lyrics  Toni Braxton\": IndexError('list index out of range'),\n",
       " 'I Got Id / Long Road Lyrics  Pearl Jam': IndexError('list index out of range'),\n",
       " \"I'll Be There For You-You're All I Need To Get By Lyrics  Method Man-Mary J. Blige\": IndexError('list index out of range'),\n",
       " 'Lonely No More Lyrics  Rob Thomas': requests.exceptions.InvalidSchema(u\"No connection adapters were found for ' http://www.songlyrics.com/rob-thomas/lonely-no-more-lyrics/'\"),\n",
       " 'Mr. Know It All Lyrics Kelly Clarkson': requests.exceptions.ConnectionError(requests.packages.urllib3.exceptions.ProtocolError('Connection aborted.',\n",
       "                                                                                        socket.error(10060,\n",
       "                                                                                                     'A connection attempt failed because the connected party did not properly respond after a period of time, or established connection failed because connected host has failed to respond'))),\n",
       " 'Romeo And Juliet Lyrics Sylk-E Fyne': requests.exceptions.InvalidSchema(u\"No connection adapters were found for '0http://www.songlyrics.com/sylk-e-fyne/romeo-and-juliet-lyrics/'\"),\n",
       " 'Scream / Childhood Lyrics  Michael Jackson and Janet Jackson': IndexError('list index out of range'),\n",
       " 'Silent Lucidity Lyrics  Queensryche': requests.exceptions.TooManyRedirects('Exceeded 30 redirects.'),\n",
       " 'Stay (I Missed You) Lyrics  Lisa Loeb and Nine Stories': IndexError('list index out of range'),\n",
       " 'Still Not A Player Lyrics Big Punisher feat. Joe': requests.exceptions.MissingSchema(\"Invalid URL ' 2Pac': No schema supplied. Perhaps you meant http:// 2Pac?\"),\n",
       " 'Temptation Lyrics  Corina': requests.exceptions.ConnectionError(requests.packages.urllib3.exceptions.ProtocolError('Connection aborted.',\n",
       "                                                                                        socket.error(10060,\n",
       "                                                                                                     'A connection attempt failed because the connected party did not properly respond after a period of time, or established connection failed because connected host has failed to respond'))),\n",
       " 'Turn Off the Light Lyrics  Nelly Furtado': requests.exceptions.ConnectionError(requests.packages.urllib3.exceptions.ProtocolError('Connection aborted.',\n",
       "                                                                                        socket.error(10060,\n",
       "                                                                                                     'A connection attempt failed because the connected party did not properly respond after a period of time, or established connection failed because connected host has failed to respond'))),\n",
       " \"When You're Gone / Free To Decide Lyrics  Cranberries\": IndexError('list index out of range'),\n",
       " \"Why I Love You So Much / Ain't Nobody Lyrics  Monica\": IndexError('list index out of range'),\n",
       " 'Without You / Never Forget You Lyrics  Mariah Carey': IndexError('list index out of range'),\n",
       " 'Woo-hah!! Got You All In Check / Everything Remains Raw Lyrics  Busta Rhymes': IndexError('list index out of range'),\n",
       " 'You Learn / You Oughta Know Lyrics  Alanis Morissette': IndexError('list index out of range'),\n",
       " \"You Want This-70's Love Groove Lyrics  Janet Jackson\": IndexError('list index out of range'),\n",
       " \"You're Makin' Me High / Let It Flow Lyrics  Toni Braxton\": IndexError('list index out of range')}"
      ]
     },
     "execution_count": 57,
     "metadata": {},
     "output_type": "execute_result"
    }
   ],
   "source": [
    "errors"
   ]
  },
  {
   "cell_type": "code",
   "execution_count": 58,
   "metadata": {
    "collapsed": false
   },
   "outputs": [
    {
     "data": {
      "text/plain": [
       "35"
      ]
     },
     "execution_count": 58,
     "metadata": {},
     "output_type": "execute_result"
    }
   ],
   "source": [
    "len(errors)"
   ]
  },
  {
   "cell_type": "code",
   "execution_count": 59,
   "metadata": {
    "collapsed": true
   },
   "outputs": [],
   "source": [
    "import json"
   ]
  },
  {
   "cell_type": "code",
   "execution_count": 60,
   "metadata": {
    "collapsed": true
   },
   "outputs": [],
   "source": []
  },
  {
   "cell_type": "code",
   "execution_count": null,
   "metadata": {
    "collapsed": true
   },
   "outputs": [],
   "source": [
    "# Save song lyrics.\n",
    "json.dump(song_lyrics, open('song_lyrics.json', 'wt'), encoding='utf8')"
   ]
  },
  {
   "cell_type": "code",
   "execution_count": null,
   "metadata": {
    "collapsed": true
   },
   "outputs": [],
   "source": []
  },
  {
   "cell_type": "code",
   "execution_count": null,
   "metadata": {
    "collapsed": true
   },
   "outputs": [],
   "source": []
  },
  {
   "cell_type": "code",
   "execution_count": null,
   "metadata": {
    "collapsed": true
   },
   "outputs": [],
   "source": []
  },
  {
   "cell_type": "code",
   "execution_count": null,
   "metadata": {
    "collapsed": true
   },
   "outputs": [],
   "source": []
  },
  {
   "cell_type": "markdown",
   "metadata": {},
   "source": [
    "http://nlp.stanford.edu/IR-book/html/htmledition/document-and-query-weighting-schemes-1.html\n",
    "TextBlob"
   ]
  }
 ],
 "metadata": {
  "kernelspec": {
   "display_name": "Python 2",
   "language": "python",
   "name": "python2"
  },
  "language_info": {
   "codemirror_mode": {
    "name": "ipython",
    "version": 2
   },
   "file_extension": ".py",
   "mimetype": "text/x-python",
   "name": "python",
   "nbconvert_exporter": "python",
   "pygments_lexer": "ipython2",
   "version": "2.7.8"
  }
 },
 "nbformat": 4,
 "nbformat_minor": 0
}
