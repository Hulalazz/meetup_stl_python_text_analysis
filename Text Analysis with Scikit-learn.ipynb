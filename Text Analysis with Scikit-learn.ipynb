{
 "cells": [
  {
   "cell_type": "markdown",
   "metadata": {},
   "source": [
    "<center>\n",
    "<h2>Text Analysis with Scikit-learn</h2>\n",
    "\n",
    "Matt Pitlyk<br>\n",
    "github.com/mattpitlyk/\n",
    "</center>"
   ]
  },
  {
   "cell_type": "markdown",
   "metadata": {},
   "source": [
    "<div style=\"margin-top:200px\"/>"
   ]
  },
  {
   "cell_type": "markdown",
   "metadata": {},
   "source": [
    "\n",
    "<h3>Text analysis is</h3>\n",
    "<ul><li>the extraction of information from digital text</li>\n",
    "<li>difficult because computers only understand number</li></ul>\n"
   ]
  },
  {
   "cell_type": "markdown",
   "metadata": {},
   "source": [
    "<!--Text analysis is the extraction of information from unstructured (in most cases) text. This is difficult because computer only understand numbers. So in order to analyze text with computers, we have to do some kind of processing to it. There are two basic ways to approach text analysis: look for patterns in the text (these words often appear together/near each other (multi-word term), these words are often used in the same context but never appear together (synonyms), etc.); or you can convert the text to numbers and do math on them. -->"
   ]
  },
  {
   "cell_type": "markdown",
   "metadata": {},
   "source": [
    "\n",
    "\n",
    "<div style=\"margin-top:200px\"/>"
   ]
  },
  {
   "cell_type": "markdown",
   "metadata": {},
   "source": [
    "<h3>Term Frequency-Inverse Document Frequency (TF-IDF)</h3>\n",
    "<ul><li>Very common text analysis technique</li>\n",
    "<li>Included in many programming libraries and text analysis tools</li>\n",
    "<li>Vector space model</li>\n",
    "<li>Easy to understand, implement, and modify</li>\n",
    "<li>Intuitive reasoning</li></ul>"
   ]
  },
  {
   "cell_type": "markdown",
   "metadata": {},
   "source": [
    "<!---The technique we're going to discuss today is called Term Frequency-Inverse Document Frequency (TF-IDF), and it is a fairly common method in the area of Information Retrieval (IR) for comparing and searching documents. What we're going to end up doing is taking our big set of documents, called the corpus, and these can be any type of document: news articles, emails, online comments (although the longer the documents the better the results), and we're going to turn them into matrices (number), and then we're going to do some pretty basic math on them. That math is going to help us define what's called a distance metric between any two documents, which we can then use for comparisions and searches. Ok, but first, let's think about this problem intuitively. -->"
   ]
  },
  {
   "cell_type": "markdown",
   "metadata": {},
   "source": [
    "\n",
    "\n",
    "<div style=\"margin-top:200px\"/>"
   ]
  },
  {
   "cell_type": "markdown",
   "metadata": {},
   "source": [
    "<h3>Intuitive reasoning</h3>\n",
    "<br>\n",
    "Let's say we have three documents. Our documents are just going to be sentences. \n",
    "<li>The dog is jumping over the fence.</li>\n",
    "<li>The dog is climbing up the fence.</li>\n",
    "<li>The cat is sitting on the window.</li>"
   ]
  },
  {
   "cell_type": "markdown",
   "metadata": {},
   "source": [
    "<!--So how similar/disimilar are these sentences? Well, that's a little hard to answer right now because that is trying to quantify something about the text. What about a different question: which two sentences are the most similar? The first two?  Why? Because they have the same subject? What if you didn't understand English? You'd probably still say the first two. They share a lot of the same words, so we can think of them as being similar in their contents based on the inclusion of identical words.--> "
   ]
  },
  {
   "cell_type": "markdown",
   "metadata": {},
   "source": [
    "\n",
    "\n",
    "<div style=\"margin-top:200px\"/>"
   ]
  },
  {
   "cell_type": "markdown",
   "metadata": {},
   "source": [
    "<!--So this is good. We could define a similarity metric as the number of words two sentences have in common. But is that good enough? What about these sentences?-->"
   ]
  },
  {
   "cell_type": "markdown",
   "metadata": {},
   "source": [
    "<h3>Intuitive Reasoning</h3>\n",
    "<li>A dog was jumping over this fence and then ran over to the next yard so very quickly.</li>\n",
    "<li>A cat was leaning over this edge and then jumped over to the next table so very quickly.</li>"
   ]
  },
  {
   "cell_type": "markdown",
   "metadata": {},
   "source": [
    "<!--They have many more words in common than our first two sentences, so are they more similar? Probably not. But this is function of the length of the sentences, so let's try to normalize by dividing by the number of words in the sentence. This will give us a percent of similarity. -->"
   ]
  },
  {
   "cell_type": "markdown",
   "metadata": {},
   "source": [
    "\n",
    "\n",
    "<div style=\"margin-top:200px\"/>"
   ]
  },
  {
   "cell_type": "markdown",
   "metadata": {},
   "source": [
    "<h3>Simple Metric: Ratio of words in common</h3>\n",
    "\n",
    "5 common / 7 total ~= 71% \n",
    "<li>The dog is jumping over the fence.</li>\n",
    "<li>The dog is climbing up the fence.</li>\n",
    "<br>\n",
    "\n",
    "13 common / 18 total ~= 72% \n",
    "<li>A dog was jumping over this fence and then ran over to the next yard so very quickly.</li>\n",
    "<li>A cat was leaning over this edge and then jumped over to the next table so very quickly.</li>"
   ]
  },
  {
   "cell_type": "markdown",
   "metadata": {},
   "source": [
    "<!--Well it turns out these longer sentences still get a higher similarity score. So what's the problem? Intiutively we know the first two sentences are similar, but it seems that using numbers suggests the latest two sentences are more similar. So what's the problem? The problem is that we're considering all the words equal, when, for purposes of distiguishing sentences from one another, they are not equal. Why not? -->"
   ]
  },
  {
   "cell_type": "markdown",
   "metadata": {},
   "source": [
    "\n",
    "\n",
    "<div style=\"margin-top:200px\"/>"
   ]
  },
  {
   "cell_type": "markdown",
   "metadata": {},
   "source": [
    "<h3>Word Importance</h3>\n",
    "How do we determine which words are important?\n",
    "<li>A dog was jumping over this fence and then ran over to the next yard so very quickly.</li>\n",
    "<li>A cat was leaning over this fence and then jumped over to the next yard so very quickly.</li>\n",
    "<li>A squirrel was leaping over this branch and then scampered over to the next tree so very quickly.</li>\n",
    "<li>A bird was peering over this branch and then flew over to the next tree.</li>"
   ]
  },
  {
   "cell_type": "markdown",
   "metadata": {},
   "source": [
    "<!--If we were going to distiguish between these sentences, any word that appears in all the sentences is worthless. It doesn't help us to determine if any pair of sentences is similar or disimilar because it's common to all of them. It's almost a characteristic of a sentence in general, as opposed to a charateristics of a particular sentence. So we don't want to use words that appear in all sentences. We either throw them out or weight them very low (more on that later). What about words that appear in a lot but not all sentences? \"so very quickly\" appears in all but one sentence....\n",
    "Somewhat useful, but not super useful.\n",
    "(Note: This is contextual to your corpus. There are no absolute weighting that appaly to all situations.)-->"
   ]
  },
  {
   "cell_type": "markdown",
   "metadata": {},
   "source": [
    "\n",
    "\n",
    "<div style=\"margin-top:200px\"/>"
   ]
  },
  {
   "cell_type": "markdown",
   "metadata": {},
   "source": [
    "<h3>Word Importance</h3>\n",
    "These words appear in some, but not all or most, of the sentences:\n",
    "<ul><li>tree (2)</li>\n",
    "<li>branch (2)</li>\n",
    "<li>fence (2)</li>\n",
    "<li>yard (2)</li>\n",
    "</ul>"
   ]
  },
  {
   "cell_type": "markdown",
   "metadata": {},
   "source": [
    "<!--Tree, branch, fence, yard: appear in some, but not all or most, so they are useful and will get weighted the highest.\n",
    "This is the Inverse Document Frequency part of the TF-IDF. The more documents a word appears in the, the less useful it is in distinguishing between the documents, so it get weighted less. The Inverse essentially means we divide by the number of documents the word (or term) appears in.\n",
    "For the first part, the Term Frequency, we're simply going to calculate the frequency of each term in each document by counting the number of times it appears in the document and dividing by the total number of words in the documnets. The assumption here is that the more often a word appears in a document, the more realted it is to the topic of the document. -->"
   ]
  },
  {
   "cell_type": "markdown",
   "metadata": {},
   "source": [
    "\n",
    "\n",
    "<div style=\"margin-top:200px\"/>"
   ]
  },
  {
   "cell_type": "markdown",
   "metadata": {},
   "source": [
    "<h3>Formula</h3>\n",
    "For each document, for each term in the document vector:<br>\n",
    "<h4>term_score = |term-frequency| * log(N/x)</h4>\n",
    "\n"
   ]
  },
  {
   "cell_type": "markdown",
   "metadata": {},
   "source": [
    "<!--Each document vector has a slot for each term in the vocabulary, even if that term doesn't appear in that document. The value for each term is calculated using the formula above. There are several options for term frequency normalization and several ways to adjust the Inverse Document Frequency. -->"
   ]
  },
  {
   "cell_type": "markdown",
   "metadata": {},
   "source": [
    "\n",
    "\n",
    "<div style=\"margin-top:200px\"/>"
   ]
  },
  {
   "cell_type": "code",
   "execution_count": 4,
   "metadata": {
    "collapsed": true
   },
   "outputs": [],
   "source": [
    "from sklearn.feature_extraction.text import CountVectorizer\n",
    "from sklearn.feature_extraction.text import TfidfTransformer\n",
    "#from sklearn.feature_extraction.text import TfidfVectorizer  <- Combines the other two objects for efficiency, \n",
    "                                                               # but misses out on intermediate results.\n",
    "import pandas as pd"
   ]
  },
  {
   "cell_type": "markdown",
   "metadata": {},
   "source": [
    "###### Example 1: Short Sentences"
   ]
  },
  {
   "cell_type": "code",
   "execution_count": 2,
   "metadata": {
    "collapsed": true
   },
   "outputs": [],
   "source": [
    "short_sentences = ['The dog is jumping over the fence.', \n",
    "                   'The dog is climbing up the fence.',\n",
    "                   'The cat is sitting on the window.']"
   ]
  },
  {
   "cell_type": "code",
   "execution_count": 3,
   "metadata": {
    "collapsed": true
   },
   "outputs": [],
   "source": [
    "# Create an instance of the CountVectorizer.\n",
    "cv = CountVectorizer()\n",
    "\n",
    "# Create a count matrix from the list of documents.\n",
    "count_matrix = cv.fit_transform(short_sentences)"
   ]
  },
  {
   "cell_type": "code",
   "execution_count": 4,
   "metadata": {
    "collapsed": false
   },
   "outputs": [
    {
     "data": {
      "text/html": [
       "<div>\n",
       "<table border=\"1\" class=\"dataframe\">\n",
       "  <thead>\n",
       "    <tr style=\"text-align: right;\">\n",
       "      <th></th>\n",
       "      <th>cat</th>\n",
       "      <th>climbing</th>\n",
       "      <th>dog</th>\n",
       "      <th>fence</th>\n",
       "      <th>is</th>\n",
       "      <th>jumping</th>\n",
       "      <th>on</th>\n",
       "      <th>over</th>\n",
       "      <th>sitting</th>\n",
       "      <th>the</th>\n",
       "      <th>up</th>\n",
       "      <th>window</th>\n",
       "    </tr>\n",
       "  </thead>\n",
       "  <tbody>\n",
       "    <tr>\n",
       "      <th>The dog is jumping over the fence.</th>\n",
       "      <td>0</td>\n",
       "      <td>0</td>\n",
       "      <td>1</td>\n",
       "      <td>1</td>\n",
       "      <td>1</td>\n",
       "      <td>1</td>\n",
       "      <td>0</td>\n",
       "      <td>1</td>\n",
       "      <td>0</td>\n",
       "      <td>2</td>\n",
       "      <td>0</td>\n",
       "      <td>0</td>\n",
       "    </tr>\n",
       "    <tr>\n",
       "      <th>The dog is climbing up the fence.</th>\n",
       "      <td>0</td>\n",
       "      <td>1</td>\n",
       "      <td>1</td>\n",
       "      <td>1</td>\n",
       "      <td>1</td>\n",
       "      <td>0</td>\n",
       "      <td>0</td>\n",
       "      <td>0</td>\n",
       "      <td>0</td>\n",
       "      <td>2</td>\n",
       "      <td>1</td>\n",
       "      <td>0</td>\n",
       "    </tr>\n",
       "    <tr>\n",
       "      <th>The cat is sitting on the window.</th>\n",
       "      <td>1</td>\n",
       "      <td>0</td>\n",
       "      <td>0</td>\n",
       "      <td>0</td>\n",
       "      <td>1</td>\n",
       "      <td>0</td>\n",
       "      <td>1</td>\n",
       "      <td>0</td>\n",
       "      <td>1</td>\n",
       "      <td>2</td>\n",
       "      <td>0</td>\n",
       "      <td>1</td>\n",
       "    </tr>\n",
       "  </tbody>\n",
       "</table>\n",
       "</div>"
      ],
      "text/plain": [
       "                                    cat  climbing  dog  fence  is  jumping  \\\n",
       "The dog is jumping over the fence.    0         0    1      1   1        1   \n",
       "The dog is climbing up the fence.     0         1    1      1   1        0   \n",
       "The cat is sitting on the window.     1         0    0      0   1        0   \n",
       "\n",
       "                                    on  over  sitting  the  up  window  \n",
       "The dog is jumping over the fence.   0     1        0    2   0       0  \n",
       "The dog is climbing up the fence.    0     0        0    2   1       0  \n",
       "The cat is sitting on the window.    1     0        1    2   0       1  "
      ]
     },
     "execution_count": 4,
     "metadata": {},
     "output_type": "execute_result"
    }
   ],
   "source": [
    "# Create a dataframe out of the count matrix with labels and columns names for easier reading.\n",
    "short_sent_df = pd.DataFrame(count_matrix.todense(), index=short_sentences, columns=sorted(cv.vocabulary_))\n",
    "short_sent_df"
   ]
  },
  {
   "cell_type": "markdown",
   "metadata": {},
   "source": [
    "<div style=\"margin-top:200px\"/>"
   ]
  },
  {
   "cell_type": "markdown",
   "metadata": {},
   "source": [
    "###### Example 2: Long sentences"
   ]
  },
  {
   "cell_type": "code",
   "execution_count": 5,
   "metadata": {
    "collapsed": true
   },
   "outputs": [],
   "source": [
    "long_sentences = ['A dog was jumping over this fence and then ran over to the next yard so very quickly.',\n",
    "                  'A cat was leaning over this fence and then jumped over to the next yard so very quickly.',\n",
    "                  'A squirrel was leaping over this branch and then scampered over to the next tree so very quickly.',\n",
    "                  'A bird was peering over this branch and then flew over to the next tree.']"
   ]
  },
  {
   "cell_type": "code",
   "execution_count": 62,
   "metadata": {
    "collapsed": true
   },
   "outputs": [],
   "source": [
    "# Create an instance of the CountVectorizer.\n",
    "cv = CountVectorizer(token_pattern=u'(?u)\\\\b\\\\w+\\\\b')\n",
    "\n",
    "# Create a count matrix from the list of documents.\n",
    "long_count_matrix = cv.fit_transform(long_sentences)"
   ]
  },
  {
   "cell_type": "markdown",
   "metadata": {},
   "source": [
    "Most of the time, you'll use the default value for this parameter, but I'm using non-default to make this example match our basic explanation above."
   ]
  },
  {
   "cell_type": "code",
   "execution_count": 74,
   "metadata": {
    "collapsed": false,
    "scrolled": true
   },
   "outputs": [
    {
     "data": {
      "text/html": [
       "<div>\n",
       "<table border=\"1\" class=\"dataframe\">\n",
       "  <thead>\n",
       "    <tr style=\"text-align: right;\">\n",
       "      <th></th>\n",
       "      <th>a</th>\n",
       "      <th>and</th>\n",
       "      <th>bird</th>\n",
       "      <th>branch</th>\n",
       "      <th>cat</th>\n",
       "      <th>dog</th>\n",
       "      <th>fence</th>\n",
       "      <th>flew</th>\n",
       "      <th>jumped</th>\n",
       "      <th>jumping</th>\n",
       "      <th>...</th>\n",
       "      <th>so</th>\n",
       "      <th>squirrel</th>\n",
       "      <th>the</th>\n",
       "      <th>then</th>\n",
       "      <th>this</th>\n",
       "      <th>to</th>\n",
       "      <th>tree</th>\n",
       "      <th>very</th>\n",
       "      <th>was</th>\n",
       "      <th>yard</th>\n",
       "    </tr>\n",
       "  </thead>\n",
       "  <tbody>\n",
       "    <tr>\n",
       "      <th>dog</th>\n",
       "      <td>1</td>\n",
       "      <td>1</td>\n",
       "      <td>0</td>\n",
       "      <td>0</td>\n",
       "      <td>0</td>\n",
       "      <td>1</td>\n",
       "      <td>1</td>\n",
       "      <td>0</td>\n",
       "      <td>0</td>\n",
       "      <td>1</td>\n",
       "      <td>...</td>\n",
       "      <td>1</td>\n",
       "      <td>0</td>\n",
       "      <td>1</td>\n",
       "      <td>1</td>\n",
       "      <td>1</td>\n",
       "      <td>1</td>\n",
       "      <td>0</td>\n",
       "      <td>1</td>\n",
       "      <td>1</td>\n",
       "      <td>1</td>\n",
       "    </tr>\n",
       "    <tr>\n",
       "      <th>cat</th>\n",
       "      <td>1</td>\n",
       "      <td>1</td>\n",
       "      <td>0</td>\n",
       "      <td>0</td>\n",
       "      <td>1</td>\n",
       "      <td>0</td>\n",
       "      <td>1</td>\n",
       "      <td>0</td>\n",
       "      <td>1</td>\n",
       "      <td>0</td>\n",
       "      <td>...</td>\n",
       "      <td>1</td>\n",
       "      <td>0</td>\n",
       "      <td>1</td>\n",
       "      <td>1</td>\n",
       "      <td>1</td>\n",
       "      <td>1</td>\n",
       "      <td>0</td>\n",
       "      <td>1</td>\n",
       "      <td>1</td>\n",
       "      <td>1</td>\n",
       "    </tr>\n",
       "    <tr>\n",
       "      <th>squirrel</th>\n",
       "      <td>1</td>\n",
       "      <td>1</td>\n",
       "      <td>0</td>\n",
       "      <td>1</td>\n",
       "      <td>0</td>\n",
       "      <td>0</td>\n",
       "      <td>0</td>\n",
       "      <td>0</td>\n",
       "      <td>0</td>\n",
       "      <td>0</td>\n",
       "      <td>...</td>\n",
       "      <td>1</td>\n",
       "      <td>1</td>\n",
       "      <td>1</td>\n",
       "      <td>1</td>\n",
       "      <td>1</td>\n",
       "      <td>1</td>\n",
       "      <td>1</td>\n",
       "      <td>1</td>\n",
       "      <td>1</td>\n",
       "      <td>0</td>\n",
       "    </tr>\n",
       "    <tr>\n",
       "      <th>bird</th>\n",
       "      <td>1</td>\n",
       "      <td>1</td>\n",
       "      <td>1</td>\n",
       "      <td>1</td>\n",
       "      <td>0</td>\n",
       "      <td>0</td>\n",
       "      <td>0</td>\n",
       "      <td>1</td>\n",
       "      <td>0</td>\n",
       "      <td>0</td>\n",
       "      <td>...</td>\n",
       "      <td>0</td>\n",
       "      <td>0</td>\n",
       "      <td>1</td>\n",
       "      <td>1</td>\n",
       "      <td>1</td>\n",
       "      <td>1</td>\n",
       "      <td>1</td>\n",
       "      <td>0</td>\n",
       "      <td>1</td>\n",
       "      <td>0</td>\n",
       "    </tr>\n",
       "  </tbody>\n",
       "</table>\n",
       "<p>4 rows × 28 columns</p>\n",
       "</div>"
      ],
      "text/plain": [
       "          a  and  bird  branch  cat  dog  fence  flew  jumped  jumping  ...   \\\n",
       "dog       1    1     0       0    0    1      1     0       0        1  ...    \n",
       "cat       1    1     0       0    1    0      1     0       1        0  ...    \n",
       "squirrel  1    1     0       1    0    0      0     0       0        0  ...    \n",
       "bird      1    1     1       1    0    0      0     1       0        0  ...    \n",
       "\n",
       "          so  squirrel  the  then  this  to  tree  very  was  yard  \n",
       "dog        1         0    1     1     1   1     0     1    1     1  \n",
       "cat        1         0    1     1     1   1     0     1    1     1  \n",
       "squirrel   1         1    1     1     1   1     1     1    1     0  \n",
       "bird       0         0    1     1     1   1     1     0    1     0  \n",
       "\n",
       "[4 rows x 28 columns]"
      ]
     },
     "execution_count": 74,
     "metadata": {},
     "output_type": "execute_result"
    }
   ],
   "source": [
    "# Create a dataframe out of the count matrix with labels and columns names for easier reading.\n",
    "long_sent_df = pd.DataFrame(long_count_matrix.todense(), index=[s.split()[1] for s in long_sentences], \n",
    "                            columns=sorted(cv.vocabulary_))\n",
    "long_sent_df"
   ]
  },
  {
   "cell_type": "code",
   "execution_count": 63,
   "metadata": {
    "collapsed": true
   },
   "outputs": [],
   "source": [
    "# Create an instance of a TfidfTransformer.\n",
    "tfidf = TfidfTransformer(norm='l1', use_idf=False, smooth_idf=False)\n",
    "\n",
    "# Created a weighted matrix.\n",
    "weighted_matrix = tfidf.fit_transform(long_count_matrix)"
   ]
  },
  {
   "cell_type": "markdown",
   "metadata": {},
   "source": [
    "Most of the time, you'll use the default values for these three parameters, but I'm using non-defaults to make this example match our basic explanation above."
   ]
  },
  {
   "cell_type": "code",
   "execution_count": 64,
   "metadata": {
    "collapsed": false
   },
   "outputs": [
    {
     "data": {
      "text/plain": [
       "<4x28 sparse matrix of type '<type 'numpy.float64'>'\n",
       "\twith 65 stored elements in Compressed Sparse Row format>"
      ]
     },
     "execution_count": 64,
     "metadata": {},
     "output_type": "execute_result"
    }
   ],
   "source": [
    "weighted_matrix"
   ]
  },
  {
   "cell_type": "code",
   "execution_count": 65,
   "metadata": {
    "collapsed": false
   },
   "outputs": [
    {
     "data": {
      "text/html": [
       "<div>\n",
       "<table border=\"1\" class=\"dataframe\">\n",
       "  <thead>\n",
       "    <tr style=\"text-align: right;\">\n",
       "      <th></th>\n",
       "      <th>a</th>\n",
       "      <th>and</th>\n",
       "      <th>bird</th>\n",
       "      <th>branch</th>\n",
       "      <th>cat</th>\n",
       "      <th>dog</th>\n",
       "      <th>fence</th>\n",
       "      <th>flew</th>\n",
       "      <th>jumped</th>\n",
       "      <th>jumping</th>\n",
       "      <th>...</th>\n",
       "      <th>so</th>\n",
       "      <th>squirrel</th>\n",
       "      <th>the</th>\n",
       "      <th>then</th>\n",
       "      <th>this</th>\n",
       "      <th>to</th>\n",
       "      <th>tree</th>\n",
       "      <th>very</th>\n",
       "      <th>was</th>\n",
       "      <th>yard</th>\n",
       "    </tr>\n",
       "  </thead>\n",
       "  <tbody>\n",
       "    <tr>\n",
       "      <th>dog</th>\n",
       "      <td>0.055556</td>\n",
       "      <td>0.055556</td>\n",
       "      <td>0.000000</td>\n",
       "      <td>0.000000</td>\n",
       "      <td>0.000000</td>\n",
       "      <td>0.055556</td>\n",
       "      <td>0.055556</td>\n",
       "      <td>0.000000</td>\n",
       "      <td>0.000000</td>\n",
       "      <td>0.055556</td>\n",
       "      <td>...</td>\n",
       "      <td>0.055556</td>\n",
       "      <td>0.000000</td>\n",
       "      <td>0.055556</td>\n",
       "      <td>0.055556</td>\n",
       "      <td>0.055556</td>\n",
       "      <td>0.055556</td>\n",
       "      <td>0.000000</td>\n",
       "      <td>0.055556</td>\n",
       "      <td>0.055556</td>\n",
       "      <td>0.055556</td>\n",
       "    </tr>\n",
       "    <tr>\n",
       "      <th>cat</th>\n",
       "      <td>0.055556</td>\n",
       "      <td>0.055556</td>\n",
       "      <td>0.000000</td>\n",
       "      <td>0.000000</td>\n",
       "      <td>0.055556</td>\n",
       "      <td>0.000000</td>\n",
       "      <td>0.055556</td>\n",
       "      <td>0.000000</td>\n",
       "      <td>0.055556</td>\n",
       "      <td>0.000000</td>\n",
       "      <td>...</td>\n",
       "      <td>0.055556</td>\n",
       "      <td>0.000000</td>\n",
       "      <td>0.055556</td>\n",
       "      <td>0.055556</td>\n",
       "      <td>0.055556</td>\n",
       "      <td>0.055556</td>\n",
       "      <td>0.000000</td>\n",
       "      <td>0.055556</td>\n",
       "      <td>0.055556</td>\n",
       "      <td>0.055556</td>\n",
       "    </tr>\n",
       "    <tr>\n",
       "      <th>squirrel</th>\n",
       "      <td>0.055556</td>\n",
       "      <td>0.055556</td>\n",
       "      <td>0.000000</td>\n",
       "      <td>0.055556</td>\n",
       "      <td>0.000000</td>\n",
       "      <td>0.000000</td>\n",
       "      <td>0.000000</td>\n",
       "      <td>0.000000</td>\n",
       "      <td>0.000000</td>\n",
       "      <td>0.000000</td>\n",
       "      <td>...</td>\n",
       "      <td>0.055556</td>\n",
       "      <td>0.055556</td>\n",
       "      <td>0.055556</td>\n",
       "      <td>0.055556</td>\n",
       "      <td>0.055556</td>\n",
       "      <td>0.055556</td>\n",
       "      <td>0.055556</td>\n",
       "      <td>0.055556</td>\n",
       "      <td>0.055556</td>\n",
       "      <td>0.000000</td>\n",
       "    </tr>\n",
       "    <tr>\n",
       "      <th>bird</th>\n",
       "      <td>0.066667</td>\n",
       "      <td>0.066667</td>\n",
       "      <td>0.066667</td>\n",
       "      <td>0.066667</td>\n",
       "      <td>0.000000</td>\n",
       "      <td>0.000000</td>\n",
       "      <td>0.000000</td>\n",
       "      <td>0.066667</td>\n",
       "      <td>0.000000</td>\n",
       "      <td>0.000000</td>\n",
       "      <td>...</td>\n",
       "      <td>0.000000</td>\n",
       "      <td>0.000000</td>\n",
       "      <td>0.066667</td>\n",
       "      <td>0.066667</td>\n",
       "      <td>0.066667</td>\n",
       "      <td>0.066667</td>\n",
       "      <td>0.066667</td>\n",
       "      <td>0.000000</td>\n",
       "      <td>0.066667</td>\n",
       "      <td>0.000000</td>\n",
       "    </tr>\n",
       "  </tbody>\n",
       "</table>\n",
       "<p>4 rows × 28 columns</p>\n",
       "</div>"
      ],
      "text/plain": [
       "                 a       and      bird    branch       cat       dog  \\\n",
       "dog       0.055556  0.055556  0.000000  0.000000  0.000000  0.055556   \n",
       "cat       0.055556  0.055556  0.000000  0.000000  0.055556  0.000000   \n",
       "squirrel  0.055556  0.055556  0.000000  0.055556  0.000000  0.000000   \n",
       "bird      0.066667  0.066667  0.066667  0.066667  0.000000  0.000000   \n",
       "\n",
       "             fence      flew    jumped   jumping    ...           so  \\\n",
       "dog       0.055556  0.000000  0.000000  0.055556    ...     0.055556   \n",
       "cat       0.055556  0.000000  0.055556  0.000000    ...     0.055556   \n",
       "squirrel  0.000000  0.000000  0.000000  0.000000    ...     0.055556   \n",
       "bird      0.000000  0.066667  0.000000  0.000000    ...     0.000000   \n",
       "\n",
       "          squirrel       the      then      this        to      tree  \\\n",
       "dog       0.000000  0.055556  0.055556  0.055556  0.055556  0.000000   \n",
       "cat       0.000000  0.055556  0.055556  0.055556  0.055556  0.000000   \n",
       "squirrel  0.055556  0.055556  0.055556  0.055556  0.055556  0.055556   \n",
       "bird      0.000000  0.066667  0.066667  0.066667  0.066667  0.066667   \n",
       "\n",
       "              very       was      yard  \n",
       "dog       0.055556  0.055556  0.055556  \n",
       "cat       0.055556  0.055556  0.055556  \n",
       "squirrel  0.055556  0.055556  0.000000  \n",
       "bird      0.000000  0.066667  0.000000  \n",
       "\n",
       "[4 rows x 28 columns]"
      ]
     },
     "execution_count": 65,
     "metadata": {},
     "output_type": "execute_result"
    }
   ],
   "source": [
    "# Create a dataframe out of the weighted matrix with labels and columns names for easier reading.\n",
    "long_sent_weighted_df = pd.DataFrame(weighted_matrix.todense(), index=[s.split()[1] for s in long_sentences], \n",
    "                                     columns=sorted(cv.vocabulary_))\n",
    "long_sent_weighted_df"
   ]
  },
  {
   "cell_type": "markdown",
   "metadata": {},
   "source": [
    "Above we can see each word is scored with its normalized frequency in each sentence. This ignores the frequency of the word in the corpus as a whole, which would indicate its importance in distinguishing documents from each other."
   ]
  },
  {
   "cell_type": "markdown",
   "metadata": {},
   "source": [
    "'quickly' appears in three of the four sentences, so it has a score of 0 for the last one. The other three scores are equal because 'quickly' appears the same number of times (1) in each of those sentences, and they all have the same length."
   ]
  },
  {
   "cell_type": "code",
   "execution_count": 66,
   "metadata": {
    "collapsed": false
   },
   "outputs": [
    {
     "data": {
      "text/plain": [
       "dog         0.055556\n",
       "cat         0.055556\n",
       "squirrel    0.055556\n",
       "bird        0.000000\n",
       "Name: quickly, dtype: float64"
      ]
     },
     "execution_count": 66,
     "metadata": {},
     "output_type": "execute_result"
    }
   ],
   "source": [
    "long_sent_weighted_df['quickly']"
   ]
  },
  {
   "cell_type": "code",
   "execution_count": 67,
   "metadata": {
    "collapsed": false
   },
   "outputs": [
    {
     "name": "stdout",
     "output_type": "stream",
     "text": [
      "dog 18\n",
      "cat 18\n",
      "squirrel 18\n",
      "bird 15\n"
     ]
    }
   ],
   "source": [
    "# Print the number of words in each sentence.\n",
    "for s in long_sentences:\n",
    "    print(s.split()[1] + ' ' + str(len(s.split())))"
   ]
  },
  {
   "cell_type": "code",
   "execution_count": 68,
   "metadata": {
    "collapsed": false
   },
   "outputs": [
    {
     "data": {
      "text/plain": [
       "0.06666666666666667"
      ]
     },
     "execution_count": 68,
     "metadata": {},
     "output_type": "execute_result"
    }
   ],
   "source": [
    "# Score for 'a' in the last sentence.\n",
    "1/15.0"
   ]
  },
  {
   "cell_type": "code",
   "execution_count": 69,
   "metadata": {
    "collapsed": false
   },
   "outputs": [
    {
     "data": {
      "text/plain": [
       "0.05555555555555555"
      ]
     },
     "execution_count": 69,
     "metadata": {},
     "output_type": "execute_result"
    }
   ],
   "source": [
    "# Score for 'quickly' in the first three sentences.\n",
    "1/18.0"
   ]
  },
  {
   "cell_type": "markdown",
   "metadata": {},
   "source": [
    "Let's turn on IDF"
   ]
  },
  {
   "cell_type": "code",
   "execution_count": 81,
   "metadata": {
    "collapsed": false
   },
   "outputs": [],
   "source": [
    "# Create an instance of a TfidfTransformer.\n",
    "tfidf = TfidfTransformer(norm='l1', use_idf=True, smooth_idf=False)\n",
    "\n",
    "# Created a weighted matrix.\n",
    "weighted_matrix = tfidf.fit_transform(long_count_matrix)"
   ]
  },
  {
   "cell_type": "code",
   "execution_count": 82,
   "metadata": {
    "collapsed": false
   },
   "outputs": [
    {
     "data": {
      "text/html": [
       "<div>\n",
       "<table border=\"1\" class=\"dataframe\">\n",
       "  <thead>\n",
       "    <tr style=\"text-align: right;\">\n",
       "      <th></th>\n",
       "      <th>a</th>\n",
       "      <th>and</th>\n",
       "      <th>bird</th>\n",
       "      <th>branch</th>\n",
       "      <th>cat</th>\n",
       "      <th>dog</th>\n",
       "      <th>fence</th>\n",
       "      <th>flew</th>\n",
       "      <th>jumped</th>\n",
       "      <th>jumping</th>\n",
       "      <th>...</th>\n",
       "      <th>so</th>\n",
       "      <th>squirrel</th>\n",
       "      <th>the</th>\n",
       "      <th>then</th>\n",
       "      <th>this</th>\n",
       "      <th>to</th>\n",
       "      <th>tree</th>\n",
       "      <th>very</th>\n",
       "      <th>was</th>\n",
       "      <th>yard</th>\n",
       "    </tr>\n",
       "  </thead>\n",
       "  <tbody>\n",
       "    <tr>\n",
       "      <th>dog</th>\n",
       "      <td>0.040970</td>\n",
       "      <td>0.040970</td>\n",
       "      <td>0.000000</td>\n",
       "      <td>0.000000</td>\n",
       "      <td>0.000000</td>\n",
       "      <td>0.097766</td>\n",
       "      <td>0.069368</td>\n",
       "      <td>0.000000</td>\n",
       "      <td>0.000000</td>\n",
       "      <td>0.097766</td>\n",
       "      <td>...</td>\n",
       "      <td>0.052756</td>\n",
       "      <td>0.000000</td>\n",
       "      <td>0.040970</td>\n",
       "      <td>0.040970</td>\n",
       "      <td>0.040970</td>\n",
       "      <td>0.040970</td>\n",
       "      <td>0.000000</td>\n",
       "      <td>0.052756</td>\n",
       "      <td>0.040970</td>\n",
       "      <td>0.069368</td>\n",
       "    </tr>\n",
       "    <tr>\n",
       "      <th>cat</th>\n",
       "      <td>0.040970</td>\n",
       "      <td>0.040970</td>\n",
       "      <td>0.000000</td>\n",
       "      <td>0.000000</td>\n",
       "      <td>0.097766</td>\n",
       "      <td>0.000000</td>\n",
       "      <td>0.069368</td>\n",
       "      <td>0.000000</td>\n",
       "      <td>0.097766</td>\n",
       "      <td>0.000000</td>\n",
       "      <td>...</td>\n",
       "      <td>0.052756</td>\n",
       "      <td>0.000000</td>\n",
       "      <td>0.040970</td>\n",
       "      <td>0.040970</td>\n",
       "      <td>0.040970</td>\n",
       "      <td>0.040970</td>\n",
       "      <td>0.000000</td>\n",
       "      <td>0.052756</td>\n",
       "      <td>0.040970</td>\n",
       "      <td>0.069368</td>\n",
       "    </tr>\n",
       "    <tr>\n",
       "      <th>squirrel</th>\n",
       "      <td>0.040970</td>\n",
       "      <td>0.040970</td>\n",
       "      <td>0.000000</td>\n",
       "      <td>0.069368</td>\n",
       "      <td>0.000000</td>\n",
       "      <td>0.000000</td>\n",
       "      <td>0.000000</td>\n",
       "      <td>0.000000</td>\n",
       "      <td>0.000000</td>\n",
       "      <td>0.000000</td>\n",
       "      <td>...</td>\n",
       "      <td>0.052756</td>\n",
       "      <td>0.097766</td>\n",
       "      <td>0.040970</td>\n",
       "      <td>0.040970</td>\n",
       "      <td>0.040970</td>\n",
       "      <td>0.040970</td>\n",
       "      <td>0.069368</td>\n",
       "      <td>0.052756</td>\n",
       "      <td>0.040970</td>\n",
       "      <td>0.000000</td>\n",
       "    </tr>\n",
       "    <tr>\n",
       "      <th>bird</th>\n",
       "      <td>0.048673</td>\n",
       "      <td>0.048673</td>\n",
       "      <td>0.116149</td>\n",
       "      <td>0.082411</td>\n",
       "      <td>0.000000</td>\n",
       "      <td>0.000000</td>\n",
       "      <td>0.000000</td>\n",
       "      <td>0.116149</td>\n",
       "      <td>0.000000</td>\n",
       "      <td>0.000000</td>\n",
       "      <td>...</td>\n",
       "      <td>0.000000</td>\n",
       "      <td>0.000000</td>\n",
       "      <td>0.048673</td>\n",
       "      <td>0.048673</td>\n",
       "      <td>0.048673</td>\n",
       "      <td>0.048673</td>\n",
       "      <td>0.082411</td>\n",
       "      <td>0.000000</td>\n",
       "      <td>0.048673</td>\n",
       "      <td>0.000000</td>\n",
       "    </tr>\n",
       "  </tbody>\n",
       "</table>\n",
       "<p>4 rows × 28 columns</p>\n",
       "</div>"
      ],
      "text/plain": [
       "                 a       and      bird    branch       cat       dog  \\\n",
       "dog       0.040970  0.040970  0.000000  0.000000  0.000000  0.097766   \n",
       "cat       0.040970  0.040970  0.000000  0.000000  0.097766  0.000000   \n",
       "squirrel  0.040970  0.040970  0.000000  0.069368  0.000000  0.000000   \n",
       "bird      0.048673  0.048673  0.116149  0.082411  0.000000  0.000000   \n",
       "\n",
       "             fence      flew    jumped   jumping    ...           so  \\\n",
       "dog       0.069368  0.000000  0.000000  0.097766    ...     0.052756   \n",
       "cat       0.069368  0.000000  0.097766  0.000000    ...     0.052756   \n",
       "squirrel  0.000000  0.000000  0.000000  0.000000    ...     0.052756   \n",
       "bird      0.000000  0.116149  0.000000  0.000000    ...     0.000000   \n",
       "\n",
       "          squirrel       the      then      this        to      tree  \\\n",
       "dog       0.000000  0.040970  0.040970  0.040970  0.040970  0.000000   \n",
       "cat       0.000000  0.040970  0.040970  0.040970  0.040970  0.000000   \n",
       "squirrel  0.097766  0.040970  0.040970  0.040970  0.040970  0.069368   \n",
       "bird      0.000000  0.048673  0.048673  0.048673  0.048673  0.082411   \n",
       "\n",
       "              very       was      yard  \n",
       "dog       0.052756  0.040970  0.069368  \n",
       "cat       0.052756  0.040970  0.069368  \n",
       "squirrel  0.052756  0.040970  0.000000  \n",
       "bird      0.000000  0.048673  0.000000  \n",
       "\n",
       "[4 rows x 28 columns]"
      ]
     },
     "execution_count": 82,
     "metadata": {},
     "output_type": "execute_result"
    }
   ],
   "source": [
    "# Create a dataframe out of the count matrix with labels and columns names for easier reading.\n",
    "long_sent_weighted_df_with_idf = pd.DataFrame(weighted_matrix.todense(), index=[s.split()[1] for s in long_sentences], \n",
    "                                              columns=sorted(cv.vocabulary_))\n",
    "long_sent_weighted_df_with_idf"
   ]
  },
  {
   "cell_type": "code",
   "execution_count": 80,
   "metadata": {
    "collapsed": false
   },
   "outputs": [
    {
     "data": {
      "text/html": [
       "<div>\n",
       "<table border=\"1\" class=\"dataframe\">\n",
       "  <thead>\n",
       "    <tr style=\"text-align: right;\">\n",
       "      <th></th>\n",
       "      <th>a</th>\n",
       "      <th>and</th>\n",
       "      <th>bird</th>\n",
       "      <th>branch</th>\n",
       "      <th>cat</th>\n",
       "      <th>dog</th>\n",
       "      <th>fence</th>\n",
       "      <th>flew</th>\n",
       "      <th>jumped</th>\n",
       "      <th>jumping</th>\n",
       "      <th>...</th>\n",
       "      <th>so</th>\n",
       "      <th>squirrel</th>\n",
       "      <th>the</th>\n",
       "      <th>then</th>\n",
       "      <th>this</th>\n",
       "      <th>to</th>\n",
       "      <th>tree</th>\n",
       "      <th>very</th>\n",
       "      <th>was</th>\n",
       "      <th>yard</th>\n",
       "    </tr>\n",
       "  </thead>\n",
       "  <tbody>\n",
       "    <tr>\n",
       "      <th>dog</th>\n",
       "      <td>0.055556</td>\n",
       "      <td>0.055556</td>\n",
       "      <td>0.000000</td>\n",
       "      <td>0.000000</td>\n",
       "      <td>0.000000</td>\n",
       "      <td>0.055556</td>\n",
       "      <td>0.055556</td>\n",
       "      <td>0.000000</td>\n",
       "      <td>0.000000</td>\n",
       "      <td>0.055556</td>\n",
       "      <td>...</td>\n",
       "      <td>0.055556</td>\n",
       "      <td>0.000000</td>\n",
       "      <td>0.055556</td>\n",
       "      <td>0.055556</td>\n",
       "      <td>0.055556</td>\n",
       "      <td>0.055556</td>\n",
       "      <td>0.000000</td>\n",
       "      <td>0.055556</td>\n",
       "      <td>0.055556</td>\n",
       "      <td>0.055556</td>\n",
       "    </tr>\n",
       "    <tr>\n",
       "      <th>cat</th>\n",
       "      <td>0.055556</td>\n",
       "      <td>0.055556</td>\n",
       "      <td>0.000000</td>\n",
       "      <td>0.000000</td>\n",
       "      <td>0.055556</td>\n",
       "      <td>0.000000</td>\n",
       "      <td>0.055556</td>\n",
       "      <td>0.000000</td>\n",
       "      <td>0.055556</td>\n",
       "      <td>0.000000</td>\n",
       "      <td>...</td>\n",
       "      <td>0.055556</td>\n",
       "      <td>0.000000</td>\n",
       "      <td>0.055556</td>\n",
       "      <td>0.055556</td>\n",
       "      <td>0.055556</td>\n",
       "      <td>0.055556</td>\n",
       "      <td>0.000000</td>\n",
       "      <td>0.055556</td>\n",
       "      <td>0.055556</td>\n",
       "      <td>0.055556</td>\n",
       "    </tr>\n",
       "    <tr>\n",
       "      <th>squirrel</th>\n",
       "      <td>0.055556</td>\n",
       "      <td>0.055556</td>\n",
       "      <td>0.000000</td>\n",
       "      <td>0.055556</td>\n",
       "      <td>0.000000</td>\n",
       "      <td>0.000000</td>\n",
       "      <td>0.000000</td>\n",
       "      <td>0.000000</td>\n",
       "      <td>0.000000</td>\n",
       "      <td>0.000000</td>\n",
       "      <td>...</td>\n",
       "      <td>0.055556</td>\n",
       "      <td>0.055556</td>\n",
       "      <td>0.055556</td>\n",
       "      <td>0.055556</td>\n",
       "      <td>0.055556</td>\n",
       "      <td>0.055556</td>\n",
       "      <td>0.055556</td>\n",
       "      <td>0.055556</td>\n",
       "      <td>0.055556</td>\n",
       "      <td>0.000000</td>\n",
       "    </tr>\n",
       "    <tr>\n",
       "      <th>bird</th>\n",
       "      <td>0.066667</td>\n",
       "      <td>0.066667</td>\n",
       "      <td>0.066667</td>\n",
       "      <td>0.066667</td>\n",
       "      <td>0.000000</td>\n",
       "      <td>0.000000</td>\n",
       "      <td>0.000000</td>\n",
       "      <td>0.066667</td>\n",
       "      <td>0.000000</td>\n",
       "      <td>0.000000</td>\n",
       "      <td>...</td>\n",
       "      <td>0.000000</td>\n",
       "      <td>0.000000</td>\n",
       "      <td>0.066667</td>\n",
       "      <td>0.066667</td>\n",
       "      <td>0.066667</td>\n",
       "      <td>0.066667</td>\n",
       "      <td>0.066667</td>\n",
       "      <td>0.000000</td>\n",
       "      <td>0.066667</td>\n",
       "      <td>0.000000</td>\n",
       "    </tr>\n",
       "  </tbody>\n",
       "</table>\n",
       "<p>4 rows × 28 columns</p>\n",
       "</div>"
      ],
      "text/plain": [
       "                 a       and      bird    branch       cat       dog  \\\n",
       "dog       0.055556  0.055556  0.000000  0.000000  0.000000  0.055556   \n",
       "cat       0.055556  0.055556  0.000000  0.000000  0.055556  0.000000   \n",
       "squirrel  0.055556  0.055556  0.000000  0.055556  0.000000  0.000000   \n",
       "bird      0.066667  0.066667  0.066667  0.066667  0.000000  0.000000   \n",
       "\n",
       "             fence      flew    jumped   jumping    ...           so  \\\n",
       "dog       0.055556  0.000000  0.000000  0.055556    ...     0.055556   \n",
       "cat       0.055556  0.000000  0.055556  0.000000    ...     0.055556   \n",
       "squirrel  0.000000  0.000000  0.000000  0.000000    ...     0.055556   \n",
       "bird      0.000000  0.066667  0.000000  0.000000    ...     0.000000   \n",
       "\n",
       "          squirrel       the      then      this        to      tree  \\\n",
       "dog       0.000000  0.055556  0.055556  0.055556  0.055556  0.000000   \n",
       "cat       0.000000  0.055556  0.055556  0.055556  0.055556  0.000000   \n",
       "squirrel  0.055556  0.055556  0.055556  0.055556  0.055556  0.055556   \n",
       "bird      0.000000  0.066667  0.066667  0.066667  0.066667  0.066667   \n",
       "\n",
       "              very       was      yard  \n",
       "dog       0.055556  0.055556  0.055556  \n",
       "cat       0.055556  0.055556  0.055556  \n",
       "squirrel  0.055556  0.055556  0.000000  \n",
       "bird      0.000000  0.066667  0.000000  \n",
       "\n",
       "[4 rows x 28 columns]"
      ]
     },
     "execution_count": 80,
     "metadata": {},
     "output_type": "execute_result"
    }
   ],
   "source": [
    "# Previous results for comparison, i.e. just Term Frequencies.\n",
    "long_sent_weighted_df"
   ]
  },
  {
   "cell_type": "code",
   "execution_count": 77,
   "metadata": {
    "collapsed": false
   },
   "outputs": [
    {
     "data": {
      "text/plain": [
       "[(u'a', 1.0),\n",
       " (u'and', 1.0),\n",
       " (u'bird', 2.3862943611198908),\n",
       " (u'branch', 1.6931471805599454),\n",
       " (u'cat', 2.3862943611198908),\n",
       " (u'dog', 2.3862943611198908),\n",
       " (u'fence', 1.6931471805599454),\n",
       " (u'flew', 2.3862943611198908),\n",
       " (u'jumped', 2.3862943611198908),\n",
       " (u'jumping', 2.3862943611198908),\n",
       " (u'leaning', 2.3862943611198908),\n",
       " (u'leaping', 2.3862943611198908),\n",
       " (u'next', 1.0),\n",
       " (u'over', 1.0),\n",
       " (u'peering', 2.3862943611198908),\n",
       " (u'quickly', 1.2876820724517808),\n",
       " (u'ran', 2.3862943611198908),\n",
       " (u'scampered', 2.3862943611198908),\n",
       " (u'so', 1.2876820724517808),\n",
       " (u'squirrel', 2.3862943611198908),\n",
       " (u'the', 1.0),\n",
       " (u'then', 1.0),\n",
       " (u'this', 1.0),\n",
       " (u'to', 1.0),\n",
       " (u'tree', 1.6931471805599454),\n",
       " (u'very', 1.2876820724517808),\n",
       " (u'was', 1.0),\n",
       " (u'yard', 1.6931471805599454)]"
      ]
     },
     "execution_count": 77,
     "metadata": {},
     "output_type": "execute_result"
    }
   ],
   "source": [
    "# Print out IDF scores for each term.\n",
    "zip(sorted(cv.vocabulary_), tfidf.idf_)"
   ]
  },
  {
   "cell_type": "markdown",
   "metadata": {},
   "source": [
    "Why are the scores different for terms with IDF = ?<br>\n",
    "From the scikit-learn docs:<br>\n",
    "<i>The actual formula used for tf-idf is tf \\* (idf + 1) = tf + tf \\* idf, instead of tf \\* idf. The effect of this is that terms with zero idf, i.e. that occur in all documents of a training set, will not be entirely ignored. </i>"
   ]
  }
 ],
 "metadata": {
  "kernelspec": {
   "display_name": "Python 2",
   "language": "python",
   "name": "python2"
  },
  "language_info": {
   "codemirror_mode": {
    "name": "ipython",
    "version": 2
   },
   "file_extension": ".py",
   "mimetype": "text/x-python",
   "name": "python",
   "nbconvert_exporter": "python",
   "pygments_lexer": "ipython2",
   "version": "2.7.11"
  }
 },
 "nbformat": 4,
 "nbformat_minor": 0
}
