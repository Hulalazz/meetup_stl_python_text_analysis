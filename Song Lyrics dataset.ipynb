{
 "cells": [
  {
   "cell_type": "code",
   "execution_count": 5,
   "metadata": {
    "collapsed": true
   },
   "outputs": [],
   "source": [
    "import requests\n",
    "from bs4 import BeautifulSoup\n",
    "import json\n",
    "import time"
   ]
  },
  {
   "cell_type": "code",
   "execution_count": 2,
   "metadata": {
    "collapsed": false
   },
   "outputs": [],
   "source": [
    "def get_song_links(url):\n",
    "    \"\"\"Gets song titles and URLs for the lyrics page for a www.songlyrics.com top-songs page.\"\"\"\n",
    "    soup = BeautifulSoup(requests.get(url).content)\n",
    "    trs = soup.find_all('table', class_='tracklist')[0].find_all('tr')\n",
    "    song_links = {}\n",
    "    year = url[-4:]\n",
    "    for row in trs[1:]:\n",
    "        tds = row.find_all('td')\n",
    "        artist = tds[1].get_text(strip=True)\n",
    "        a_tag = tds[2].a\n",
    "        song_links[(year, artist, a_tag['title'])] = a_tag['href']\n",
    "    return song_links"
   ]
  },
  {
   "cell_type": "code",
   "execution_count": 3,
   "metadata": {
    "collapsed": false
   },
   "outputs": [],
   "source": [
    "def get_lyrics(url):\n",
    "    \"\"\"Scrapes the lyrics from a www.songlyrics.com song page.\"\"\"\n",
    "    soup = BeautifulSoup(requests.get(url).content, )\n",
    "    return soup.find_all('p', attrs={'id':'songLyricsDiv'})[0].get_text('\\n', strip=True)"
   ]
  },
  {
   "cell_type": "code",
   "execution_count": 4,
   "metadata": {
    "collapsed": true
   },
   "outputs": [],
   "source": [
    "# Define variables\n",
    "base_url = 'http://www.songlyrics.com/news/top-songs/'\n",
    "start_year = 2011\n",
    "end_year = 1950"
   ]
  },
  {
   "cell_type": "code",
   "execution_count": 9,
   "metadata": {
    "collapsed": false
   },
   "outputs": [
    {
     "name": "stdout",
     "output_type": "stream",
     "text": [
      "2011\n",
      "2010\n",
      "2009\n",
      "2008\n",
      "2007\n",
      "2006\n",
      "2005\n",
      "2004\n",
      "2003\n",
      "2002\n",
      "2001\n",
      "2000\n",
      "1999\n",
      "1998\n",
      "1997\n",
      "1996\n",
      "1995\n",
      "1994\n",
      "1993\n",
      "1992\n",
      "1991\n",
      "1990\n",
      "1989\n",
      "1988\n",
      "1987\n",
      "1986\n",
      "1985\n",
      "1984\n",
      "1983\n",
      "1982\n",
      "1981\n",
      "1980\n",
      "1979\n",
      "1978\n",
      "1977\n",
      "1976\n",
      "1975\n",
      "1974\n",
      "1973\n",
      "1972\n",
      "1971\n",
      "1970\n",
      "1969\n",
      "1968\n",
      "1967\n",
      "1966\n",
      "1965\n",
      "1964\n",
      "1963\n",
      "1962\n",
      "1961\n",
      "1960\n",
      "1959\n",
      "1958\n",
      "1957\n",
      "1956\n",
      "1955\n",
      "1954\n",
      "1953\n",
      "1952\n",
      "1951\n",
      "1950\n"
     ]
    },
    {
     "ename": "NameError",
     "evalue": "name 'ConnectionError' is not defined",
     "output_type": "error",
     "traceback": [
      "\u001b[1;31m---------------------------------------------------------------------------\u001b[0m",
      "\u001b[1;31mNameError\u001b[0m                                 Traceback (most recent call last)",
      "\u001b[1;32m<ipython-input-9-0e54d49af0a8>\u001b[0m in \u001b[0;36m<module>\u001b[1;34m()\u001b[0m\n\u001b[0;32m     14\u001b[0m         \u001b[0msong_links\u001b[0m\u001b[1;33m.\u001b[0m\u001b[0mupdate\u001b[0m\u001b[1;33m(\u001b[0m\u001b[0mget_song_links\u001b[0m\u001b[1;33m(\u001b[0m\u001b[0murl\u001b[0m\u001b[1;33m)\u001b[0m\u001b[1;33m)\u001b[0m\u001b[1;33m\u001b[0m\u001b[0m\n\u001b[0;32m     15\u001b[0m         \u001b[0mretries\u001b[0m \u001b[1;33m=\u001b[0m \u001b[1;36m0\u001b[0m\u001b[1;33m\u001b[0m\u001b[0m\n\u001b[1;32m---> 16\u001b[1;33m     \u001b[1;32mexcept\u001b[0m \u001b[0mConnectionError\u001b[0m \u001b[1;32mas\u001b[0m \u001b[0me\u001b[0m\u001b[1;33m:\u001b[0m\u001b[1;33m\u001b[0m\u001b[0m\n\u001b[0m\u001b[0;32m     17\u001b[0m         \u001b[1;32mif\u001b[0m \u001b[0mretries\u001b[0m \u001b[1;33m<\u001b[0m \u001b[0mmax_retries\u001b[0m\u001b[1;33m:\u001b[0m\u001b[1;33m\u001b[0m\u001b[0m\n\u001b[0;32m     18\u001b[0m             \u001b[0mretries\u001b[0m \u001b[1;33m+=\u001b[0m \u001b[1;36m1\u001b[0m\u001b[1;33m\u001b[0m\u001b[0m\n",
      "\u001b[1;31mNameError\u001b[0m: name 'ConnectionError' is not defined"
     ]
    }
   ],
   "source": [
    "# Dict to hold song titles -> link to lyrics page.\n",
    "song_links = {}\n",
    "cur_year = start_year\n",
    "\n",
    "retries = 0\n",
    "max_retries = 3\n",
    "pause_length = 1   # in seconds\n",
    "\n",
    "# Loop through years and scrape links to lyric pages for each year's top 100 songs.\n",
    "while cur_year >= end_year:\n",
    "    print(cur_year)\n",
    "    url = base_url + str(cur_year)\n",
    "    try:\n",
    "        song_links.update(get_song_links(url))\n",
    "        retries = 0\n",
    "    except Exception as e:  # This should be ConnectionError\n",
    "        if retries < max_retries:\n",
    "            retries += 1\n",
    "            time.sleep(pause_length)\n",
    "            cur_year += 1\n",
    "        else:\n",
    "            print('Max retries reached.')\n",
    "            print(str(e))\n",
    "    cur_year -= 1"
   ]
  },
  {
   "cell_type": "code",
   "execution_count": 15,
   "metadata": {
    "collapsed": false
   },
   "outputs": [
    {
     "name": "stdout",
     "output_type": "stream",
     "text": [
      "Wall time: 1h 37min 15s\n"
     ]
    }
   ],
   "source": [
    "%%time\n",
    "# Dict to hold song titles -> lyrics\n",
    "song_lyrics = {}\n",
    "errors = {}\n",
    "# Visit the lyric pages for each song in song_links and scrape the lyrics.\n",
    "for artist_title, url in song_links.iteritems():\n",
    "    try:\n",
    "        song_lyrics[artist_title] = get_lyrics(url)\n",
    "    except Exception as e:\n",
    "        errors[artist_title] = e"
   ]
  },
  {
   "cell_type": "code",
   "execution_count": 16,
   "metadata": {
    "collapsed": false
   },
   "outputs": [
    {
     "data": {
      "text/plain": [
       "4936"
      ]
     },
     "execution_count": 16,
     "metadata": {},
     "output_type": "execute_result"
    }
   ],
   "source": [
    "len(song_lyrics)"
   ]
  },
  {
   "cell_type": "code",
   "execution_count": 17,
   "metadata": {
    "collapsed": false
   },
   "outputs": [
    {
     "data": {
      "text/plain": [
       "1157"
      ]
     },
     "execution_count": 17,
     "metadata": {},
     "output_type": "execute_result"
    }
   ],
   "source": [
    "len(errors)"
   ]
  },
  {
   "cell_type": "code",
   "execution_count": 18,
   "metadata": {
    "collapsed": false
   },
   "outputs": [],
   "source": [
    "# Convert tuples to lists.\n",
    "song_lyrics2 = [[list(k), v] for k,v in song_lyrics.items()]"
   ]
  },
  {
   "cell_type": "code",
   "execution_count": 19,
   "metadata": {
    "collapsed": false
   },
   "outputs": [],
   "source": [
    "# Save song lyrics.\n",
    "json.dump(song_lyrics2, open('data/song_lyrics_2.json', 'wt'), encoding='utf8')"
   ]
  },
  {
   "cell_type": "code",
   "execution_count": null,
   "metadata": {
    "collapsed": true
   },
   "outputs": [],
   "source": []
  },
  {
   "cell_type": "code",
   "execution_count": null,
   "metadata": {
    "collapsed": true
   },
   "outputs": [],
   "source": []
  },
  {
   "cell_type": "code",
   "execution_count": null,
   "metadata": {
    "collapsed": true
   },
   "outputs": [],
   "source": []
  },
  {
   "cell_type": "code",
   "execution_count": null,
   "metadata": {
    "collapsed": true
   },
   "outputs": [],
   "source": []
  },
  {
   "cell_type": "markdown",
   "metadata": {},
   "source": [
    "http://nlp.stanford.edu/IR-book/html/htmledition/document-and-query-weighting-schemes-1.html\n",
    "TextBlob"
   ]
  }
 ],
 "metadata": {
  "kernelspec": {
   "display_name": "Python 2",
   "language": "python",
   "name": "python2"
  },
  "language_info": {
   "codemirror_mode": {
    "name": "ipython",
    "version": 2
   },
   "file_extension": ".py",
   "mimetype": "text/x-python",
   "name": "python",
   "nbconvert_exporter": "python",
   "pygments_lexer": "ipython2",
   "version": "2.7.11"
  }
 },
 "nbformat": 4,
 "nbformat_minor": 0
}
