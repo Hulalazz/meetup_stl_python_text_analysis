{
 "cells": [
  {
   "cell_type": "code",
   "execution_count": 15,
   "metadata": {
    "collapsed": true
   },
   "outputs": [],
   "source": [
    "import requests\n",
    "from bs4 import BeautifulSoup\n",
    "import json"
   ]
  },
  {
   "cell_type": "code",
   "execution_count": 19,
   "metadata": {
    "collapsed": false
   },
   "outputs": [],
   "source": [
    "def get_song_links(url):\n",
    "    \"\"\"Gets song titles and URLs for the lyrics page for a www.songlyrics.com top-songs page.\"\"\"\n",
    "    soup = BeautifulSoup(requests.get(url).content)\n",
    "    trs = soup.find_all('table', class_='tracklist')[0].find_all('tr')\n",
    "    song_links = {}\n",
    "    year = url[:-4]\n",
    "    for row in trs[1:]:\n",
    "        tds = row.find_all('td')\n",
    "        artist = tds[1].get_text(strip=True)\n",
    "        a_tag = tds[2].a\n",
    "        song_links[(year, artist, a_tag['title'])] = a_tag['href']\n",
    "    return song_links"
   ]
  },
  {
   "cell_type": "code",
   "execution_count": 20,
   "metadata": {
    "collapsed": false
   },
   "outputs": [],
   "source": [
    "def get_lyrics(url):\n",
    "    \"\"\"Scrapes the lyrics from a www.songlyrics.com song page.\"\"\"\n",
    "    soup = BeautifulSoup(requests.get(url).content, )\n",
    "    return soup.find_all('p', attrs={'id':'songLyricsDiv'})[0].get_text('\\n', strip=True)"
   ]
  },
  {
   "cell_type": "code",
   "execution_count": 23,
   "metadata": {
    "collapsed": true
   },
   "outputs": [],
   "source": [
    "# Define variables\n",
    "base_url = 'http://www.songlyrics.com/news/top-songs/'\n",
    "start_year = 2011\n",
    "end_year = 1990"
   ]
  },
  {
   "cell_type": "code",
   "execution_count": 24,
   "metadata": {
    "collapsed": false
   },
   "outputs": [
    {
     "ename": "ConnectionError",
     "evalue": "HTTPConnectionPool(host='www.songlyrics.com', port=80): Max retries exceeded with url: /news/top-songs/2001 (Caused by NewConnectionError('<requests.packages.urllib3.connection.HTTPConnection object at 0x0488A550>: Failed to establish a new connection: [Errno 10060] A connection attempt failed because the connected party did not properly respond after a period of time, or established connection failed because connected host has failed to respond',))",
     "output_type": "error",
     "traceback": [
      "\u001b[1;31m---------------------------------------------------------------------------\u001b[0m",
      "\u001b[1;31mConnectionError\u001b[0m                           Traceback (most recent call last)",
      "\u001b[1;32m<ipython-input-24-ce284a31e155>\u001b[0m in \u001b[0;36m<module>\u001b[1;34m()\u001b[0m\n\u001b[1;32m----> 1\u001b[1;33m \u001b[0mget_ipython\u001b[0m\u001b[1;33m(\u001b[0m\u001b[1;33m)\u001b[0m\u001b[1;33m.\u001b[0m\u001b[0mrun_cell_magic\u001b[0m\u001b[1;33m(\u001b[0m\u001b[1;34mu'time'\u001b[0m\u001b[1;33m,\u001b[0m \u001b[1;34mu''\u001b[0m\u001b[1;33m,\u001b[0m \u001b[1;34mu\"# Dict to hold song titles -> link to lyrics page.\\nsong_links = {}\\ncur_year = start_year\\n\\n# Loop through years and scrape links to lyric pages for each year's top 100 songs.\\nwhile cur_year >= end_year:\\n    url = base_url + str(cur_year)\\n    song_links.update(get_song_links(url))\\n    cur_year -= 1\"\u001b[0m\u001b[1;33m)\u001b[0m\u001b[1;33m\u001b[0m\u001b[0m\n\u001b[0m",
      "\u001b[1;32mC:\\Users\\Matt\\Anaconda\\lib\\site-packages\\IPython\\core\\interactiveshell.pyc\u001b[0m in \u001b[0;36mrun_cell_magic\u001b[1;34m(self, magic_name, line, cell)\u001b[0m\n\u001b[0;32m   2291\u001b[0m             \u001b[0mmagic_arg_s\u001b[0m \u001b[1;33m=\u001b[0m \u001b[0mself\u001b[0m\u001b[1;33m.\u001b[0m\u001b[0mvar_expand\u001b[0m\u001b[1;33m(\u001b[0m\u001b[0mline\u001b[0m\u001b[1;33m,\u001b[0m \u001b[0mstack_depth\u001b[0m\u001b[1;33m)\u001b[0m\u001b[1;33m\u001b[0m\u001b[0m\n\u001b[0;32m   2292\u001b[0m             \u001b[1;32mwith\u001b[0m \u001b[0mself\u001b[0m\u001b[1;33m.\u001b[0m\u001b[0mbuiltin_trap\u001b[0m\u001b[1;33m:\u001b[0m\u001b[1;33m\u001b[0m\u001b[0m\n\u001b[1;32m-> 2293\u001b[1;33m                 \u001b[0mresult\u001b[0m \u001b[1;33m=\u001b[0m \u001b[0mfn\u001b[0m\u001b[1;33m(\u001b[0m\u001b[0mmagic_arg_s\u001b[0m\u001b[1;33m,\u001b[0m \u001b[0mcell\u001b[0m\u001b[1;33m)\u001b[0m\u001b[1;33m\u001b[0m\u001b[0m\n\u001b[0m\u001b[0;32m   2294\u001b[0m             \u001b[1;32mreturn\u001b[0m \u001b[0mresult\u001b[0m\u001b[1;33m\u001b[0m\u001b[0m\n\u001b[0;32m   2295\u001b[0m \u001b[1;33m\u001b[0m\u001b[0m\n",
      "\u001b[1;32mC:\\Users\\Matt\\Anaconda\\lib\\site-packages\\IPython\\core\\magics\\execution.pyc\u001b[0m in \u001b[0;36mtime\u001b[1;34m(self, line, cell, local_ns)\u001b[0m\n",
      "\u001b[1;32mC:\\Users\\Matt\\Anaconda\\lib\\site-packages\\IPython\\core\\magic.pyc\u001b[0m in \u001b[0;36m<lambda>\u001b[1;34m(f, *a, **k)\u001b[0m\n\u001b[0;32m    191\u001b[0m     \u001b[1;31m# but it's overkill for just that one bit of state.\u001b[0m\u001b[1;33m\u001b[0m\u001b[1;33m\u001b[0m\u001b[0m\n\u001b[0;32m    192\u001b[0m     \u001b[1;32mdef\u001b[0m \u001b[0mmagic_deco\u001b[0m\u001b[1;33m(\u001b[0m\u001b[0marg\u001b[0m\u001b[1;33m)\u001b[0m\u001b[1;33m:\u001b[0m\u001b[1;33m\u001b[0m\u001b[0m\n\u001b[1;32m--> 193\u001b[1;33m         \u001b[0mcall\u001b[0m \u001b[1;33m=\u001b[0m \u001b[1;32mlambda\u001b[0m \u001b[0mf\u001b[0m\u001b[1;33m,\u001b[0m \u001b[1;33m*\u001b[0m\u001b[0ma\u001b[0m\u001b[1;33m,\u001b[0m \u001b[1;33m**\u001b[0m\u001b[0mk\u001b[0m\u001b[1;33m:\u001b[0m \u001b[0mf\u001b[0m\u001b[1;33m(\u001b[0m\u001b[1;33m*\u001b[0m\u001b[0ma\u001b[0m\u001b[1;33m,\u001b[0m \u001b[1;33m**\u001b[0m\u001b[0mk\u001b[0m\u001b[1;33m)\u001b[0m\u001b[1;33m\u001b[0m\u001b[0m\n\u001b[0m\u001b[0;32m    194\u001b[0m \u001b[1;33m\u001b[0m\u001b[0m\n\u001b[0;32m    195\u001b[0m         \u001b[1;32mif\u001b[0m \u001b[0mcallable\u001b[0m\u001b[1;33m(\u001b[0m\u001b[0marg\u001b[0m\u001b[1;33m)\u001b[0m\u001b[1;33m:\u001b[0m\u001b[1;33m\u001b[0m\u001b[0m\n",
      "\u001b[1;32mC:\\Users\\Matt\\Anaconda\\lib\\site-packages\\IPython\\core\\magics\\execution.pyc\u001b[0m in \u001b[0;36mtime\u001b[1;34m(self, line, cell, local_ns)\u001b[0m\n\u001b[0;32m   1165\u001b[0m         \u001b[1;32melse\u001b[0m\u001b[1;33m:\u001b[0m\u001b[1;33m\u001b[0m\u001b[0m\n\u001b[0;32m   1166\u001b[0m             \u001b[0mst\u001b[0m \u001b[1;33m=\u001b[0m \u001b[0mclock2\u001b[0m\u001b[1;33m(\u001b[0m\u001b[1;33m)\u001b[0m\u001b[1;33m\u001b[0m\u001b[0m\n\u001b[1;32m-> 1167\u001b[1;33m             \u001b[1;32mexec\u001b[0m\u001b[1;33m(\u001b[0m\u001b[0mcode\u001b[0m\u001b[1;33m,\u001b[0m \u001b[0mglob\u001b[0m\u001b[1;33m,\u001b[0m \u001b[0mlocal_ns\u001b[0m\u001b[1;33m)\u001b[0m\u001b[1;33m\u001b[0m\u001b[0m\n\u001b[0m\u001b[0;32m   1168\u001b[0m             \u001b[0mend\u001b[0m \u001b[1;33m=\u001b[0m \u001b[0mclock2\u001b[0m\u001b[1;33m(\u001b[0m\u001b[1;33m)\u001b[0m\u001b[1;33m\u001b[0m\u001b[0m\n\u001b[0;32m   1169\u001b[0m             \u001b[0mout\u001b[0m \u001b[1;33m=\u001b[0m \u001b[0mNone\u001b[0m\u001b[1;33m\u001b[0m\u001b[0m\n",
      "\u001b[1;32m<timed exec>\u001b[0m in \u001b[0;36m<module>\u001b[1;34m()\u001b[0m\n",
      "\u001b[1;32m<ipython-input-19-aa5577bc4246>\u001b[0m in \u001b[0;36mget_song_links\u001b[1;34m(url)\u001b[0m\n\u001b[0;32m      1\u001b[0m \u001b[1;32mdef\u001b[0m \u001b[0mget_song_links\u001b[0m\u001b[1;33m(\u001b[0m\u001b[0murl\u001b[0m\u001b[1;33m)\u001b[0m\u001b[1;33m:\u001b[0m\u001b[1;33m\u001b[0m\u001b[0m\n\u001b[0;32m      2\u001b[0m     \u001b[1;34m\"\"\"Gets song titles and URLs for the lyrics page for a www.songlyrics.com top-songs page.\"\"\"\u001b[0m\u001b[1;33m\u001b[0m\u001b[0m\n\u001b[1;32m----> 3\u001b[1;33m     \u001b[0msoup\u001b[0m \u001b[1;33m=\u001b[0m \u001b[0mBeautifulSoup\u001b[0m\u001b[1;33m(\u001b[0m\u001b[0mrequests\u001b[0m\u001b[1;33m.\u001b[0m\u001b[0mget\u001b[0m\u001b[1;33m(\u001b[0m\u001b[0murl\u001b[0m\u001b[1;33m)\u001b[0m\u001b[1;33m.\u001b[0m\u001b[0mcontent\u001b[0m\u001b[1;33m)\u001b[0m\u001b[1;33m\u001b[0m\u001b[0m\n\u001b[0m\u001b[0;32m      4\u001b[0m     \u001b[0mtrs\u001b[0m \u001b[1;33m=\u001b[0m \u001b[0msoup\u001b[0m\u001b[1;33m.\u001b[0m\u001b[0mfind_all\u001b[0m\u001b[1;33m(\u001b[0m\u001b[1;34m'table'\u001b[0m\u001b[1;33m,\u001b[0m \u001b[0mclass_\u001b[0m\u001b[1;33m=\u001b[0m\u001b[1;34m'tracklist'\u001b[0m\u001b[1;33m)\u001b[0m\u001b[1;33m[\u001b[0m\u001b[1;36m0\u001b[0m\u001b[1;33m]\u001b[0m\u001b[1;33m.\u001b[0m\u001b[0mfind_all\u001b[0m\u001b[1;33m(\u001b[0m\u001b[1;34m'tr'\u001b[0m\u001b[1;33m)\u001b[0m\u001b[1;33m\u001b[0m\u001b[0m\n\u001b[0;32m      5\u001b[0m     \u001b[0msong_links\u001b[0m \u001b[1;33m=\u001b[0m \u001b[1;33m{\u001b[0m\u001b[1;33m}\u001b[0m\u001b[1;33m\u001b[0m\u001b[0m\n",
      "\u001b[1;32mC:\\Users\\Matt\\Anaconda\\lib\\site-packages\\requests\\api.pyc\u001b[0m in \u001b[0;36mget\u001b[1;34m(url, params, **kwargs)\u001b[0m\n\u001b[0;32m     67\u001b[0m \u001b[1;33m\u001b[0m\u001b[0m\n\u001b[0;32m     68\u001b[0m     \u001b[0mkwargs\u001b[0m\u001b[1;33m.\u001b[0m\u001b[0msetdefault\u001b[0m\u001b[1;33m(\u001b[0m\u001b[1;34m'allow_redirects'\u001b[0m\u001b[1;33m,\u001b[0m \u001b[0mTrue\u001b[0m\u001b[1;33m)\u001b[0m\u001b[1;33m\u001b[0m\u001b[0m\n\u001b[1;32m---> 69\u001b[1;33m     \u001b[1;32mreturn\u001b[0m \u001b[0mrequest\u001b[0m\u001b[1;33m(\u001b[0m\u001b[1;34m'get'\u001b[0m\u001b[1;33m,\u001b[0m \u001b[0murl\u001b[0m\u001b[1;33m,\u001b[0m \u001b[0mparams\u001b[0m\u001b[1;33m=\u001b[0m\u001b[0mparams\u001b[0m\u001b[1;33m,\u001b[0m \u001b[1;33m**\u001b[0m\u001b[0mkwargs\u001b[0m\u001b[1;33m)\u001b[0m\u001b[1;33m\u001b[0m\u001b[0m\n\u001b[0m\u001b[0;32m     70\u001b[0m \u001b[1;33m\u001b[0m\u001b[0m\n\u001b[0;32m     71\u001b[0m \u001b[1;33m\u001b[0m\u001b[0m\n",
      "\u001b[1;32mC:\\Users\\Matt\\Anaconda\\lib\\site-packages\\requests\\api.pyc\u001b[0m in \u001b[0;36mrequest\u001b[1;34m(method, url, **kwargs)\u001b[0m\n\u001b[0;32m     48\u001b[0m \u001b[1;33m\u001b[0m\u001b[0m\n\u001b[0;32m     49\u001b[0m     \u001b[0msession\u001b[0m \u001b[1;33m=\u001b[0m \u001b[0msessions\u001b[0m\u001b[1;33m.\u001b[0m\u001b[0mSession\u001b[0m\u001b[1;33m(\u001b[0m\u001b[1;33m)\u001b[0m\u001b[1;33m\u001b[0m\u001b[0m\n\u001b[1;32m---> 50\u001b[1;33m     \u001b[0mresponse\u001b[0m \u001b[1;33m=\u001b[0m \u001b[0msession\u001b[0m\u001b[1;33m.\u001b[0m\u001b[0mrequest\u001b[0m\u001b[1;33m(\u001b[0m\u001b[0mmethod\u001b[0m\u001b[1;33m=\u001b[0m\u001b[0mmethod\u001b[0m\u001b[1;33m,\u001b[0m \u001b[0murl\u001b[0m\u001b[1;33m=\u001b[0m\u001b[0murl\u001b[0m\u001b[1;33m,\u001b[0m \u001b[1;33m**\u001b[0m\u001b[0mkwargs\u001b[0m\u001b[1;33m)\u001b[0m\u001b[1;33m\u001b[0m\u001b[0m\n\u001b[0m\u001b[0;32m     51\u001b[0m     \u001b[1;31m# By explicitly closing the session, we avoid leaving sockets open which\u001b[0m\u001b[1;33m\u001b[0m\u001b[1;33m\u001b[0m\u001b[0m\n\u001b[0;32m     52\u001b[0m     \u001b[1;31m# can trigger a ResourceWarning in some cases, and look like a memory leak\u001b[0m\u001b[1;33m\u001b[0m\u001b[1;33m\u001b[0m\u001b[0m\n",
      "\u001b[1;32mC:\\Users\\Matt\\Anaconda\\lib\\site-packages\\requests\\sessions.pyc\u001b[0m in \u001b[0;36mrequest\u001b[1;34m(self, method, url, params, data, headers, cookies, files, auth, timeout, allow_redirects, proxies, hooks, stream, verify, cert, json)\u001b[0m\n\u001b[0;32m    466\u001b[0m         }\n\u001b[0;32m    467\u001b[0m         \u001b[0msend_kwargs\u001b[0m\u001b[1;33m.\u001b[0m\u001b[0mupdate\u001b[0m\u001b[1;33m(\u001b[0m\u001b[0msettings\u001b[0m\u001b[1;33m)\u001b[0m\u001b[1;33m\u001b[0m\u001b[0m\n\u001b[1;32m--> 468\u001b[1;33m         \u001b[0mresp\u001b[0m \u001b[1;33m=\u001b[0m \u001b[0mself\u001b[0m\u001b[1;33m.\u001b[0m\u001b[0msend\u001b[0m\u001b[1;33m(\u001b[0m\u001b[0mprep\u001b[0m\u001b[1;33m,\u001b[0m \u001b[1;33m**\u001b[0m\u001b[0msend_kwargs\u001b[0m\u001b[1;33m)\u001b[0m\u001b[1;33m\u001b[0m\u001b[0m\n\u001b[0m\u001b[0;32m    469\u001b[0m \u001b[1;33m\u001b[0m\u001b[0m\n\u001b[0;32m    470\u001b[0m         \u001b[1;32mreturn\u001b[0m \u001b[0mresp\u001b[0m\u001b[1;33m\u001b[0m\u001b[0m\n",
      "\u001b[1;32mC:\\Users\\Matt\\Anaconda\\lib\\site-packages\\requests\\sessions.pyc\u001b[0m in \u001b[0;36msend\u001b[1;34m(self, request, **kwargs)\u001b[0m\n\u001b[0;32m    574\u001b[0m \u001b[1;33m\u001b[0m\u001b[0m\n\u001b[0;32m    575\u001b[0m         \u001b[1;31m# Send the request\u001b[0m\u001b[1;33m\u001b[0m\u001b[1;33m\u001b[0m\u001b[0m\n\u001b[1;32m--> 576\u001b[1;33m         \u001b[0mr\u001b[0m \u001b[1;33m=\u001b[0m \u001b[0madapter\u001b[0m\u001b[1;33m.\u001b[0m\u001b[0msend\u001b[0m\u001b[1;33m(\u001b[0m\u001b[0mrequest\u001b[0m\u001b[1;33m,\u001b[0m \u001b[1;33m**\u001b[0m\u001b[0mkwargs\u001b[0m\u001b[1;33m)\u001b[0m\u001b[1;33m\u001b[0m\u001b[0m\n\u001b[0m\u001b[0;32m    577\u001b[0m \u001b[1;33m\u001b[0m\u001b[0m\n\u001b[0;32m    578\u001b[0m         \u001b[1;31m# Total elapsed time of the request (approximately)\u001b[0m\u001b[1;33m\u001b[0m\u001b[1;33m\u001b[0m\u001b[0m\n",
      "\u001b[1;32mC:\\Users\\Matt\\Anaconda\\lib\\site-packages\\requests\\adapters.pyc\u001b[0m in \u001b[0;36msend\u001b[1;34m(self, request, stream, timeout, verify, cert, proxies)\u001b[0m\n\u001b[0;32m    421\u001b[0m                 \u001b[1;32mraise\u001b[0m \u001b[0mRetryError\u001b[0m\u001b[1;33m(\u001b[0m\u001b[0me\u001b[0m\u001b[1;33m,\u001b[0m \u001b[0mrequest\u001b[0m\u001b[1;33m=\u001b[0m\u001b[0mrequest\u001b[0m\u001b[1;33m)\u001b[0m\u001b[1;33m\u001b[0m\u001b[0m\n\u001b[0;32m    422\u001b[0m \u001b[1;33m\u001b[0m\u001b[0m\n\u001b[1;32m--> 423\u001b[1;33m             \u001b[1;32mraise\u001b[0m \u001b[0mConnectionError\u001b[0m\u001b[1;33m(\u001b[0m\u001b[0me\u001b[0m\u001b[1;33m,\u001b[0m \u001b[0mrequest\u001b[0m\u001b[1;33m=\u001b[0m\u001b[0mrequest\u001b[0m\u001b[1;33m)\u001b[0m\u001b[1;33m\u001b[0m\u001b[0m\n\u001b[0m\u001b[0;32m    424\u001b[0m \u001b[1;33m\u001b[0m\u001b[0m\n\u001b[0;32m    425\u001b[0m         \u001b[1;32mexcept\u001b[0m \u001b[0mClosedPoolError\u001b[0m \u001b[1;32mas\u001b[0m \u001b[0me\u001b[0m\u001b[1;33m:\u001b[0m\u001b[1;33m\u001b[0m\u001b[0m\n",
      "\u001b[1;31mConnectionError\u001b[0m: HTTPConnectionPool(host='www.songlyrics.com', port=80): Max retries exceeded with url: /news/top-songs/2001 (Caused by NewConnectionError('<requests.packages.urllib3.connection.HTTPConnection object at 0x0488A550>: Failed to establish a new connection: [Errno 10060] A connection attempt failed because the connected party did not properly respond after a period of time, or established connection failed because connected host has failed to respond',))"
     ]
    }
   ],
   "source": [
    "%%time\n",
    "# Dict to hold song titles -> link to lyrics page.\n",
    "song_links = {}\n",
    "cur_year = start_year\n",
    "\n",
    "# Loop through years and scrape links to lyric pages for each year's top 100 songs.\n",
    "while cur_year >= end_year:\n",
    "    url = base_url + str(cur_year)\n",
    "    song_links.update(get_song_links(url))\n",
    "    cur_year -= 1"
   ]
  },
  {
   "cell_type": "code",
   "execution_count": 51,
   "metadata": {
    "collapsed": false
   },
   "outputs": [],
   "source": [
    "%%time\n",
    "# Dict to hold song titles -> lyrics\n",
    "song_lyrics = {}\n",
    "errors = {}\n",
    "# Visit the lyric pages for each song in song_links and scrape the lyrics.\n",
    "for artist_title, url in song_links.iteritems():\n",
    "    try:\n",
    "        song_lyrics[artist_title] = get_lyrics(url)\n",
    "    except Exception as e:\n",
    "        errors[artist_title] = e"
   ]
  },
  {
   "cell_type": "code",
   "execution_count": 52,
   "metadata": {
    "collapsed": true
   },
   "outputs": [
    {
     "name": "stdout",
     "output_type": "stream",
     "text": [
      "Who Says you can't Go Home Lyrics  Bon Jovi\n",
      "I spent twenty years tryin' to get out of this place\n",
      "I was lookin' for somethin' I couldn't replace\n",
      "I was runnin' away from the only thing I've ever known\n",
      "And like a blind dog without a bone\n",
      "I was a gypsy lost in the twilight zone\n",
      "I hijacked a rainbow and crashed into a pot of gold\n",
      "I've been there, done that, now I ain't lookin' back\n",
      "And the seeds I've sown, savin' dimes\n",
      "Spendin' too much time on the telephone\n",
      "Who says you can't go home?\n",
      "Who says you can't go home?\n",
      "There's only one place that call me one of their own\n",
      "Just a hometown boy, born a rollin' stone\n",
      "Who says you can't go home?\n",
      "Who says you can't go back?\n",
      "Been all around the world and as a matter of fact\n",
      "There's only one place left, I want to go\n",
      "Who says you can't go home? It's alright\n",
      "It's alright, it's alright, it's alright, it's alright\n",
      "I went as far as I could, I tried to find a new face\n",
      "There isn't one of these lines that I would erase\n",
      "I left a million mile of memories on that road\n",
      "Every step I take, I know that I'm not alone\n",
      "You take the home from the boy but not the boy from his home\n",
      "These are my streets, the only life I've ever known\n",
      "Who says you can't go home?\n",
      "Who says you can't go home?\n",
      "There's only one place that call me one of their own\n",
      "Just a hometown boy, born a rollin' stone\n",
      "Who says you can't go home?\n",
      "Who says you can't go back?\n",
      "Been all around the world and as a matter of fact\n",
      "There's only one place left, I want to go\n",
      "Who says you can't go home?\n",
      "It's alright, it's alright, it's alright, it's alright\n",
      "It's alright, who says you can't go home?\n",
      "It's alright, it's alright, it's alright, it's alright\n",
      "It's alright, who says you can't go home?\n",
      "I've been there, done that, now I ain't lookin' back\n",
      "It's been a long, long road, feels like I've never left\n",
      "That's how the story goes\n",
      "It doesn't matter where you are, doesn't matter where you go\n",
      "If it's a million miles away or just a mile up the road\n",
      "Take it in, take it with you when you go\n",
      "Who says you can't go home?\n",
      "Who says you can't go home?\n",
      "There's only one place that call me one of their own\n",
      "Just a hometown boy, born a rollin' stone\n",
      "Who says you can't go home?\n",
      "Who says you can't go back?\n",
      "Been all around the world and as a matter of fact\n",
      "There's only one place left, I want to go\n",
      "Who says you can't go home?\n",
      "It's alright, it's alright, it's alright, it's alright\n",
      "It's alright, it's alright, it's alright, it's alright\n",
      "It's alright, it's alright, it's alright\n",
      "Who says you can't go home?\n",
      "It's alright, it's alright, it's alright, it's alright\n",
      "It's alright, who says you can't go home?\n",
      "It's alright, it's alright, it's alright, it's alright\n",
      "It's alright, who says you can't go home?\n"
     ]
    }
   ],
   "source": [
    "tup = song_lyrics.items()[2]\n",
    "print(tup[0] +'\\n'+ tup[1])"
   ]
  },
  {
   "cell_type": "code",
   "execution_count": 11,
   "metadata": {
    "collapsed": false
   },
   "outputs": [
    {
     "ename": "NameError",
     "evalue": "name 'song_lyrics' is not defined",
     "output_type": "error",
     "traceback": [
      "\u001b[1;31m---------------------------------------------------------------------------\u001b[0m",
      "\u001b[1;31mNameError\u001b[0m                                 Traceback (most recent call last)",
      "\u001b[1;32m<ipython-input-11-accd9a6663af>\u001b[0m in \u001b[0;36m<module>\u001b[1;34m()\u001b[0m\n\u001b[1;32m----> 1\u001b[1;33m \u001b[0mlen\u001b[0m\u001b[1;33m(\u001b[0m\u001b[0msong_lyrics\u001b[0m\u001b[1;33m)\u001b[0m\u001b[1;33m\u001b[0m\u001b[0m\n\u001b[0m",
      "\u001b[1;31mNameError\u001b[0m: name 'song_lyrics' is not defined"
     ]
    }
   ],
   "source": [
    "len(song_lyrics)"
   ]
  },
  {
   "cell_type": "code",
   "execution_count": 56,
   "metadata": {
    "collapsed": false
   },
   "outputs": [
    {
     "data": {
      "text/plain": [
       "['The Space Between Lyrics  Dave Matthews Band']"
      ]
     },
     "execution_count": 56,
     "metadata": {},
     "output_type": "execute_result"
    }
   ],
   "source": [
    "[k for k in song_lyrics.keys() if 'matthews' in k.lower()]"
   ]
  },
  {
   "cell_type": "code",
   "execution_count": 57,
   "metadata": {
    "collapsed": false
   },
   "outputs": [
    {
     "data": {
      "text/plain": [
       "{'1 Thing Lyrics  Amerie': IndexError('list index out of range'),\n",
       " 'Any Time, Any Place / And On And On Lyrics  Janet Jackson': IndexError('list index out of range'),\n",
       " 'Before You Walk Out Of My Life / Like This And Like That Lyrics  Monica': IndexError('list index out of range'),\n",
       " 'Big Poppa / Warning Lyrics  Notorious B.I.G.': IndexError('list index out of range'),\n",
       " 'Boombastic / In The Summertime Lyrics  Shaggy': IndexError('list index out of range'),\n",
       " \"C'mon And Get My Love Lyrics  D-Mob With Cathy Dennis\": requests.exceptions.InvalidSchema(u\"No connection adapters were found for ' http://www.songlyrics.com/d-mob-introducing-cathy-dennis/c-mon-and-get-my-love-lyrics/'\"),\n",
       " 'Dear Mama / Old School Lyrics Tupac': IndexError('list index out of range'),\n",
       " 'Do For Love Lyrics Tupac': requests.exceptions.InvalidSchema(u\"No connection adapters were found for ' http://www.songlyrics.com/tupac/do-for-love-lyrics/'\"),\n",
       " \"Don't Know Much Lyrics  Linda Ronstadt and Aaron Neville\": IndexError('list index out of range'),\n",
       " \"Don't Wanna Fall In Love Lyrics  Jane Child\": requests.exceptions.InvalidSchema(u\"No connection adapters were found for ' http://www.songlyrics.com/jane-child/don-t-wanna-fall-in-love-lyrics/'\"),\n",
       " 'Dream About You-Funky Melody Lyrics  Stevie B': IndexError('list index out of range'),\n",
       " 'Follow You Down / Til I Hear It From You Lyrics  Gin Blossoms': IndexError('list index out of range'),\n",
       " \"Friday I'm In Love Lyrics  Cure\": IndexError('list index out of range'),\n",
       " 'Have You Ever Needed Somone So Bad Lyrics  Def Leppard': IndexError('list index out of range'),\n",
       " 'Hollaback Girl Lyrics  Gwen Stefani': requests.exceptions.ConnectionError(requests.packages.urllib3.exceptions.ProtocolError('Connection aborted.',\n",
       "                                                                                        socket.error(10060,\n",
       "                                                                                                     'A connection attempt failed because the connected party did not properly respond after a period of time, or established connection failed because connected host has failed to respond'))),\n",
       " 'How Do U Want It / California Love Lyrics Tupac': IndexError('list index out of range'),\n",
       " \"I Don't Want To / I Love Me Some Him Lyrics  Toni Braxton\": IndexError('list index out of range'),\n",
       " 'I Got Id / Long Road Lyrics  Pearl Jam': IndexError('list index out of range'),\n",
       " \"I'll Be There For You-You're All I Need To Get By Lyrics  Method Man-Mary J. Blige\": IndexError('list index out of range'),\n",
       " 'Lonely No More Lyrics  Rob Thomas': requests.exceptions.InvalidSchema(u\"No connection adapters were found for ' http://www.songlyrics.com/rob-thomas/lonely-no-more-lyrics/'\"),\n",
       " 'Mr. Know It All Lyrics Kelly Clarkson': requests.exceptions.ConnectionError(requests.packages.urllib3.exceptions.ProtocolError('Connection aborted.',\n",
       "                                                                                        socket.error(10060,\n",
       "                                                                                                     'A connection attempt failed because the connected party did not properly respond after a period of time, or established connection failed because connected host has failed to respond'))),\n",
       " 'Romeo And Juliet Lyrics Sylk-E Fyne': requests.exceptions.InvalidSchema(u\"No connection adapters were found for '0http://www.songlyrics.com/sylk-e-fyne/romeo-and-juliet-lyrics/'\"),\n",
       " 'Scream / Childhood Lyrics  Michael Jackson and Janet Jackson': IndexError('list index out of range'),\n",
       " 'Silent Lucidity Lyrics  Queensryche': requests.exceptions.TooManyRedirects('Exceeded 30 redirects.'),\n",
       " 'Stay (I Missed You) Lyrics  Lisa Loeb and Nine Stories': IndexError('list index out of range'),\n",
       " 'Still Not A Player Lyrics Big Punisher feat. Joe': requests.exceptions.MissingSchema(\"Invalid URL ' 2Pac': No schema supplied. Perhaps you meant http:// 2Pac?\"),\n",
       " 'Temptation Lyrics  Corina': requests.exceptions.ConnectionError(requests.packages.urllib3.exceptions.ProtocolError('Connection aborted.',\n",
       "                                                                                        socket.error(10060,\n",
       "                                                                                                     'A connection attempt failed because the connected party did not properly respond after a period of time, or established connection failed because connected host has failed to respond'))),\n",
       " 'Turn Off the Light Lyrics  Nelly Furtado': requests.exceptions.ConnectionError(requests.packages.urllib3.exceptions.ProtocolError('Connection aborted.',\n",
       "                                                                                        socket.error(10060,\n",
       "                                                                                                     'A connection attempt failed because the connected party did not properly respond after a period of time, or established connection failed because connected host has failed to respond'))),\n",
       " \"When You're Gone / Free To Decide Lyrics  Cranberries\": IndexError('list index out of range'),\n",
       " \"Why I Love You So Much / Ain't Nobody Lyrics  Monica\": IndexError('list index out of range'),\n",
       " 'Without You / Never Forget You Lyrics  Mariah Carey': IndexError('list index out of range'),\n",
       " 'Woo-hah!! Got You All In Check / Everything Remains Raw Lyrics  Busta Rhymes': IndexError('list index out of range'),\n",
       " 'You Learn / You Oughta Know Lyrics  Alanis Morissette': IndexError('list index out of range'),\n",
       " \"You Want This-70's Love Groove Lyrics  Janet Jackson\": IndexError('list index out of range'),\n",
       " \"You're Makin' Me High / Let It Flow Lyrics  Toni Braxton\": IndexError('list index out of range')}"
      ]
     },
     "execution_count": 57,
     "metadata": {},
     "output_type": "execute_result"
    }
   ],
   "source": [
    "errors"
   ]
  },
  {
   "cell_type": "code",
   "execution_count": 58,
   "metadata": {
    "collapsed": false
   },
   "outputs": [
    {
     "data": {
      "text/plain": [
       "35"
      ]
     },
     "execution_count": 58,
     "metadata": {},
     "output_type": "execute_result"
    }
   ],
   "source": [
    "len(errors)"
   ]
  },
  {
   "cell_type": "code",
   "execution_count": null,
   "metadata": {
    "collapsed": true
   },
   "outputs": [],
   "source": [
    "# Save song lyrics.\n",
    "json.dump(song_lyrics, open('data/song_lyrics.json', 'wt'), encoding='utf8')"
   ]
  },
  {
   "cell_type": "code",
   "execution_count": null,
   "metadata": {
    "collapsed": true
   },
   "outputs": [],
   "source": []
  },
  {
   "cell_type": "code",
   "execution_count": null,
   "metadata": {
    "collapsed": true
   },
   "outputs": [],
   "source": []
  },
  {
   "cell_type": "code",
   "execution_count": null,
   "metadata": {
    "collapsed": true
   },
   "outputs": [],
   "source": []
  },
  {
   "cell_type": "code",
   "execution_count": null,
   "metadata": {
    "collapsed": true
   },
   "outputs": [],
   "source": []
  },
  {
   "cell_type": "markdown",
   "metadata": {},
   "source": [
    "http://nlp.stanford.edu/IR-book/html/htmledition/document-and-query-weighting-schemes-1.html\n",
    "TextBlob"
   ]
  }
 ],
 "metadata": {
  "kernelspec": {
   "display_name": "Python 2",
   "language": "python",
   "name": "python2"
  },
  "language_info": {
   "codemirror_mode": {
    "name": "ipython",
    "version": 2
   },
   "file_extension": ".py",
   "mimetype": "text/x-python",
   "name": "python",
   "nbconvert_exporter": "python",
   "pygments_lexer": "ipython2",
   "version": "2.7.11"
  }
 },
 "nbformat": 4,
 "nbformat_minor": 0
}
